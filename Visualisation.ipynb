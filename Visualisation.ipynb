{
 "cells": [
  {
   "cell_type": "code",
   "execution_count": 235,
   "metadata": {},
   "outputs": [],
   "source": [
    "import pandas as pd\n",
    "import numpy as np"
   ]
  },
  {
   "cell_type": "code",
   "execution_count": 236,
   "metadata": {},
   "outputs": [],
   "source": [
    "df=pd.read_csv(r\"E:\\ML\\Rice\\Chevron_2021_Datathon_Challenge\\filesForStartOfDatathon\\training.csv\")"
   ]
  },
  {
   "cell_type": "code",
   "execution_count": 237,
   "metadata": {},
   "outputs": [],
   "source": [
    "month = []\n",
    "for row in df['dayOfTheYear']:\n",
    "        if  row >= 1 and row <32 :  month.append('January') \n",
    "        elif row >= 32 and row <60 :  month.append('February')\n",
    "        elif row >= 60 and row <91 :  month.append('March')\n",
    "        elif row >= 91 and row <121 :  month.append('April')\n",
    "        elif row >= 121 and row <152 :  month.append('May')\n",
    "        elif row >= 152 and row <182 :  month.append('June')\n",
    "        elif row >= 182 and row <213 :  month.append('July')\n",
    "        elif row >= 213 and row <244 :  month.append('August')\n",
    "        elif row >= 244 and row <274:  month.append('September')\n",
    "        elif row >= 274 and row <305 :  month.append('October')\n",
    "        elif row >= 305 and row <335 :  month.append('November')\n",
    "        elif row >= 335 and row <366 :  month.append('December')\n",
    "        \n",
    "        \n",
    "        else:month.append('')"
   ]
  },
  {
   "cell_type": "code",
   "execution_count": 238,
   "metadata": {},
   "outputs": [],
   "source": [
    "month = pd.Series(month)\n",
    "df[\"Month\"] = month.values"
   ]
  },
  {
   "cell_type": "code",
   "execution_count": 239,
   "metadata": {},
   "outputs": [
    {
     "data": {
      "text/html": [
       "<div>\n",
       "<style scoped>\n",
       "    .dataframe tbody tr th:only-of-type {\n",
       "        vertical-align: middle;\n",
       "    }\n",
       "\n",
       "    .dataframe tbody tr th {\n",
       "        vertical-align: top;\n",
       "    }\n",
       "\n",
       "    .dataframe thead th {\n",
       "        text-align: right;\n",
       "    }\n",
       "</style>\n",
       "<table border=\"1\" class=\"dataframe\">\n",
       "  <thead>\n",
       "    <tr style=\"text-align: right;\">\n",
       "      <th></th>\n",
       "      <th>StoreNumber</th>\n",
       "      <th>dayOfTheYear</th>\n",
       "      <th>3HourBucket</th>\n",
       "      <th>GrossSoldQuantity</th>\n",
       "      <th>Cash/Credit Site</th>\n",
       "      <th>EBT Site</th>\n",
       "      <th>Loyalty Site</th>\n",
       "      <th>ExtraMile Site</th>\n",
       "      <th>CoBrand</th>\n",
       "      <th>Alcohol</th>\n",
       "      <th>Carwash</th>\n",
       "      <th>Food Service</th>\n",
       "      <th>City</th>\n",
       "      <th>State</th>\n",
       "      <th>Month</th>\n",
       "    </tr>\n",
       "  </thead>\n",
       "  <tbody>\n",
       "    <tr>\n",
       "      <th>0</th>\n",
       "      <td>1000</td>\n",
       "      <td>1</td>\n",
       "      <td>1</td>\n",
       "      <td>3</td>\n",
       "      <td>False</td>\n",
       "      <td>True</td>\n",
       "      <td>True</td>\n",
       "      <td>True</td>\n",
       "      <td>No</td>\n",
       "      <td>True</td>\n",
       "      <td>False</td>\n",
       "      <td>True</td>\n",
       "      <td>HOUSTON</td>\n",
       "      <td>TX</td>\n",
       "      <td>January</td>\n",
       "    </tr>\n",
       "    <tr>\n",
       "      <th>1</th>\n",
       "      <td>1000</td>\n",
       "      <td>1</td>\n",
       "      <td>2</td>\n",
       "      <td>5</td>\n",
       "      <td>False</td>\n",
       "      <td>True</td>\n",
       "      <td>True</td>\n",
       "      <td>True</td>\n",
       "      <td>No</td>\n",
       "      <td>True</td>\n",
       "      <td>False</td>\n",
       "      <td>True</td>\n",
       "      <td>HOUSTON</td>\n",
       "      <td>TX</td>\n",
       "      <td>January</td>\n",
       "    </tr>\n",
       "    <tr>\n",
       "      <th>2</th>\n",
       "      <td>1000</td>\n",
       "      <td>1</td>\n",
       "      <td>3</td>\n",
       "      <td>6</td>\n",
       "      <td>False</td>\n",
       "      <td>True</td>\n",
       "      <td>True</td>\n",
       "      <td>True</td>\n",
       "      <td>No</td>\n",
       "      <td>True</td>\n",
       "      <td>False</td>\n",
       "      <td>True</td>\n",
       "      <td>HOUSTON</td>\n",
       "      <td>TX</td>\n",
       "      <td>January</td>\n",
       "    </tr>\n",
       "    <tr>\n",
       "      <th>3</th>\n",
       "      <td>1000</td>\n",
       "      <td>1</td>\n",
       "      <td>4</td>\n",
       "      <td>3</td>\n",
       "      <td>False</td>\n",
       "      <td>True</td>\n",
       "      <td>True</td>\n",
       "      <td>True</td>\n",
       "      <td>No</td>\n",
       "      <td>True</td>\n",
       "      <td>False</td>\n",
       "      <td>True</td>\n",
       "      <td>HOUSTON</td>\n",
       "      <td>TX</td>\n",
       "      <td>January</td>\n",
       "    </tr>\n",
       "    <tr>\n",
       "      <th>4</th>\n",
       "      <td>1000</td>\n",
       "      <td>2</td>\n",
       "      <td>1</td>\n",
       "      <td>13</td>\n",
       "      <td>False</td>\n",
       "      <td>True</td>\n",
       "      <td>True</td>\n",
       "      <td>True</td>\n",
       "      <td>No</td>\n",
       "      <td>True</td>\n",
       "      <td>False</td>\n",
       "      <td>True</td>\n",
       "      <td>HOUSTON</td>\n",
       "      <td>TX</td>\n",
       "      <td>January</td>\n",
       "    </tr>\n",
       "  </tbody>\n",
       "</table>\n",
       "</div>"
      ],
      "text/plain": [
       "   StoreNumber  dayOfTheYear  3HourBucket  GrossSoldQuantity  \\\n",
       "0         1000             1            1                  3   \n",
       "1         1000             1            2                  5   \n",
       "2         1000             1            3                  6   \n",
       "3         1000             1            4                  3   \n",
       "4         1000             2            1                 13   \n",
       "\n",
       "   Cash/Credit Site  EBT Site  Loyalty Site  ExtraMile Site CoBrand  Alcohol  \\\n",
       "0             False      True          True            True      No     True   \n",
       "1             False      True          True            True      No     True   \n",
       "2             False      True          True            True      No     True   \n",
       "3             False      True          True            True      No     True   \n",
       "4             False      True          True            True      No     True   \n",
       "\n",
       "   Carwash  Food Service     City State    Month  \n",
       "0    False          True  HOUSTON    TX  January  \n",
       "1    False          True  HOUSTON    TX  January  \n",
       "2    False          True  HOUSTON    TX  January  \n",
       "3    False          True  HOUSTON    TX  January  \n",
       "4    False          True  HOUSTON    TX  January  "
      ]
     },
     "execution_count": 239,
     "metadata": {},
     "output_type": "execute_result"
    }
   ],
   "source": [
    "df.head()"
   ]
  },
  {
   "cell_type": "code",
   "execution_count": 240,
   "metadata": {},
   "outputs": [],
   "source": [
    "Weekend=[]\n",
    "for row in df['dayOfTheYear']:        \n",
    "    if row%7==2 or row%7==3 or row%7==4:Weekend.append(1)\n",
    "    else:Weekend.append(0)"
   ]
  },
  {
   "cell_type": "code",
   "execution_count": 241,
   "metadata": {},
   "outputs": [],
   "source": [
    "weekend = pd.Series(Weekend)\n",
    "df[\"WeekEnd\"] = weekend.values"
   ]
  },
  {
   "cell_type": "code",
   "execution_count": 242,
   "metadata": {},
   "outputs": [
    {
     "data": {
      "text/html": [
       "<div>\n",
       "<style scoped>\n",
       "    .dataframe tbody tr th:only-of-type {\n",
       "        vertical-align: middle;\n",
       "    }\n",
       "\n",
       "    .dataframe tbody tr th {\n",
       "        vertical-align: top;\n",
       "    }\n",
       "\n",
       "    .dataframe thead th {\n",
       "        text-align: right;\n",
       "    }\n",
       "</style>\n",
       "<table border=\"1\" class=\"dataframe\">\n",
       "  <thead>\n",
       "    <tr style=\"text-align: right;\">\n",
       "      <th></th>\n",
       "      <th>StoreNumber</th>\n",
       "      <th>dayOfTheYear</th>\n",
       "      <th>3HourBucket</th>\n",
       "      <th>GrossSoldQuantity</th>\n",
       "      <th>Cash/Credit Site</th>\n",
       "      <th>EBT Site</th>\n",
       "      <th>Loyalty Site</th>\n",
       "      <th>ExtraMile Site</th>\n",
       "      <th>CoBrand</th>\n",
       "      <th>Alcohol</th>\n",
       "      <th>Carwash</th>\n",
       "      <th>Food Service</th>\n",
       "      <th>City</th>\n",
       "      <th>State</th>\n",
       "      <th>Month</th>\n",
       "      <th>WeekEnd</th>\n",
       "    </tr>\n",
       "  </thead>\n",
       "  <tbody>\n",
       "    <tr>\n",
       "      <th>0</th>\n",
       "      <td>1000</td>\n",
       "      <td>1</td>\n",
       "      <td>1</td>\n",
       "      <td>3</td>\n",
       "      <td>False</td>\n",
       "      <td>True</td>\n",
       "      <td>True</td>\n",
       "      <td>True</td>\n",
       "      <td>No</td>\n",
       "      <td>True</td>\n",
       "      <td>False</td>\n",
       "      <td>True</td>\n",
       "      <td>HOUSTON</td>\n",
       "      <td>TX</td>\n",
       "      <td>January</td>\n",
       "      <td>0</td>\n",
       "    </tr>\n",
       "    <tr>\n",
       "      <th>1</th>\n",
       "      <td>1000</td>\n",
       "      <td>1</td>\n",
       "      <td>2</td>\n",
       "      <td>5</td>\n",
       "      <td>False</td>\n",
       "      <td>True</td>\n",
       "      <td>True</td>\n",
       "      <td>True</td>\n",
       "      <td>No</td>\n",
       "      <td>True</td>\n",
       "      <td>False</td>\n",
       "      <td>True</td>\n",
       "      <td>HOUSTON</td>\n",
       "      <td>TX</td>\n",
       "      <td>January</td>\n",
       "      <td>0</td>\n",
       "    </tr>\n",
       "    <tr>\n",
       "      <th>2</th>\n",
       "      <td>1000</td>\n",
       "      <td>1</td>\n",
       "      <td>3</td>\n",
       "      <td>6</td>\n",
       "      <td>False</td>\n",
       "      <td>True</td>\n",
       "      <td>True</td>\n",
       "      <td>True</td>\n",
       "      <td>No</td>\n",
       "      <td>True</td>\n",
       "      <td>False</td>\n",
       "      <td>True</td>\n",
       "      <td>HOUSTON</td>\n",
       "      <td>TX</td>\n",
       "      <td>January</td>\n",
       "      <td>0</td>\n",
       "    </tr>\n",
       "    <tr>\n",
       "      <th>3</th>\n",
       "      <td>1000</td>\n",
       "      <td>1</td>\n",
       "      <td>4</td>\n",
       "      <td>3</td>\n",
       "      <td>False</td>\n",
       "      <td>True</td>\n",
       "      <td>True</td>\n",
       "      <td>True</td>\n",
       "      <td>No</td>\n",
       "      <td>True</td>\n",
       "      <td>False</td>\n",
       "      <td>True</td>\n",
       "      <td>HOUSTON</td>\n",
       "      <td>TX</td>\n",
       "      <td>January</td>\n",
       "      <td>0</td>\n",
       "    </tr>\n",
       "    <tr>\n",
       "      <th>4</th>\n",
       "      <td>1000</td>\n",
       "      <td>2</td>\n",
       "      <td>1</td>\n",
       "      <td>13</td>\n",
       "      <td>False</td>\n",
       "      <td>True</td>\n",
       "      <td>True</td>\n",
       "      <td>True</td>\n",
       "      <td>No</td>\n",
       "      <td>True</td>\n",
       "      <td>False</td>\n",
       "      <td>True</td>\n",
       "      <td>HOUSTON</td>\n",
       "      <td>TX</td>\n",
       "      <td>January</td>\n",
       "      <td>1</td>\n",
       "    </tr>\n",
       "  </tbody>\n",
       "</table>\n",
       "</div>"
      ],
      "text/plain": [
       "   StoreNumber  dayOfTheYear  3HourBucket  GrossSoldQuantity  \\\n",
       "0         1000             1            1                  3   \n",
       "1         1000             1            2                  5   \n",
       "2         1000             1            3                  6   \n",
       "3         1000             1            4                  3   \n",
       "4         1000             2            1                 13   \n",
       "\n",
       "   Cash/Credit Site  EBT Site  Loyalty Site  ExtraMile Site CoBrand  Alcohol  \\\n",
       "0             False      True          True            True      No     True   \n",
       "1             False      True          True            True      No     True   \n",
       "2             False      True          True            True      No     True   \n",
       "3             False      True          True            True      No     True   \n",
       "4             False      True          True            True      No     True   \n",
       "\n",
       "   Carwash  Food Service     City State    Month  WeekEnd  \n",
       "0    False          True  HOUSTON    TX  January        0  \n",
       "1    False          True  HOUSTON    TX  January        0  \n",
       "2    False          True  HOUSTON    TX  January        0  \n",
       "3    False          True  HOUSTON    TX  January        0  \n",
       "4    False          True  HOUSTON    TX  January        1  "
      ]
     },
     "execution_count": 242,
     "metadata": {},
     "output_type": "execute_result"
    }
   ],
   "source": [
    "df.head()"
   ]
  },
  {
   "cell_type": "code",
   "execution_count": 243,
   "metadata": {},
   "outputs": [],
   "source": [
    "Season=[]\n",
    "for row in df['Month']:\n",
    "\n",
    "    if row=='January' or row=='February' or row=='December':Season.append('Winter')\n",
    "\n",
    "    elif row=='March' or row=='April'or row=='May':Season.append('Spring')\n",
    "\n",
    "    elif row=='June' or row=='July' or row=='August' :Season.append('Summer')\n",
    " \n",
    "    elif row=='September' or row=='October' or row=='November' :Season.append('Autumn')\n",
    "  \n",
    "    else:Season.append('')\n"
   ]
  },
  {
   "cell_type": "code",
   "execution_count": 244,
   "metadata": {},
   "outputs": [],
   "source": [
    "season = pd.Series(Season)\n",
    "df[\"Season\"] = season.values"
   ]
  },
  {
   "cell_type": "code",
   "execution_count": 245,
   "metadata": {},
   "outputs": [
    {
     "data": {
      "text/html": [
       "<div>\n",
       "<style scoped>\n",
       "    .dataframe tbody tr th:only-of-type {\n",
       "        vertical-align: middle;\n",
       "    }\n",
       "\n",
       "    .dataframe tbody tr th {\n",
       "        vertical-align: top;\n",
       "    }\n",
       "\n",
       "    .dataframe thead th {\n",
       "        text-align: right;\n",
       "    }\n",
       "</style>\n",
       "<table border=\"1\" class=\"dataframe\">\n",
       "  <thead>\n",
       "    <tr style=\"text-align: right;\">\n",
       "      <th></th>\n",
       "      <th>StoreNumber</th>\n",
       "      <th>dayOfTheYear</th>\n",
       "      <th>3HourBucket</th>\n",
       "      <th>GrossSoldQuantity</th>\n",
       "      <th>Cash/Credit Site</th>\n",
       "      <th>EBT Site</th>\n",
       "      <th>Loyalty Site</th>\n",
       "      <th>ExtraMile Site</th>\n",
       "      <th>CoBrand</th>\n",
       "      <th>Alcohol</th>\n",
       "      <th>Carwash</th>\n",
       "      <th>Food Service</th>\n",
       "      <th>City</th>\n",
       "      <th>State</th>\n",
       "      <th>Month</th>\n",
       "      <th>WeekEnd</th>\n",
       "      <th>Season</th>\n",
       "    </tr>\n",
       "  </thead>\n",
       "  <tbody>\n",
       "    <tr>\n",
       "      <th>0</th>\n",
       "      <td>1000</td>\n",
       "      <td>1</td>\n",
       "      <td>1</td>\n",
       "      <td>3</td>\n",
       "      <td>False</td>\n",
       "      <td>True</td>\n",
       "      <td>True</td>\n",
       "      <td>True</td>\n",
       "      <td>No</td>\n",
       "      <td>True</td>\n",
       "      <td>False</td>\n",
       "      <td>True</td>\n",
       "      <td>HOUSTON</td>\n",
       "      <td>TX</td>\n",
       "      <td>January</td>\n",
       "      <td>0</td>\n",
       "      <td>Winter</td>\n",
       "    </tr>\n",
       "    <tr>\n",
       "      <th>1</th>\n",
       "      <td>1000</td>\n",
       "      <td>1</td>\n",
       "      <td>2</td>\n",
       "      <td>5</td>\n",
       "      <td>False</td>\n",
       "      <td>True</td>\n",
       "      <td>True</td>\n",
       "      <td>True</td>\n",
       "      <td>No</td>\n",
       "      <td>True</td>\n",
       "      <td>False</td>\n",
       "      <td>True</td>\n",
       "      <td>HOUSTON</td>\n",
       "      <td>TX</td>\n",
       "      <td>January</td>\n",
       "      <td>0</td>\n",
       "      <td>Winter</td>\n",
       "    </tr>\n",
       "    <tr>\n",
       "      <th>2</th>\n",
       "      <td>1000</td>\n",
       "      <td>1</td>\n",
       "      <td>3</td>\n",
       "      <td>6</td>\n",
       "      <td>False</td>\n",
       "      <td>True</td>\n",
       "      <td>True</td>\n",
       "      <td>True</td>\n",
       "      <td>No</td>\n",
       "      <td>True</td>\n",
       "      <td>False</td>\n",
       "      <td>True</td>\n",
       "      <td>HOUSTON</td>\n",
       "      <td>TX</td>\n",
       "      <td>January</td>\n",
       "      <td>0</td>\n",
       "      <td>Winter</td>\n",
       "    </tr>\n",
       "    <tr>\n",
       "      <th>3</th>\n",
       "      <td>1000</td>\n",
       "      <td>1</td>\n",
       "      <td>4</td>\n",
       "      <td>3</td>\n",
       "      <td>False</td>\n",
       "      <td>True</td>\n",
       "      <td>True</td>\n",
       "      <td>True</td>\n",
       "      <td>No</td>\n",
       "      <td>True</td>\n",
       "      <td>False</td>\n",
       "      <td>True</td>\n",
       "      <td>HOUSTON</td>\n",
       "      <td>TX</td>\n",
       "      <td>January</td>\n",
       "      <td>0</td>\n",
       "      <td>Winter</td>\n",
       "    </tr>\n",
       "    <tr>\n",
       "      <th>4</th>\n",
       "      <td>1000</td>\n",
       "      <td>2</td>\n",
       "      <td>1</td>\n",
       "      <td>13</td>\n",
       "      <td>False</td>\n",
       "      <td>True</td>\n",
       "      <td>True</td>\n",
       "      <td>True</td>\n",
       "      <td>No</td>\n",
       "      <td>True</td>\n",
       "      <td>False</td>\n",
       "      <td>True</td>\n",
       "      <td>HOUSTON</td>\n",
       "      <td>TX</td>\n",
       "      <td>January</td>\n",
       "      <td>1</td>\n",
       "      <td>Winter</td>\n",
       "    </tr>\n",
       "  </tbody>\n",
       "</table>\n",
       "</div>"
      ],
      "text/plain": [
       "   StoreNumber  dayOfTheYear  3HourBucket  GrossSoldQuantity  \\\n",
       "0         1000             1            1                  3   \n",
       "1         1000             1            2                  5   \n",
       "2         1000             1            3                  6   \n",
       "3         1000             1            4                  3   \n",
       "4         1000             2            1                 13   \n",
       "\n",
       "   Cash/Credit Site  EBT Site  Loyalty Site  ExtraMile Site CoBrand  Alcohol  \\\n",
       "0             False      True          True            True      No     True   \n",
       "1             False      True          True            True      No     True   \n",
       "2             False      True          True            True      No     True   \n",
       "3             False      True          True            True      No     True   \n",
       "4             False      True          True            True      No     True   \n",
       "\n",
       "   Carwash  Food Service     City State    Month  WeekEnd  Season  \n",
       "0    False          True  HOUSTON    TX  January        0  Winter  \n",
       "1    False          True  HOUSTON    TX  January        0  Winter  \n",
       "2    False          True  HOUSTON    TX  January        0  Winter  \n",
       "3    False          True  HOUSTON    TX  January        0  Winter  \n",
       "4    False          True  HOUSTON    TX  January        1  Winter  "
      ]
     },
     "execution_count": 245,
     "metadata": {},
     "output_type": "execute_result"
    }
   ],
   "source": [
    "df.head()"
   ]
  },
  {
   "cell_type": "code",
   "execution_count": 246,
   "metadata": {},
   "outputs": [],
   "source": [
    "Day_Of_The_Week=[]\n",
    "for row in df['dayOfTheYear']:\n",
    "    if row%7==1 :Day_Of_The_Week.append(4)\n",
    "    elif row%7==2 :Day_Of_The_Week.append(5)\n",
    "    elif row%7==3 :Day_Of_The_Week.append(6)\n",
    "    elif row%7==4 :Day_Of_The_Week.append(7)\n",
    "    elif row%7==5 :Day_Of_The_Week.append(1)\n",
    "    elif row%7==6 :Day_Of_The_Week.append(2)\n",
    "    elif row%7==0 :Day_Of_The_Week.append(3)"
   ]
  },
  {
   "cell_type": "code",
   "execution_count": 247,
   "metadata": {},
   "outputs": [],
   "source": [
    "dotw = pd.Series(Day_Of_The_Week)\n",
    "df[\"dayOfTheWeek\"] = dotw.values"
   ]
  },
  {
   "cell_type": "code",
   "execution_count": 248,
   "metadata": {},
   "outputs": [
    {
     "data": {
      "text/html": [
       "<div>\n",
       "<style scoped>\n",
       "    .dataframe tbody tr th:only-of-type {\n",
       "        vertical-align: middle;\n",
       "    }\n",
       "\n",
       "    .dataframe tbody tr th {\n",
       "        vertical-align: top;\n",
       "    }\n",
       "\n",
       "    .dataframe thead th {\n",
       "        text-align: right;\n",
       "    }\n",
       "</style>\n",
       "<table border=\"1\" class=\"dataframe\">\n",
       "  <thead>\n",
       "    <tr style=\"text-align: right;\">\n",
       "      <th></th>\n",
       "      <th>StoreNumber</th>\n",
       "      <th>dayOfTheYear</th>\n",
       "      <th>3HourBucket</th>\n",
       "      <th>GrossSoldQuantity</th>\n",
       "      <th>Cash/Credit Site</th>\n",
       "      <th>EBT Site</th>\n",
       "      <th>Loyalty Site</th>\n",
       "      <th>ExtraMile Site</th>\n",
       "      <th>CoBrand</th>\n",
       "      <th>Alcohol</th>\n",
       "      <th>Carwash</th>\n",
       "      <th>Food Service</th>\n",
       "      <th>City</th>\n",
       "      <th>State</th>\n",
       "      <th>Month</th>\n",
       "      <th>WeekEnd</th>\n",
       "      <th>Season</th>\n",
       "      <th>dayOfTheWeek</th>\n",
       "    </tr>\n",
       "  </thead>\n",
       "  <tbody>\n",
       "    <tr>\n",
       "      <th>0</th>\n",
       "      <td>1000</td>\n",
       "      <td>1</td>\n",
       "      <td>1</td>\n",
       "      <td>3</td>\n",
       "      <td>False</td>\n",
       "      <td>True</td>\n",
       "      <td>True</td>\n",
       "      <td>True</td>\n",
       "      <td>No</td>\n",
       "      <td>True</td>\n",
       "      <td>False</td>\n",
       "      <td>True</td>\n",
       "      <td>HOUSTON</td>\n",
       "      <td>TX</td>\n",
       "      <td>January</td>\n",
       "      <td>0</td>\n",
       "      <td>Winter</td>\n",
       "      <td>4</td>\n",
       "    </tr>\n",
       "    <tr>\n",
       "      <th>1</th>\n",
       "      <td>1000</td>\n",
       "      <td>1</td>\n",
       "      <td>2</td>\n",
       "      <td>5</td>\n",
       "      <td>False</td>\n",
       "      <td>True</td>\n",
       "      <td>True</td>\n",
       "      <td>True</td>\n",
       "      <td>No</td>\n",
       "      <td>True</td>\n",
       "      <td>False</td>\n",
       "      <td>True</td>\n",
       "      <td>HOUSTON</td>\n",
       "      <td>TX</td>\n",
       "      <td>January</td>\n",
       "      <td>0</td>\n",
       "      <td>Winter</td>\n",
       "      <td>4</td>\n",
       "    </tr>\n",
       "    <tr>\n",
       "      <th>2</th>\n",
       "      <td>1000</td>\n",
       "      <td>1</td>\n",
       "      <td>3</td>\n",
       "      <td>6</td>\n",
       "      <td>False</td>\n",
       "      <td>True</td>\n",
       "      <td>True</td>\n",
       "      <td>True</td>\n",
       "      <td>No</td>\n",
       "      <td>True</td>\n",
       "      <td>False</td>\n",
       "      <td>True</td>\n",
       "      <td>HOUSTON</td>\n",
       "      <td>TX</td>\n",
       "      <td>January</td>\n",
       "      <td>0</td>\n",
       "      <td>Winter</td>\n",
       "      <td>4</td>\n",
       "    </tr>\n",
       "    <tr>\n",
       "      <th>3</th>\n",
       "      <td>1000</td>\n",
       "      <td>1</td>\n",
       "      <td>4</td>\n",
       "      <td>3</td>\n",
       "      <td>False</td>\n",
       "      <td>True</td>\n",
       "      <td>True</td>\n",
       "      <td>True</td>\n",
       "      <td>No</td>\n",
       "      <td>True</td>\n",
       "      <td>False</td>\n",
       "      <td>True</td>\n",
       "      <td>HOUSTON</td>\n",
       "      <td>TX</td>\n",
       "      <td>January</td>\n",
       "      <td>0</td>\n",
       "      <td>Winter</td>\n",
       "      <td>4</td>\n",
       "    </tr>\n",
       "    <tr>\n",
       "      <th>4</th>\n",
       "      <td>1000</td>\n",
       "      <td>2</td>\n",
       "      <td>1</td>\n",
       "      <td>13</td>\n",
       "      <td>False</td>\n",
       "      <td>True</td>\n",
       "      <td>True</td>\n",
       "      <td>True</td>\n",
       "      <td>No</td>\n",
       "      <td>True</td>\n",
       "      <td>False</td>\n",
       "      <td>True</td>\n",
       "      <td>HOUSTON</td>\n",
       "      <td>TX</td>\n",
       "      <td>January</td>\n",
       "      <td>1</td>\n",
       "      <td>Winter</td>\n",
       "      <td>5</td>\n",
       "    </tr>\n",
       "  </tbody>\n",
       "</table>\n",
       "</div>"
      ],
      "text/plain": [
       "   StoreNumber  dayOfTheYear  3HourBucket  GrossSoldQuantity  \\\n",
       "0         1000             1            1                  3   \n",
       "1         1000             1            2                  5   \n",
       "2         1000             1            3                  6   \n",
       "3         1000             1            4                  3   \n",
       "4         1000             2            1                 13   \n",
       "\n",
       "   Cash/Credit Site  EBT Site  Loyalty Site  ExtraMile Site CoBrand  Alcohol  \\\n",
       "0             False      True          True            True      No     True   \n",
       "1             False      True          True            True      No     True   \n",
       "2             False      True          True            True      No     True   \n",
       "3             False      True          True            True      No     True   \n",
       "4             False      True          True            True      No     True   \n",
       "\n",
       "   Carwash  Food Service     City State    Month  WeekEnd  Season  \\\n",
       "0    False          True  HOUSTON    TX  January        0  Winter   \n",
       "1    False          True  HOUSTON    TX  January        0  Winter   \n",
       "2    False          True  HOUSTON    TX  January        0  Winter   \n",
       "3    False          True  HOUSTON    TX  January        0  Winter   \n",
       "4    False          True  HOUSTON    TX  January        1  Winter   \n",
       "\n",
       "   dayOfTheWeek  \n",
       "0             4  \n",
       "1             4  \n",
       "2             4  \n",
       "3             4  \n",
       "4             5  "
      ]
     },
     "execution_count": 248,
     "metadata": {},
     "output_type": "execute_result"
    }
   ],
   "source": [
    "df.head()"
   ]
  },
  {
   "cell_type": "code",
   "execution_count": 249,
   "metadata": {},
   "outputs": [],
   "source": [
    "weekly=df.groupby([\"StoreNumber\",\"dayOfTheWeek\"])[\"GrossSoldQuantity\"].mean()\n",
    "weekly_1=weekly[0:7]\n",
    "weekly_2=weekly[7:14]\n",
    "weekly_3=weekly[14:21]\n",
    "weekly_4=weekly[21:28]\n",
    "week=pd.Series([1,2,3,4,5,6,7])"
   ]
  },
  {
   "cell_type": "code",
   "execution_count": 250,
   "metadata": {
    "scrolled": true
   },
   "outputs": [
    {
     "data": {
      "application/vnd.plotly.v1+json": {
       "config": {
        "plotlyServerURL": "https://plot.ly"
       },
       "data": [
        {
         "alignmentgroup": "True",
         "hovertemplate": "x=%{x}<br>y=%{y}<extra></extra>",
         "legendgroup": "",
         "marker": {
          "color": "#636efa"
         },
         "name": "",
         "offsetgroup": "",
         "orientation": "v",
         "showlegend": false,
         "textposition": "auto",
         "type": "bar",
         "x": [
          1,
          2,
          3,
          4,
          5,
          6,
          7
         ],
         "xaxis": "x",
         "y": [
          32.74271844660194,
          35.058510638297875,
          28.149253731343283,
          30.444444444444443,
          59.107317073170734,
          61.82439024390244,
          57.38048780487805
         ],
         "yaxis": "y"
        }
       ],
       "layout": {
        "barmode": "relative",
        "legend": {
         "tracegroupgap": 0
        },
        "template": {
         "data": {
          "bar": [
           {
            "error_x": {
             "color": "#2a3f5f"
            },
            "error_y": {
             "color": "#2a3f5f"
            },
            "marker": {
             "line": {
              "color": "#E5ECF6",
              "width": 0.5
             }
            },
            "type": "bar"
           }
          ],
          "barpolar": [
           {
            "marker": {
             "line": {
              "color": "#E5ECF6",
              "width": 0.5
             }
            },
            "type": "barpolar"
           }
          ],
          "carpet": [
           {
            "aaxis": {
             "endlinecolor": "#2a3f5f",
             "gridcolor": "white",
             "linecolor": "white",
             "minorgridcolor": "white",
             "startlinecolor": "#2a3f5f"
            },
            "baxis": {
             "endlinecolor": "#2a3f5f",
             "gridcolor": "white",
             "linecolor": "white",
             "minorgridcolor": "white",
             "startlinecolor": "#2a3f5f"
            },
            "type": "carpet"
           }
          ],
          "choropleth": [
           {
            "colorbar": {
             "outlinewidth": 0,
             "ticks": ""
            },
            "type": "choropleth"
           }
          ],
          "contour": [
           {
            "colorbar": {
             "outlinewidth": 0,
             "ticks": ""
            },
            "colorscale": [
             [
              0,
              "#0d0887"
             ],
             [
              0.1111111111111111,
              "#46039f"
             ],
             [
              0.2222222222222222,
              "#7201a8"
             ],
             [
              0.3333333333333333,
              "#9c179e"
             ],
             [
              0.4444444444444444,
              "#bd3786"
             ],
             [
              0.5555555555555556,
              "#d8576b"
             ],
             [
              0.6666666666666666,
              "#ed7953"
             ],
             [
              0.7777777777777778,
              "#fb9f3a"
             ],
             [
              0.8888888888888888,
              "#fdca26"
             ],
             [
              1,
              "#f0f921"
             ]
            ],
            "type": "contour"
           }
          ],
          "contourcarpet": [
           {
            "colorbar": {
             "outlinewidth": 0,
             "ticks": ""
            },
            "type": "contourcarpet"
           }
          ],
          "heatmap": [
           {
            "colorbar": {
             "outlinewidth": 0,
             "ticks": ""
            },
            "colorscale": [
             [
              0,
              "#0d0887"
             ],
             [
              0.1111111111111111,
              "#46039f"
             ],
             [
              0.2222222222222222,
              "#7201a8"
             ],
             [
              0.3333333333333333,
              "#9c179e"
             ],
             [
              0.4444444444444444,
              "#bd3786"
             ],
             [
              0.5555555555555556,
              "#d8576b"
             ],
             [
              0.6666666666666666,
              "#ed7953"
             ],
             [
              0.7777777777777778,
              "#fb9f3a"
             ],
             [
              0.8888888888888888,
              "#fdca26"
             ],
             [
              1,
              "#f0f921"
             ]
            ],
            "type": "heatmap"
           }
          ],
          "heatmapgl": [
           {
            "colorbar": {
             "outlinewidth": 0,
             "ticks": ""
            },
            "colorscale": [
             [
              0,
              "#0d0887"
             ],
             [
              0.1111111111111111,
              "#46039f"
             ],
             [
              0.2222222222222222,
              "#7201a8"
             ],
             [
              0.3333333333333333,
              "#9c179e"
             ],
             [
              0.4444444444444444,
              "#bd3786"
             ],
             [
              0.5555555555555556,
              "#d8576b"
             ],
             [
              0.6666666666666666,
              "#ed7953"
             ],
             [
              0.7777777777777778,
              "#fb9f3a"
             ],
             [
              0.8888888888888888,
              "#fdca26"
             ],
             [
              1,
              "#f0f921"
             ]
            ],
            "type": "heatmapgl"
           }
          ],
          "histogram": [
           {
            "marker": {
             "colorbar": {
              "outlinewidth": 0,
              "ticks": ""
             }
            },
            "type": "histogram"
           }
          ],
          "histogram2d": [
           {
            "colorbar": {
             "outlinewidth": 0,
             "ticks": ""
            },
            "colorscale": [
             [
              0,
              "#0d0887"
             ],
             [
              0.1111111111111111,
              "#46039f"
             ],
             [
              0.2222222222222222,
              "#7201a8"
             ],
             [
              0.3333333333333333,
              "#9c179e"
             ],
             [
              0.4444444444444444,
              "#bd3786"
             ],
             [
              0.5555555555555556,
              "#d8576b"
             ],
             [
              0.6666666666666666,
              "#ed7953"
             ],
             [
              0.7777777777777778,
              "#fb9f3a"
             ],
             [
              0.8888888888888888,
              "#fdca26"
             ],
             [
              1,
              "#f0f921"
             ]
            ],
            "type": "histogram2d"
           }
          ],
          "histogram2dcontour": [
           {
            "colorbar": {
             "outlinewidth": 0,
             "ticks": ""
            },
            "colorscale": [
             [
              0,
              "#0d0887"
             ],
             [
              0.1111111111111111,
              "#46039f"
             ],
             [
              0.2222222222222222,
              "#7201a8"
             ],
             [
              0.3333333333333333,
              "#9c179e"
             ],
             [
              0.4444444444444444,
              "#bd3786"
             ],
             [
              0.5555555555555556,
              "#d8576b"
             ],
             [
              0.6666666666666666,
              "#ed7953"
             ],
             [
              0.7777777777777778,
              "#fb9f3a"
             ],
             [
              0.8888888888888888,
              "#fdca26"
             ],
             [
              1,
              "#f0f921"
             ]
            ],
            "type": "histogram2dcontour"
           }
          ],
          "mesh3d": [
           {
            "colorbar": {
             "outlinewidth": 0,
             "ticks": ""
            },
            "type": "mesh3d"
           }
          ],
          "parcoords": [
           {
            "line": {
             "colorbar": {
              "outlinewidth": 0,
              "ticks": ""
             }
            },
            "type": "parcoords"
           }
          ],
          "pie": [
           {
            "automargin": true,
            "type": "pie"
           }
          ],
          "scatter": [
           {
            "marker": {
             "colorbar": {
              "outlinewidth": 0,
              "ticks": ""
             }
            },
            "type": "scatter"
           }
          ],
          "scatter3d": [
           {
            "line": {
             "colorbar": {
              "outlinewidth": 0,
              "ticks": ""
             }
            },
            "marker": {
             "colorbar": {
              "outlinewidth": 0,
              "ticks": ""
             }
            },
            "type": "scatter3d"
           }
          ],
          "scattercarpet": [
           {
            "marker": {
             "colorbar": {
              "outlinewidth": 0,
              "ticks": ""
             }
            },
            "type": "scattercarpet"
           }
          ],
          "scattergeo": [
           {
            "marker": {
             "colorbar": {
              "outlinewidth": 0,
              "ticks": ""
             }
            },
            "type": "scattergeo"
           }
          ],
          "scattergl": [
           {
            "marker": {
             "colorbar": {
              "outlinewidth": 0,
              "ticks": ""
             }
            },
            "type": "scattergl"
           }
          ],
          "scattermapbox": [
           {
            "marker": {
             "colorbar": {
              "outlinewidth": 0,
              "ticks": ""
             }
            },
            "type": "scattermapbox"
           }
          ],
          "scatterpolar": [
           {
            "marker": {
             "colorbar": {
              "outlinewidth": 0,
              "ticks": ""
             }
            },
            "type": "scatterpolar"
           }
          ],
          "scatterpolargl": [
           {
            "marker": {
             "colorbar": {
              "outlinewidth": 0,
              "ticks": ""
             }
            },
            "type": "scatterpolargl"
           }
          ],
          "scatterternary": [
           {
            "marker": {
             "colorbar": {
              "outlinewidth": 0,
              "ticks": ""
             }
            },
            "type": "scatterternary"
           }
          ],
          "surface": [
           {
            "colorbar": {
             "outlinewidth": 0,
             "ticks": ""
            },
            "colorscale": [
             [
              0,
              "#0d0887"
             ],
             [
              0.1111111111111111,
              "#46039f"
             ],
             [
              0.2222222222222222,
              "#7201a8"
             ],
             [
              0.3333333333333333,
              "#9c179e"
             ],
             [
              0.4444444444444444,
              "#bd3786"
             ],
             [
              0.5555555555555556,
              "#d8576b"
             ],
             [
              0.6666666666666666,
              "#ed7953"
             ],
             [
              0.7777777777777778,
              "#fb9f3a"
             ],
             [
              0.8888888888888888,
              "#fdca26"
             ],
             [
              1,
              "#f0f921"
             ]
            ],
            "type": "surface"
           }
          ],
          "table": [
           {
            "cells": {
             "fill": {
              "color": "#EBF0F8"
             },
             "line": {
              "color": "white"
             }
            },
            "header": {
             "fill": {
              "color": "#C8D4E3"
             },
             "line": {
              "color": "white"
             }
            },
            "type": "table"
           }
          ]
         },
         "layout": {
          "annotationdefaults": {
           "arrowcolor": "#2a3f5f",
           "arrowhead": 0,
           "arrowwidth": 1
          },
          "coloraxis": {
           "colorbar": {
            "outlinewidth": 0,
            "ticks": ""
           }
          },
          "colorscale": {
           "diverging": [
            [
             0,
             "#8e0152"
            ],
            [
             0.1,
             "#c51b7d"
            ],
            [
             0.2,
             "#de77ae"
            ],
            [
             0.3,
             "#f1b6da"
            ],
            [
             0.4,
             "#fde0ef"
            ],
            [
             0.5,
             "#f7f7f7"
            ],
            [
             0.6,
             "#e6f5d0"
            ],
            [
             0.7,
             "#b8e186"
            ],
            [
             0.8,
             "#7fbc41"
            ],
            [
             0.9,
             "#4d9221"
            ],
            [
             1,
             "#276419"
            ]
           ],
           "sequential": [
            [
             0,
             "#0d0887"
            ],
            [
             0.1111111111111111,
             "#46039f"
            ],
            [
             0.2222222222222222,
             "#7201a8"
            ],
            [
             0.3333333333333333,
             "#9c179e"
            ],
            [
             0.4444444444444444,
             "#bd3786"
            ],
            [
             0.5555555555555556,
             "#d8576b"
            ],
            [
             0.6666666666666666,
             "#ed7953"
            ],
            [
             0.7777777777777778,
             "#fb9f3a"
            ],
            [
             0.8888888888888888,
             "#fdca26"
            ],
            [
             1,
             "#f0f921"
            ]
           ],
           "sequentialminus": [
            [
             0,
             "#0d0887"
            ],
            [
             0.1111111111111111,
             "#46039f"
            ],
            [
             0.2222222222222222,
             "#7201a8"
            ],
            [
             0.3333333333333333,
             "#9c179e"
            ],
            [
             0.4444444444444444,
             "#bd3786"
            ],
            [
             0.5555555555555556,
             "#d8576b"
            ],
            [
             0.6666666666666666,
             "#ed7953"
            ],
            [
             0.7777777777777778,
             "#fb9f3a"
            ],
            [
             0.8888888888888888,
             "#fdca26"
            ],
            [
             1,
             "#f0f921"
            ]
           ]
          },
          "colorway": [
           "#636efa",
           "#EF553B",
           "#00cc96",
           "#ab63fa",
           "#FFA15A",
           "#19d3f3",
           "#FF6692",
           "#B6E880",
           "#FF97FF",
           "#FECB52"
          ],
          "font": {
           "color": "#2a3f5f"
          },
          "geo": {
           "bgcolor": "white",
           "lakecolor": "white",
           "landcolor": "#E5ECF6",
           "showlakes": true,
           "showland": true,
           "subunitcolor": "white"
          },
          "hoverlabel": {
           "align": "left"
          },
          "hovermode": "closest",
          "mapbox": {
           "style": "light"
          },
          "paper_bgcolor": "white",
          "plot_bgcolor": "#E5ECF6",
          "polar": {
           "angularaxis": {
            "gridcolor": "white",
            "linecolor": "white",
            "ticks": ""
           },
           "bgcolor": "#E5ECF6",
           "radialaxis": {
            "gridcolor": "white",
            "linecolor": "white",
            "ticks": ""
           }
          },
          "scene": {
           "xaxis": {
            "backgroundcolor": "#E5ECF6",
            "gridcolor": "white",
            "gridwidth": 2,
            "linecolor": "white",
            "showbackground": true,
            "ticks": "",
            "zerolinecolor": "white"
           },
           "yaxis": {
            "backgroundcolor": "#E5ECF6",
            "gridcolor": "white",
            "gridwidth": 2,
            "linecolor": "white",
            "showbackground": true,
            "ticks": "",
            "zerolinecolor": "white"
           },
           "zaxis": {
            "backgroundcolor": "#E5ECF6",
            "gridcolor": "white",
            "gridwidth": 2,
            "linecolor": "white",
            "showbackground": true,
            "ticks": "",
            "zerolinecolor": "white"
           }
          },
          "shapedefaults": {
           "line": {
            "color": "#2a3f5f"
           }
          },
          "ternary": {
           "aaxis": {
            "gridcolor": "white",
            "linecolor": "white",
            "ticks": ""
           },
           "baxis": {
            "gridcolor": "white",
            "linecolor": "white",
            "ticks": ""
           },
           "bgcolor": "#E5ECF6",
           "caxis": {
            "gridcolor": "white",
            "linecolor": "white",
            "ticks": ""
           }
          },
          "title": {
           "x": 0.05
          },
          "xaxis": {
           "automargin": true,
           "gridcolor": "white",
           "linecolor": "white",
           "ticks": "",
           "title": {
            "standoff": 15
           },
           "zerolinecolor": "white",
           "zerolinewidth": 2
          },
          "yaxis": {
           "automargin": true,
           "gridcolor": "white",
           "linecolor": "white",
           "ticks": "",
           "title": {
            "standoff": 15
           },
           "zerolinecolor": "white",
           "zerolinewidth": 2
          }
         }
        },
        "title": {
         "text": "Weekly Sale Store 4"
        },
        "xaxis": {
         "anchor": "y",
         "domain": [
          0,
          1
         ],
         "title": {
          "text": "x"
         }
        },
        "yaxis": {
         "anchor": "x",
         "domain": [
          0,
          1
         ],
         "title": {
          "text": "y"
         }
        }
       }
      },
      "text/html": [
       "<div>\n",
       "        \n",
       "        \n",
       "            <div id=\"7c381fe5-2898-4630-8d48-2a8c632a6bdb\" class=\"plotly-graph-div\" style=\"height:525px; width:100%;\"></div>\n",
       "            <script type=\"text/javascript\">\n",
       "                require([\"plotly\"], function(Plotly) {\n",
       "                    window.PLOTLYENV=window.PLOTLYENV || {};\n",
       "                    \n",
       "                if (document.getElementById(\"7c381fe5-2898-4630-8d48-2a8c632a6bdb\")) {\n",
       "                    Plotly.newPlot(\n",
       "                        '7c381fe5-2898-4630-8d48-2a8c632a6bdb',\n",
       "                        [{\"alignmentgroup\": \"True\", \"hovertemplate\": \"x=%{x}<br>y=%{y}<extra></extra>\", \"legendgroup\": \"\", \"marker\": {\"color\": \"#636efa\"}, \"name\": \"\", \"offsetgroup\": \"\", \"orientation\": \"v\", \"showlegend\": false, \"textposition\": \"auto\", \"type\": \"bar\", \"x\": [1, 2, 3, 4, 5, 6, 7], \"xaxis\": \"x\", \"y\": [32.74271844660194, 35.058510638297875, 28.149253731343283, 30.444444444444443, 59.107317073170734, 61.82439024390244, 57.38048780487805], \"yaxis\": \"y\"}],\n",
       "                        {\"barmode\": \"relative\", \"legend\": {\"tracegroupgap\": 0}, \"template\": {\"data\": {\"bar\": [{\"error_x\": {\"color\": \"#2a3f5f\"}, \"error_y\": {\"color\": \"#2a3f5f\"}, \"marker\": {\"line\": {\"color\": \"#E5ECF6\", \"width\": 0.5}}, \"type\": \"bar\"}], \"barpolar\": [{\"marker\": {\"line\": {\"color\": \"#E5ECF6\", \"width\": 0.5}}, \"type\": \"barpolar\"}], \"carpet\": [{\"aaxis\": {\"endlinecolor\": \"#2a3f5f\", \"gridcolor\": \"white\", \"linecolor\": \"white\", \"minorgridcolor\": \"white\", \"startlinecolor\": \"#2a3f5f\"}, \"baxis\": {\"endlinecolor\": \"#2a3f5f\", \"gridcolor\": \"white\", \"linecolor\": \"white\", \"minorgridcolor\": \"white\", \"startlinecolor\": \"#2a3f5f\"}, \"type\": \"carpet\"}], \"choropleth\": [{\"colorbar\": {\"outlinewidth\": 0, \"ticks\": \"\"}, \"type\": \"choropleth\"}], \"contour\": [{\"colorbar\": {\"outlinewidth\": 0, \"ticks\": \"\"}, \"colorscale\": [[0.0, \"#0d0887\"], [0.1111111111111111, \"#46039f\"], [0.2222222222222222, \"#7201a8\"], [0.3333333333333333, \"#9c179e\"], [0.4444444444444444, \"#bd3786\"], [0.5555555555555556, \"#d8576b\"], [0.6666666666666666, \"#ed7953\"], [0.7777777777777778, \"#fb9f3a\"], [0.8888888888888888, \"#fdca26\"], [1.0, \"#f0f921\"]], \"type\": \"contour\"}], \"contourcarpet\": [{\"colorbar\": {\"outlinewidth\": 0, \"ticks\": \"\"}, \"type\": \"contourcarpet\"}], \"heatmap\": [{\"colorbar\": {\"outlinewidth\": 0, \"ticks\": \"\"}, \"colorscale\": [[0.0, \"#0d0887\"], [0.1111111111111111, \"#46039f\"], [0.2222222222222222, \"#7201a8\"], [0.3333333333333333, \"#9c179e\"], [0.4444444444444444, \"#bd3786\"], [0.5555555555555556, \"#d8576b\"], [0.6666666666666666, \"#ed7953\"], [0.7777777777777778, \"#fb9f3a\"], [0.8888888888888888, \"#fdca26\"], [1.0, \"#f0f921\"]], \"type\": \"heatmap\"}], \"heatmapgl\": [{\"colorbar\": {\"outlinewidth\": 0, \"ticks\": \"\"}, \"colorscale\": [[0.0, \"#0d0887\"], [0.1111111111111111, \"#46039f\"], [0.2222222222222222, \"#7201a8\"], [0.3333333333333333, \"#9c179e\"], [0.4444444444444444, \"#bd3786\"], [0.5555555555555556, \"#d8576b\"], [0.6666666666666666, \"#ed7953\"], [0.7777777777777778, \"#fb9f3a\"], [0.8888888888888888, \"#fdca26\"], [1.0, \"#f0f921\"]], \"type\": \"heatmapgl\"}], \"histogram\": [{\"marker\": {\"colorbar\": {\"outlinewidth\": 0, \"ticks\": \"\"}}, \"type\": \"histogram\"}], \"histogram2d\": [{\"colorbar\": {\"outlinewidth\": 0, \"ticks\": \"\"}, \"colorscale\": [[0.0, \"#0d0887\"], [0.1111111111111111, \"#46039f\"], [0.2222222222222222, \"#7201a8\"], [0.3333333333333333, \"#9c179e\"], [0.4444444444444444, \"#bd3786\"], [0.5555555555555556, \"#d8576b\"], [0.6666666666666666, \"#ed7953\"], [0.7777777777777778, \"#fb9f3a\"], [0.8888888888888888, \"#fdca26\"], [1.0, \"#f0f921\"]], \"type\": \"histogram2d\"}], \"histogram2dcontour\": [{\"colorbar\": {\"outlinewidth\": 0, \"ticks\": \"\"}, \"colorscale\": [[0.0, \"#0d0887\"], [0.1111111111111111, \"#46039f\"], [0.2222222222222222, \"#7201a8\"], [0.3333333333333333, \"#9c179e\"], [0.4444444444444444, \"#bd3786\"], [0.5555555555555556, \"#d8576b\"], [0.6666666666666666, \"#ed7953\"], [0.7777777777777778, \"#fb9f3a\"], [0.8888888888888888, \"#fdca26\"], [1.0, \"#f0f921\"]], \"type\": \"histogram2dcontour\"}], \"mesh3d\": [{\"colorbar\": {\"outlinewidth\": 0, \"ticks\": \"\"}, \"type\": \"mesh3d\"}], \"parcoords\": [{\"line\": {\"colorbar\": {\"outlinewidth\": 0, \"ticks\": \"\"}}, \"type\": \"parcoords\"}], \"pie\": [{\"automargin\": true, \"type\": \"pie\"}], \"scatter\": [{\"marker\": {\"colorbar\": {\"outlinewidth\": 0, \"ticks\": \"\"}}, \"type\": \"scatter\"}], \"scatter3d\": [{\"line\": {\"colorbar\": {\"outlinewidth\": 0, \"ticks\": \"\"}}, \"marker\": {\"colorbar\": {\"outlinewidth\": 0, \"ticks\": \"\"}}, \"type\": \"scatter3d\"}], \"scattercarpet\": [{\"marker\": {\"colorbar\": {\"outlinewidth\": 0, \"ticks\": \"\"}}, \"type\": \"scattercarpet\"}], \"scattergeo\": [{\"marker\": {\"colorbar\": {\"outlinewidth\": 0, \"ticks\": \"\"}}, \"type\": \"scattergeo\"}], \"scattergl\": [{\"marker\": {\"colorbar\": {\"outlinewidth\": 0, \"ticks\": \"\"}}, \"type\": \"scattergl\"}], \"scattermapbox\": [{\"marker\": {\"colorbar\": {\"outlinewidth\": 0, \"ticks\": \"\"}}, \"type\": \"scattermapbox\"}], \"scatterpolar\": [{\"marker\": {\"colorbar\": {\"outlinewidth\": 0, \"ticks\": \"\"}}, \"type\": \"scatterpolar\"}], \"scatterpolargl\": [{\"marker\": {\"colorbar\": {\"outlinewidth\": 0, \"ticks\": \"\"}}, \"type\": \"scatterpolargl\"}], \"scatterternary\": [{\"marker\": {\"colorbar\": {\"outlinewidth\": 0, \"ticks\": \"\"}}, \"type\": \"scatterternary\"}], \"surface\": [{\"colorbar\": {\"outlinewidth\": 0, \"ticks\": \"\"}, \"colorscale\": [[0.0, \"#0d0887\"], [0.1111111111111111, \"#46039f\"], [0.2222222222222222, \"#7201a8\"], [0.3333333333333333, \"#9c179e\"], [0.4444444444444444, \"#bd3786\"], [0.5555555555555556, \"#d8576b\"], [0.6666666666666666, \"#ed7953\"], [0.7777777777777778, \"#fb9f3a\"], [0.8888888888888888, \"#fdca26\"], [1.0, \"#f0f921\"]], \"type\": \"surface\"}], \"table\": [{\"cells\": {\"fill\": {\"color\": \"#EBF0F8\"}, \"line\": {\"color\": \"white\"}}, \"header\": {\"fill\": {\"color\": \"#C8D4E3\"}, \"line\": {\"color\": \"white\"}}, \"type\": \"table\"}]}, \"layout\": {\"annotationdefaults\": {\"arrowcolor\": \"#2a3f5f\", \"arrowhead\": 0, \"arrowwidth\": 1}, \"coloraxis\": {\"colorbar\": {\"outlinewidth\": 0, \"ticks\": \"\"}}, \"colorscale\": {\"diverging\": [[0, \"#8e0152\"], [0.1, \"#c51b7d\"], [0.2, \"#de77ae\"], [0.3, \"#f1b6da\"], [0.4, \"#fde0ef\"], [0.5, \"#f7f7f7\"], [0.6, \"#e6f5d0\"], [0.7, \"#b8e186\"], [0.8, \"#7fbc41\"], [0.9, \"#4d9221\"], [1, \"#276419\"]], \"sequential\": [[0.0, \"#0d0887\"], [0.1111111111111111, \"#46039f\"], [0.2222222222222222, \"#7201a8\"], [0.3333333333333333, \"#9c179e\"], [0.4444444444444444, \"#bd3786\"], [0.5555555555555556, \"#d8576b\"], [0.6666666666666666, \"#ed7953\"], [0.7777777777777778, \"#fb9f3a\"], [0.8888888888888888, \"#fdca26\"], [1.0, \"#f0f921\"]], \"sequentialminus\": [[0.0, \"#0d0887\"], [0.1111111111111111, \"#46039f\"], [0.2222222222222222, \"#7201a8\"], [0.3333333333333333, \"#9c179e\"], [0.4444444444444444, \"#bd3786\"], [0.5555555555555556, \"#d8576b\"], [0.6666666666666666, \"#ed7953\"], [0.7777777777777778, \"#fb9f3a\"], [0.8888888888888888, \"#fdca26\"], [1.0, \"#f0f921\"]]}, \"colorway\": [\"#636efa\", \"#EF553B\", \"#00cc96\", \"#ab63fa\", \"#FFA15A\", \"#19d3f3\", \"#FF6692\", \"#B6E880\", \"#FF97FF\", \"#FECB52\"], \"font\": {\"color\": \"#2a3f5f\"}, \"geo\": {\"bgcolor\": \"white\", \"lakecolor\": \"white\", \"landcolor\": \"#E5ECF6\", \"showlakes\": true, \"showland\": true, \"subunitcolor\": \"white\"}, \"hoverlabel\": {\"align\": \"left\"}, \"hovermode\": \"closest\", \"mapbox\": {\"style\": \"light\"}, \"paper_bgcolor\": \"white\", \"plot_bgcolor\": \"#E5ECF6\", \"polar\": {\"angularaxis\": {\"gridcolor\": \"white\", \"linecolor\": \"white\", \"ticks\": \"\"}, \"bgcolor\": \"#E5ECF6\", \"radialaxis\": {\"gridcolor\": \"white\", \"linecolor\": \"white\", \"ticks\": \"\"}}, \"scene\": {\"xaxis\": {\"backgroundcolor\": \"#E5ECF6\", \"gridcolor\": \"white\", \"gridwidth\": 2, \"linecolor\": \"white\", \"showbackground\": true, \"ticks\": \"\", \"zerolinecolor\": \"white\"}, \"yaxis\": {\"backgroundcolor\": \"#E5ECF6\", \"gridcolor\": \"white\", \"gridwidth\": 2, \"linecolor\": \"white\", \"showbackground\": true, \"ticks\": \"\", \"zerolinecolor\": \"white\"}, \"zaxis\": {\"backgroundcolor\": \"#E5ECF6\", \"gridcolor\": \"white\", \"gridwidth\": 2, \"linecolor\": \"white\", \"showbackground\": true, \"ticks\": \"\", \"zerolinecolor\": \"white\"}}, \"shapedefaults\": {\"line\": {\"color\": \"#2a3f5f\"}}, \"ternary\": {\"aaxis\": {\"gridcolor\": \"white\", \"linecolor\": \"white\", \"ticks\": \"\"}, \"baxis\": {\"gridcolor\": \"white\", \"linecolor\": \"white\", \"ticks\": \"\"}, \"bgcolor\": \"#E5ECF6\", \"caxis\": {\"gridcolor\": \"white\", \"linecolor\": \"white\", \"ticks\": \"\"}}, \"title\": {\"x\": 0.05}, \"xaxis\": {\"automargin\": true, \"gridcolor\": \"white\", \"linecolor\": \"white\", \"ticks\": \"\", \"title\": {\"standoff\": 15}, \"zerolinecolor\": \"white\", \"zerolinewidth\": 2}, \"yaxis\": {\"automargin\": true, \"gridcolor\": \"white\", \"linecolor\": \"white\", \"ticks\": \"\", \"title\": {\"standoff\": 15}, \"zerolinecolor\": \"white\", \"zerolinewidth\": 2}}}, \"title\": {\"text\": \"Weekly Sale Store 4\"}, \"xaxis\": {\"anchor\": \"y\", \"domain\": [0.0, 1.0], \"title\": {\"text\": \"x\"}}, \"yaxis\": {\"anchor\": \"x\", \"domain\": [0.0, 1.0], \"title\": {\"text\": \"y\"}}},\n",
       "                        {\"responsive\": true}\n",
       "                    ).then(function(){\n",
       "                            \n",
       "var gd = document.getElementById('7c381fe5-2898-4630-8d48-2a8c632a6bdb');\n",
       "var x = new MutationObserver(function (mutations, observer) {{\n",
       "        var display = window.getComputedStyle(gd).display;\n",
       "        if (!display || display === 'none') {{\n",
       "            console.log([gd, 'removed!']);\n",
       "            Plotly.purge(gd);\n",
       "            observer.disconnect();\n",
       "        }}\n",
       "}});\n",
       "\n",
       "// Listen for the removal of the full notebook cells\n",
       "var notebookContainer = gd.closest('#notebook-container');\n",
       "if (notebookContainer) {{\n",
       "    x.observe(notebookContainer, {childList: true});\n",
       "}}\n",
       "\n",
       "// Listen for the clearing of the current output cell\n",
       "var outputEl = gd.closest('.output');\n",
       "if (outputEl) {{\n",
       "    x.observe(outputEl, {childList: true});\n",
       "}}\n",
       "\n",
       "                        })\n",
       "                };\n",
       "                });\n",
       "            </script>\n",
       "        </div>"
      ]
     },
     "metadata": {},
     "output_type": "display_data"
    }
   ],
   "source": [
    "import plotly.express as px\n",
    "import seaborn as sns\n",
    "fig = px.bar(x=week,y=weekly_4, title='Weekly Sale Store 4',labels={\"week\": \"Day of the Week\",\"weekly_1\": \"Number of Hotdog\"})\n",
    "fig.show()"
   ]
  },
  {
   "cell_type": "code",
   "execution_count": 251,
   "metadata": {},
   "outputs": [],
   "source": [
    "bucket=df.groupby([\"StoreNumber\",\"3HourBucket\"])[\"GrossSoldQuantity\"].mean()\n",
    "bucket_1=bucket[0:4]\n",
    "bucket_2=bucket[4:8]\n",
    "bucket_3=bucket[8:12]\n",
    "bucket_4=bucket[12:16]"
   ]
  },
  {
   "cell_type": "code",
   "execution_count": 252,
   "metadata": {},
   "outputs": [
    {
     "data": {
      "application/vnd.plotly.v1+json": {
       "config": {
        "plotlyServerURL": "https://plot.ly"
       },
       "data": [
        {
         "domain": {
          "x": [
           0,
           1
          ],
          "y": [
           0,
           1
          ]
         },
         "hovertemplate": "label=%{label}<br>value=%{value}<extra></extra>",
         "labels": [
          "8am to 10am",
          "11am to 1pm",
          "2pm to 4pm",
          "5pm to 8pm"
         ],
         "legendgroup": "",
         "name": "",
         "showlegend": true,
         "type": "pie",
         "values": [
          25.329545454545453,
          40.48725212464589,
          49.80609418282548,
          58.86609686609687
         ]
        }
       ],
       "layout": {
        "legend": {
         "tracegroupgap": 0
        },
        "template": {
         "data": {
          "bar": [
           {
            "error_x": {
             "color": "#2a3f5f"
            },
            "error_y": {
             "color": "#2a3f5f"
            },
            "marker": {
             "line": {
              "color": "#E5ECF6",
              "width": 0.5
             }
            },
            "type": "bar"
           }
          ],
          "barpolar": [
           {
            "marker": {
             "line": {
              "color": "#E5ECF6",
              "width": 0.5
             }
            },
            "type": "barpolar"
           }
          ],
          "carpet": [
           {
            "aaxis": {
             "endlinecolor": "#2a3f5f",
             "gridcolor": "white",
             "linecolor": "white",
             "minorgridcolor": "white",
             "startlinecolor": "#2a3f5f"
            },
            "baxis": {
             "endlinecolor": "#2a3f5f",
             "gridcolor": "white",
             "linecolor": "white",
             "minorgridcolor": "white",
             "startlinecolor": "#2a3f5f"
            },
            "type": "carpet"
           }
          ],
          "choropleth": [
           {
            "colorbar": {
             "outlinewidth": 0,
             "ticks": ""
            },
            "type": "choropleth"
           }
          ],
          "contour": [
           {
            "colorbar": {
             "outlinewidth": 0,
             "ticks": ""
            },
            "colorscale": [
             [
              0,
              "#0d0887"
             ],
             [
              0.1111111111111111,
              "#46039f"
             ],
             [
              0.2222222222222222,
              "#7201a8"
             ],
             [
              0.3333333333333333,
              "#9c179e"
             ],
             [
              0.4444444444444444,
              "#bd3786"
             ],
             [
              0.5555555555555556,
              "#d8576b"
             ],
             [
              0.6666666666666666,
              "#ed7953"
             ],
             [
              0.7777777777777778,
              "#fb9f3a"
             ],
             [
              0.8888888888888888,
              "#fdca26"
             ],
             [
              1,
              "#f0f921"
             ]
            ],
            "type": "contour"
           }
          ],
          "contourcarpet": [
           {
            "colorbar": {
             "outlinewidth": 0,
             "ticks": ""
            },
            "type": "contourcarpet"
           }
          ],
          "heatmap": [
           {
            "colorbar": {
             "outlinewidth": 0,
             "ticks": ""
            },
            "colorscale": [
             [
              0,
              "#0d0887"
             ],
             [
              0.1111111111111111,
              "#46039f"
             ],
             [
              0.2222222222222222,
              "#7201a8"
             ],
             [
              0.3333333333333333,
              "#9c179e"
             ],
             [
              0.4444444444444444,
              "#bd3786"
             ],
             [
              0.5555555555555556,
              "#d8576b"
             ],
             [
              0.6666666666666666,
              "#ed7953"
             ],
             [
              0.7777777777777778,
              "#fb9f3a"
             ],
             [
              0.8888888888888888,
              "#fdca26"
             ],
             [
              1,
              "#f0f921"
             ]
            ],
            "type": "heatmap"
           }
          ],
          "heatmapgl": [
           {
            "colorbar": {
             "outlinewidth": 0,
             "ticks": ""
            },
            "colorscale": [
             [
              0,
              "#0d0887"
             ],
             [
              0.1111111111111111,
              "#46039f"
             ],
             [
              0.2222222222222222,
              "#7201a8"
             ],
             [
              0.3333333333333333,
              "#9c179e"
             ],
             [
              0.4444444444444444,
              "#bd3786"
             ],
             [
              0.5555555555555556,
              "#d8576b"
             ],
             [
              0.6666666666666666,
              "#ed7953"
             ],
             [
              0.7777777777777778,
              "#fb9f3a"
             ],
             [
              0.8888888888888888,
              "#fdca26"
             ],
             [
              1,
              "#f0f921"
             ]
            ],
            "type": "heatmapgl"
           }
          ],
          "histogram": [
           {
            "marker": {
             "colorbar": {
              "outlinewidth": 0,
              "ticks": ""
             }
            },
            "type": "histogram"
           }
          ],
          "histogram2d": [
           {
            "colorbar": {
             "outlinewidth": 0,
             "ticks": ""
            },
            "colorscale": [
             [
              0,
              "#0d0887"
             ],
             [
              0.1111111111111111,
              "#46039f"
             ],
             [
              0.2222222222222222,
              "#7201a8"
             ],
             [
              0.3333333333333333,
              "#9c179e"
             ],
             [
              0.4444444444444444,
              "#bd3786"
             ],
             [
              0.5555555555555556,
              "#d8576b"
             ],
             [
              0.6666666666666666,
              "#ed7953"
             ],
             [
              0.7777777777777778,
              "#fb9f3a"
             ],
             [
              0.8888888888888888,
              "#fdca26"
             ],
             [
              1,
              "#f0f921"
             ]
            ],
            "type": "histogram2d"
           }
          ],
          "histogram2dcontour": [
           {
            "colorbar": {
             "outlinewidth": 0,
             "ticks": ""
            },
            "colorscale": [
             [
              0,
              "#0d0887"
             ],
             [
              0.1111111111111111,
              "#46039f"
             ],
             [
              0.2222222222222222,
              "#7201a8"
             ],
             [
              0.3333333333333333,
              "#9c179e"
             ],
             [
              0.4444444444444444,
              "#bd3786"
             ],
             [
              0.5555555555555556,
              "#d8576b"
             ],
             [
              0.6666666666666666,
              "#ed7953"
             ],
             [
              0.7777777777777778,
              "#fb9f3a"
             ],
             [
              0.8888888888888888,
              "#fdca26"
             ],
             [
              1,
              "#f0f921"
             ]
            ],
            "type": "histogram2dcontour"
           }
          ],
          "mesh3d": [
           {
            "colorbar": {
             "outlinewidth": 0,
             "ticks": ""
            },
            "type": "mesh3d"
           }
          ],
          "parcoords": [
           {
            "line": {
             "colorbar": {
              "outlinewidth": 0,
              "ticks": ""
             }
            },
            "type": "parcoords"
           }
          ],
          "pie": [
           {
            "automargin": true,
            "type": "pie"
           }
          ],
          "scatter": [
           {
            "marker": {
             "colorbar": {
              "outlinewidth": 0,
              "ticks": ""
             }
            },
            "type": "scatter"
           }
          ],
          "scatter3d": [
           {
            "line": {
             "colorbar": {
              "outlinewidth": 0,
              "ticks": ""
             }
            },
            "marker": {
             "colorbar": {
              "outlinewidth": 0,
              "ticks": ""
             }
            },
            "type": "scatter3d"
           }
          ],
          "scattercarpet": [
           {
            "marker": {
             "colorbar": {
              "outlinewidth": 0,
              "ticks": ""
             }
            },
            "type": "scattercarpet"
           }
          ],
          "scattergeo": [
           {
            "marker": {
             "colorbar": {
              "outlinewidth": 0,
              "ticks": ""
             }
            },
            "type": "scattergeo"
           }
          ],
          "scattergl": [
           {
            "marker": {
             "colorbar": {
              "outlinewidth": 0,
              "ticks": ""
             }
            },
            "type": "scattergl"
           }
          ],
          "scattermapbox": [
           {
            "marker": {
             "colorbar": {
              "outlinewidth": 0,
              "ticks": ""
             }
            },
            "type": "scattermapbox"
           }
          ],
          "scatterpolar": [
           {
            "marker": {
             "colorbar": {
              "outlinewidth": 0,
              "ticks": ""
             }
            },
            "type": "scatterpolar"
           }
          ],
          "scatterpolargl": [
           {
            "marker": {
             "colorbar": {
              "outlinewidth": 0,
              "ticks": ""
             }
            },
            "type": "scatterpolargl"
           }
          ],
          "scatterternary": [
           {
            "marker": {
             "colorbar": {
              "outlinewidth": 0,
              "ticks": ""
             }
            },
            "type": "scatterternary"
           }
          ],
          "surface": [
           {
            "colorbar": {
             "outlinewidth": 0,
             "ticks": ""
            },
            "colorscale": [
             [
              0,
              "#0d0887"
             ],
             [
              0.1111111111111111,
              "#46039f"
             ],
             [
              0.2222222222222222,
              "#7201a8"
             ],
             [
              0.3333333333333333,
              "#9c179e"
             ],
             [
              0.4444444444444444,
              "#bd3786"
             ],
             [
              0.5555555555555556,
              "#d8576b"
             ],
             [
              0.6666666666666666,
              "#ed7953"
             ],
             [
              0.7777777777777778,
              "#fb9f3a"
             ],
             [
              0.8888888888888888,
              "#fdca26"
             ],
             [
              1,
              "#f0f921"
             ]
            ],
            "type": "surface"
           }
          ],
          "table": [
           {
            "cells": {
             "fill": {
              "color": "#EBF0F8"
             },
             "line": {
              "color": "white"
             }
            },
            "header": {
             "fill": {
              "color": "#C8D4E3"
             },
             "line": {
              "color": "white"
             }
            },
            "type": "table"
           }
          ]
         },
         "layout": {
          "annotationdefaults": {
           "arrowcolor": "#2a3f5f",
           "arrowhead": 0,
           "arrowwidth": 1
          },
          "coloraxis": {
           "colorbar": {
            "outlinewidth": 0,
            "ticks": ""
           }
          },
          "colorscale": {
           "diverging": [
            [
             0,
             "#8e0152"
            ],
            [
             0.1,
             "#c51b7d"
            ],
            [
             0.2,
             "#de77ae"
            ],
            [
             0.3,
             "#f1b6da"
            ],
            [
             0.4,
             "#fde0ef"
            ],
            [
             0.5,
             "#f7f7f7"
            ],
            [
             0.6,
             "#e6f5d0"
            ],
            [
             0.7,
             "#b8e186"
            ],
            [
             0.8,
             "#7fbc41"
            ],
            [
             0.9,
             "#4d9221"
            ],
            [
             1,
             "#276419"
            ]
           ],
           "sequential": [
            [
             0,
             "#0d0887"
            ],
            [
             0.1111111111111111,
             "#46039f"
            ],
            [
             0.2222222222222222,
             "#7201a8"
            ],
            [
             0.3333333333333333,
             "#9c179e"
            ],
            [
             0.4444444444444444,
             "#bd3786"
            ],
            [
             0.5555555555555556,
             "#d8576b"
            ],
            [
             0.6666666666666666,
             "#ed7953"
            ],
            [
             0.7777777777777778,
             "#fb9f3a"
            ],
            [
             0.8888888888888888,
             "#fdca26"
            ],
            [
             1,
             "#f0f921"
            ]
           ],
           "sequentialminus": [
            [
             0,
             "#0d0887"
            ],
            [
             0.1111111111111111,
             "#46039f"
            ],
            [
             0.2222222222222222,
             "#7201a8"
            ],
            [
             0.3333333333333333,
             "#9c179e"
            ],
            [
             0.4444444444444444,
             "#bd3786"
            ],
            [
             0.5555555555555556,
             "#d8576b"
            ],
            [
             0.6666666666666666,
             "#ed7953"
            ],
            [
             0.7777777777777778,
             "#fb9f3a"
            ],
            [
             0.8888888888888888,
             "#fdca26"
            ],
            [
             1,
             "#f0f921"
            ]
           ]
          },
          "colorway": [
           "#636efa",
           "#EF553B",
           "#00cc96",
           "#ab63fa",
           "#FFA15A",
           "#19d3f3",
           "#FF6692",
           "#B6E880",
           "#FF97FF",
           "#FECB52"
          ],
          "font": {
           "color": "#2a3f5f"
          },
          "geo": {
           "bgcolor": "white",
           "lakecolor": "white",
           "landcolor": "#E5ECF6",
           "showlakes": true,
           "showland": true,
           "subunitcolor": "white"
          },
          "hoverlabel": {
           "align": "left"
          },
          "hovermode": "closest",
          "mapbox": {
           "style": "light"
          },
          "paper_bgcolor": "white",
          "plot_bgcolor": "#E5ECF6",
          "polar": {
           "angularaxis": {
            "gridcolor": "white",
            "linecolor": "white",
            "ticks": ""
           },
           "bgcolor": "#E5ECF6",
           "radialaxis": {
            "gridcolor": "white",
            "linecolor": "white",
            "ticks": ""
           }
          },
          "scene": {
           "xaxis": {
            "backgroundcolor": "#E5ECF6",
            "gridcolor": "white",
            "gridwidth": 2,
            "linecolor": "white",
            "showbackground": true,
            "ticks": "",
            "zerolinecolor": "white"
           },
           "yaxis": {
            "backgroundcolor": "#E5ECF6",
            "gridcolor": "white",
            "gridwidth": 2,
            "linecolor": "white",
            "showbackground": true,
            "ticks": "",
            "zerolinecolor": "white"
           },
           "zaxis": {
            "backgroundcolor": "#E5ECF6",
            "gridcolor": "white",
            "gridwidth": 2,
            "linecolor": "white",
            "showbackground": true,
            "ticks": "",
            "zerolinecolor": "white"
           }
          },
          "shapedefaults": {
           "line": {
            "color": "#2a3f5f"
           }
          },
          "ternary": {
           "aaxis": {
            "gridcolor": "white",
            "linecolor": "white",
            "ticks": ""
           },
           "baxis": {
            "gridcolor": "white",
            "linecolor": "white",
            "ticks": ""
           },
           "bgcolor": "#E5ECF6",
           "caxis": {
            "gridcolor": "white",
            "linecolor": "white",
            "ticks": ""
           }
          },
          "title": {
           "x": 0.05
          },
          "xaxis": {
           "automargin": true,
           "gridcolor": "white",
           "linecolor": "white",
           "ticks": "",
           "title": {
            "standoff": 15
           },
           "zerolinecolor": "white",
           "zerolinewidth": 2
          },
          "yaxis": {
           "automargin": true,
           "gridcolor": "white",
           "linecolor": "white",
           "ticks": "",
           "title": {
            "standoff": 15
           },
           "zerolinecolor": "white",
           "zerolinewidth": 2
          }
         }
        },
        "title": {
         "text": "Store 4"
        }
       }
      },
      "text/html": [
       "<div>\n",
       "        \n",
       "        \n",
       "            <div id=\"dc0466fa-ec70-4314-afd2-92ab6a1b4521\" class=\"plotly-graph-div\" style=\"height:525px; width:100%;\"></div>\n",
       "            <script type=\"text/javascript\">\n",
       "                require([\"plotly\"], function(Plotly) {\n",
       "                    window.PLOTLYENV=window.PLOTLYENV || {};\n",
       "                    \n",
       "                if (document.getElementById(\"dc0466fa-ec70-4314-afd2-92ab6a1b4521\")) {\n",
       "                    Plotly.newPlot(\n",
       "                        'dc0466fa-ec70-4314-afd2-92ab6a1b4521',\n",
       "                        [{\"domain\": {\"x\": [0.0, 1.0], \"y\": [0.0, 1.0]}, \"hovertemplate\": \"label=%{label}<br>value=%{value}<extra></extra>\", \"labels\": [\"8am to 10am\", \"11am to 1pm\", \"2pm to 4pm\", \"5pm to 8pm\"], \"legendgroup\": \"\", \"name\": \"\", \"showlegend\": true, \"type\": \"pie\", \"values\": [25.329545454545453, 40.48725212464589, 49.80609418282548, 58.86609686609687]}],\n",
       "                        {\"legend\": {\"tracegroupgap\": 0}, \"template\": {\"data\": {\"bar\": [{\"error_x\": {\"color\": \"#2a3f5f\"}, \"error_y\": {\"color\": \"#2a3f5f\"}, \"marker\": {\"line\": {\"color\": \"#E5ECF6\", \"width\": 0.5}}, \"type\": \"bar\"}], \"barpolar\": [{\"marker\": {\"line\": {\"color\": \"#E5ECF6\", \"width\": 0.5}}, \"type\": \"barpolar\"}], \"carpet\": [{\"aaxis\": {\"endlinecolor\": \"#2a3f5f\", \"gridcolor\": \"white\", \"linecolor\": \"white\", \"minorgridcolor\": \"white\", \"startlinecolor\": \"#2a3f5f\"}, \"baxis\": {\"endlinecolor\": \"#2a3f5f\", \"gridcolor\": \"white\", \"linecolor\": \"white\", \"minorgridcolor\": \"white\", \"startlinecolor\": \"#2a3f5f\"}, \"type\": \"carpet\"}], \"choropleth\": [{\"colorbar\": {\"outlinewidth\": 0, \"ticks\": \"\"}, \"type\": \"choropleth\"}], \"contour\": [{\"colorbar\": {\"outlinewidth\": 0, \"ticks\": \"\"}, \"colorscale\": [[0.0, \"#0d0887\"], [0.1111111111111111, \"#46039f\"], [0.2222222222222222, \"#7201a8\"], [0.3333333333333333, \"#9c179e\"], [0.4444444444444444, \"#bd3786\"], [0.5555555555555556, \"#d8576b\"], [0.6666666666666666, \"#ed7953\"], [0.7777777777777778, \"#fb9f3a\"], [0.8888888888888888, \"#fdca26\"], [1.0, \"#f0f921\"]], \"type\": \"contour\"}], \"contourcarpet\": [{\"colorbar\": {\"outlinewidth\": 0, \"ticks\": \"\"}, \"type\": \"contourcarpet\"}], \"heatmap\": [{\"colorbar\": {\"outlinewidth\": 0, \"ticks\": \"\"}, \"colorscale\": [[0.0, \"#0d0887\"], [0.1111111111111111, \"#46039f\"], [0.2222222222222222, \"#7201a8\"], [0.3333333333333333, \"#9c179e\"], [0.4444444444444444, \"#bd3786\"], [0.5555555555555556, \"#d8576b\"], [0.6666666666666666, \"#ed7953\"], [0.7777777777777778, \"#fb9f3a\"], [0.8888888888888888, \"#fdca26\"], [1.0, \"#f0f921\"]], \"type\": \"heatmap\"}], \"heatmapgl\": [{\"colorbar\": {\"outlinewidth\": 0, \"ticks\": \"\"}, \"colorscale\": [[0.0, \"#0d0887\"], [0.1111111111111111, \"#46039f\"], [0.2222222222222222, \"#7201a8\"], [0.3333333333333333, \"#9c179e\"], [0.4444444444444444, \"#bd3786\"], [0.5555555555555556, \"#d8576b\"], [0.6666666666666666, \"#ed7953\"], [0.7777777777777778, \"#fb9f3a\"], [0.8888888888888888, \"#fdca26\"], [1.0, \"#f0f921\"]], \"type\": \"heatmapgl\"}], \"histogram\": [{\"marker\": {\"colorbar\": {\"outlinewidth\": 0, \"ticks\": \"\"}}, \"type\": \"histogram\"}], \"histogram2d\": [{\"colorbar\": {\"outlinewidth\": 0, \"ticks\": \"\"}, \"colorscale\": [[0.0, \"#0d0887\"], [0.1111111111111111, \"#46039f\"], [0.2222222222222222, \"#7201a8\"], [0.3333333333333333, \"#9c179e\"], [0.4444444444444444, \"#bd3786\"], [0.5555555555555556, \"#d8576b\"], [0.6666666666666666, \"#ed7953\"], [0.7777777777777778, \"#fb9f3a\"], [0.8888888888888888, \"#fdca26\"], [1.0, \"#f0f921\"]], \"type\": \"histogram2d\"}], \"histogram2dcontour\": [{\"colorbar\": {\"outlinewidth\": 0, \"ticks\": \"\"}, \"colorscale\": [[0.0, \"#0d0887\"], [0.1111111111111111, \"#46039f\"], [0.2222222222222222, \"#7201a8\"], [0.3333333333333333, \"#9c179e\"], [0.4444444444444444, \"#bd3786\"], [0.5555555555555556, \"#d8576b\"], [0.6666666666666666, \"#ed7953\"], [0.7777777777777778, \"#fb9f3a\"], [0.8888888888888888, \"#fdca26\"], [1.0, \"#f0f921\"]], \"type\": \"histogram2dcontour\"}], \"mesh3d\": [{\"colorbar\": {\"outlinewidth\": 0, \"ticks\": \"\"}, \"type\": \"mesh3d\"}], \"parcoords\": [{\"line\": {\"colorbar\": {\"outlinewidth\": 0, \"ticks\": \"\"}}, \"type\": \"parcoords\"}], \"pie\": [{\"automargin\": true, \"type\": \"pie\"}], \"scatter\": [{\"marker\": {\"colorbar\": {\"outlinewidth\": 0, \"ticks\": \"\"}}, \"type\": \"scatter\"}], \"scatter3d\": [{\"line\": {\"colorbar\": {\"outlinewidth\": 0, \"ticks\": \"\"}}, \"marker\": {\"colorbar\": {\"outlinewidth\": 0, \"ticks\": \"\"}}, \"type\": \"scatter3d\"}], \"scattercarpet\": [{\"marker\": {\"colorbar\": {\"outlinewidth\": 0, \"ticks\": \"\"}}, \"type\": \"scattercarpet\"}], \"scattergeo\": [{\"marker\": {\"colorbar\": {\"outlinewidth\": 0, \"ticks\": \"\"}}, \"type\": \"scattergeo\"}], \"scattergl\": [{\"marker\": {\"colorbar\": {\"outlinewidth\": 0, \"ticks\": \"\"}}, \"type\": \"scattergl\"}], \"scattermapbox\": [{\"marker\": {\"colorbar\": {\"outlinewidth\": 0, \"ticks\": \"\"}}, \"type\": \"scattermapbox\"}], \"scatterpolar\": [{\"marker\": {\"colorbar\": {\"outlinewidth\": 0, \"ticks\": \"\"}}, \"type\": \"scatterpolar\"}], \"scatterpolargl\": [{\"marker\": {\"colorbar\": {\"outlinewidth\": 0, \"ticks\": \"\"}}, \"type\": \"scatterpolargl\"}], \"scatterternary\": [{\"marker\": {\"colorbar\": {\"outlinewidth\": 0, \"ticks\": \"\"}}, \"type\": \"scatterternary\"}], \"surface\": [{\"colorbar\": {\"outlinewidth\": 0, \"ticks\": \"\"}, \"colorscale\": [[0.0, \"#0d0887\"], [0.1111111111111111, \"#46039f\"], [0.2222222222222222, \"#7201a8\"], [0.3333333333333333, \"#9c179e\"], [0.4444444444444444, \"#bd3786\"], [0.5555555555555556, \"#d8576b\"], [0.6666666666666666, \"#ed7953\"], [0.7777777777777778, \"#fb9f3a\"], [0.8888888888888888, \"#fdca26\"], [1.0, \"#f0f921\"]], \"type\": \"surface\"}], \"table\": [{\"cells\": {\"fill\": {\"color\": \"#EBF0F8\"}, \"line\": {\"color\": \"white\"}}, \"header\": {\"fill\": {\"color\": \"#C8D4E3\"}, \"line\": {\"color\": \"white\"}}, \"type\": \"table\"}]}, \"layout\": {\"annotationdefaults\": {\"arrowcolor\": \"#2a3f5f\", \"arrowhead\": 0, \"arrowwidth\": 1}, \"coloraxis\": {\"colorbar\": {\"outlinewidth\": 0, \"ticks\": \"\"}}, \"colorscale\": {\"diverging\": [[0, \"#8e0152\"], [0.1, \"#c51b7d\"], [0.2, \"#de77ae\"], [0.3, \"#f1b6da\"], [0.4, \"#fde0ef\"], [0.5, \"#f7f7f7\"], [0.6, \"#e6f5d0\"], [0.7, \"#b8e186\"], [0.8, \"#7fbc41\"], [0.9, \"#4d9221\"], [1, \"#276419\"]], \"sequential\": [[0.0, \"#0d0887\"], [0.1111111111111111, \"#46039f\"], [0.2222222222222222, \"#7201a8\"], [0.3333333333333333, \"#9c179e\"], [0.4444444444444444, \"#bd3786\"], [0.5555555555555556, \"#d8576b\"], [0.6666666666666666, \"#ed7953\"], [0.7777777777777778, \"#fb9f3a\"], [0.8888888888888888, \"#fdca26\"], [1.0, \"#f0f921\"]], \"sequentialminus\": [[0.0, \"#0d0887\"], [0.1111111111111111, \"#46039f\"], [0.2222222222222222, \"#7201a8\"], [0.3333333333333333, \"#9c179e\"], [0.4444444444444444, \"#bd3786\"], [0.5555555555555556, \"#d8576b\"], [0.6666666666666666, \"#ed7953\"], [0.7777777777777778, \"#fb9f3a\"], [0.8888888888888888, \"#fdca26\"], [1.0, \"#f0f921\"]]}, \"colorway\": [\"#636efa\", \"#EF553B\", \"#00cc96\", \"#ab63fa\", \"#FFA15A\", \"#19d3f3\", \"#FF6692\", \"#B6E880\", \"#FF97FF\", \"#FECB52\"], \"font\": {\"color\": \"#2a3f5f\"}, \"geo\": {\"bgcolor\": \"white\", \"lakecolor\": \"white\", \"landcolor\": \"#E5ECF6\", \"showlakes\": true, \"showland\": true, \"subunitcolor\": \"white\"}, \"hoverlabel\": {\"align\": \"left\"}, \"hovermode\": \"closest\", \"mapbox\": {\"style\": \"light\"}, \"paper_bgcolor\": \"white\", \"plot_bgcolor\": \"#E5ECF6\", \"polar\": {\"angularaxis\": {\"gridcolor\": \"white\", \"linecolor\": \"white\", \"ticks\": \"\"}, \"bgcolor\": \"#E5ECF6\", \"radialaxis\": {\"gridcolor\": \"white\", \"linecolor\": \"white\", \"ticks\": \"\"}}, \"scene\": {\"xaxis\": {\"backgroundcolor\": \"#E5ECF6\", \"gridcolor\": \"white\", \"gridwidth\": 2, \"linecolor\": \"white\", \"showbackground\": true, \"ticks\": \"\", \"zerolinecolor\": \"white\"}, \"yaxis\": {\"backgroundcolor\": \"#E5ECF6\", \"gridcolor\": \"white\", \"gridwidth\": 2, \"linecolor\": \"white\", \"showbackground\": true, \"ticks\": \"\", \"zerolinecolor\": \"white\"}, \"zaxis\": {\"backgroundcolor\": \"#E5ECF6\", \"gridcolor\": \"white\", \"gridwidth\": 2, \"linecolor\": \"white\", \"showbackground\": true, \"ticks\": \"\", \"zerolinecolor\": \"white\"}}, \"shapedefaults\": {\"line\": {\"color\": \"#2a3f5f\"}}, \"ternary\": {\"aaxis\": {\"gridcolor\": \"white\", \"linecolor\": \"white\", \"ticks\": \"\"}, \"baxis\": {\"gridcolor\": \"white\", \"linecolor\": \"white\", \"ticks\": \"\"}, \"bgcolor\": \"#E5ECF6\", \"caxis\": {\"gridcolor\": \"white\", \"linecolor\": \"white\", \"ticks\": \"\"}}, \"title\": {\"x\": 0.05}, \"xaxis\": {\"automargin\": true, \"gridcolor\": \"white\", \"linecolor\": \"white\", \"ticks\": \"\", \"title\": {\"standoff\": 15}, \"zerolinecolor\": \"white\", \"zerolinewidth\": 2}, \"yaxis\": {\"automargin\": true, \"gridcolor\": \"white\", \"linecolor\": \"white\", \"ticks\": \"\", \"title\": {\"standoff\": 15}, \"zerolinecolor\": \"white\", \"zerolinewidth\": 2}}}, \"title\": {\"text\": \"Store 4\"}},\n",
       "                        {\"responsive\": true}\n",
       "                    ).then(function(){\n",
       "                            \n",
       "var gd = document.getElementById('dc0466fa-ec70-4314-afd2-92ab6a1b4521');\n",
       "var x = new MutationObserver(function (mutations, observer) {{\n",
       "        var display = window.getComputedStyle(gd).display;\n",
       "        if (!display || display === 'none') {{\n",
       "            console.log([gd, 'removed!']);\n",
       "            Plotly.purge(gd);\n",
       "            observer.disconnect();\n",
       "        }}\n",
       "}});\n",
       "\n",
       "// Listen for the removal of the full notebook cells\n",
       "var notebookContainer = gd.closest('#notebook-container');\n",
       "if (notebookContainer) {{\n",
       "    x.observe(notebookContainer, {childList: true});\n",
       "}}\n",
       "\n",
       "// Listen for the clearing of the current output cell\n",
       "var outputEl = gd.closest('.output');\n",
       "if (outputEl) {{\n",
       "    x.observe(outputEl, {childList: true});\n",
       "}}\n",
       "\n",
       "                        })\n",
       "                };\n",
       "                });\n",
       "            </script>\n",
       "        </div>"
      ]
     },
     "metadata": {},
     "output_type": "display_data"
    }
   ],
   "source": [
    "names = ['8am to 10am', '11am to 1pm', '2pm to 4pm', '5pm to 8pm']\n",
    "  \n",
    "fig = px.pie(values=bucket_4.to_list(), names=names,title=\"Store 4\") \n",
    "fig.show()"
   ]
  },
  {
   "cell_type": "code",
   "execution_count": 253,
   "metadata": {},
   "outputs": [
    {
     "data": {
      "text/plain": [
       "StoreNumber            4\n",
       "dayOfTheYear         363\n",
       "3HourBucket            4\n",
       "GrossSoldQuantity    119\n",
       "Cash/Credit Site       1\n",
       "EBT Site               2\n",
       "Loyalty Site           1\n",
       "ExtraMile Site         1\n",
       "CoBrand                1\n",
       "Alcohol                2\n",
       "Carwash                2\n",
       "Food Service           1\n",
       "City                   4\n",
       "State                  1\n",
       "Month                 12\n",
       "WeekEnd                2\n",
       "Season                 4\n",
       "dayOfTheWeek           7\n",
       "dtype: int64"
      ]
     },
     "execution_count": 253,
     "metadata": {},
     "output_type": "execute_result"
    }
   ],
   "source": [
    "df.nunique()"
   ]
  },
  {
   "cell_type": "code",
   "execution_count": 254,
   "metadata": {},
   "outputs": [],
   "source": [
    "df = df.drop([\"Cash/Credit Site\" , \"Loyalty Site\" , \"ExtraMile Site\" , \"Food Service\" , \"CoBrand\"] , axis = 1)"
   ]
  },
  {
   "cell_type": "code",
   "execution_count": 255,
   "metadata": {},
   "outputs": [],
   "source": [
    "df = df.drop([\"State\"] , axis=1)"
   ]
  },
  {
   "cell_type": "code",
   "execution_count": 256,
   "metadata": {},
   "outputs": [],
   "source": [
    "target = df[\"GrossSoldQuantity\"]\n",
    "train = df.drop([\"GrossSoldQuantity\"] , axis=1)"
   ]
  },
  {
   "cell_type": "code",
   "execution_count": 257,
   "metadata": {},
   "outputs": [],
   "source": [
    "target = target.values.reshape(-1 , 1)"
   ]
  },
  {
   "cell_type": "code",
   "execution_count": 258,
   "metadata": {},
   "outputs": [],
   "source": [
    "train = train.drop([\"StoreNumber\"] , axis=1)"
   ]
  },
  {
   "cell_type": "code",
   "execution_count": 259,
   "metadata": {},
   "outputs": [],
   "source": [
    "train_copy = train.copy()"
   ]
  },
  {
   "cell_type": "code",
   "execution_count": 260,
   "metadata": {},
   "outputs": [
    {
     "data": {
      "text/html": [
       "<div>\n",
       "<style scoped>\n",
       "    .dataframe tbody tr th:only-of-type {\n",
       "        vertical-align: middle;\n",
       "    }\n",
       "\n",
       "    .dataframe tbody tr th {\n",
       "        vertical-align: top;\n",
       "    }\n",
       "\n",
       "    .dataframe thead th {\n",
       "        text-align: right;\n",
       "    }\n",
       "</style>\n",
       "<table border=\"1\" class=\"dataframe\">\n",
       "  <thead>\n",
       "    <tr style=\"text-align: right;\">\n",
       "      <th></th>\n",
       "      <th>dayOfTheYear</th>\n",
       "      <th>3HourBucket</th>\n",
       "      <th>EBT Site</th>\n",
       "      <th>Alcohol</th>\n",
       "      <th>Carwash</th>\n",
       "      <th>City</th>\n",
       "      <th>Month</th>\n",
       "      <th>WeekEnd</th>\n",
       "      <th>Season</th>\n",
       "      <th>dayOfTheWeek</th>\n",
       "    </tr>\n",
       "  </thead>\n",
       "  <tbody>\n",
       "    <tr>\n",
       "      <th>0</th>\n",
       "      <td>1</td>\n",
       "      <td>1</td>\n",
       "      <td>True</td>\n",
       "      <td>True</td>\n",
       "      <td>False</td>\n",
       "      <td>HOUSTON</td>\n",
       "      <td>January</td>\n",
       "      <td>0</td>\n",
       "      <td>Winter</td>\n",
       "      <td>4</td>\n",
       "    </tr>\n",
       "    <tr>\n",
       "      <th>1</th>\n",
       "      <td>1</td>\n",
       "      <td>2</td>\n",
       "      <td>True</td>\n",
       "      <td>True</td>\n",
       "      <td>False</td>\n",
       "      <td>HOUSTON</td>\n",
       "      <td>January</td>\n",
       "      <td>0</td>\n",
       "      <td>Winter</td>\n",
       "      <td>4</td>\n",
       "    </tr>\n",
       "    <tr>\n",
       "      <th>2</th>\n",
       "      <td>1</td>\n",
       "      <td>3</td>\n",
       "      <td>True</td>\n",
       "      <td>True</td>\n",
       "      <td>False</td>\n",
       "      <td>HOUSTON</td>\n",
       "      <td>January</td>\n",
       "      <td>0</td>\n",
       "      <td>Winter</td>\n",
       "      <td>4</td>\n",
       "    </tr>\n",
       "    <tr>\n",
       "      <th>3</th>\n",
       "      <td>1</td>\n",
       "      <td>4</td>\n",
       "      <td>True</td>\n",
       "      <td>True</td>\n",
       "      <td>False</td>\n",
       "      <td>HOUSTON</td>\n",
       "      <td>January</td>\n",
       "      <td>0</td>\n",
       "      <td>Winter</td>\n",
       "      <td>4</td>\n",
       "    </tr>\n",
       "    <tr>\n",
       "      <th>4</th>\n",
       "      <td>2</td>\n",
       "      <td>1</td>\n",
       "      <td>True</td>\n",
       "      <td>True</td>\n",
       "      <td>False</td>\n",
       "      <td>HOUSTON</td>\n",
       "      <td>January</td>\n",
       "      <td>1</td>\n",
       "      <td>Winter</td>\n",
       "      <td>5</td>\n",
       "    </tr>\n",
       "    <tr>\n",
       "      <th>...</th>\n",
       "      <td>...</td>\n",
       "      <td>...</td>\n",
       "      <td>...</td>\n",
       "      <td>...</td>\n",
       "      <td>...</td>\n",
       "      <td>...</td>\n",
       "      <td>...</td>\n",
       "      <td>...</td>\n",
       "      <td>...</td>\n",
       "      <td>...</td>\n",
       "    </tr>\n",
       "    <tr>\n",
       "      <th>5655</th>\n",
       "      <td>362</td>\n",
       "      <td>2</td>\n",
       "      <td>False</td>\n",
       "      <td>False</td>\n",
       "      <td>True</td>\n",
       "      <td>SAN ANTONiO</td>\n",
       "      <td>December</td>\n",
       "      <td>0</td>\n",
       "      <td>Winter</td>\n",
       "      <td>1</td>\n",
       "    </tr>\n",
       "    <tr>\n",
       "      <th>5656</th>\n",
       "      <td>362</td>\n",
       "      <td>3</td>\n",
       "      <td>False</td>\n",
       "      <td>False</td>\n",
       "      <td>True</td>\n",
       "      <td>SAN ANTONiO</td>\n",
       "      <td>December</td>\n",
       "      <td>0</td>\n",
       "      <td>Winter</td>\n",
       "      <td>1</td>\n",
       "    </tr>\n",
       "    <tr>\n",
       "      <th>5657</th>\n",
       "      <td>362</td>\n",
       "      <td>4</td>\n",
       "      <td>False</td>\n",
       "      <td>False</td>\n",
       "      <td>True</td>\n",
       "      <td>SAN ANTONiO</td>\n",
       "      <td>December</td>\n",
       "      <td>0</td>\n",
       "      <td>Winter</td>\n",
       "      <td>1</td>\n",
       "    </tr>\n",
       "    <tr>\n",
       "      <th>5658</th>\n",
       "      <td>363</td>\n",
       "      <td>3</td>\n",
       "      <td>False</td>\n",
       "      <td>False</td>\n",
       "      <td>True</td>\n",
       "      <td>SAN ANTONiO</td>\n",
       "      <td>December</td>\n",
       "      <td>0</td>\n",
       "      <td>Winter</td>\n",
       "      <td>2</td>\n",
       "    </tr>\n",
       "    <tr>\n",
       "      <th>5659</th>\n",
       "      <td>363</td>\n",
       "      <td>4</td>\n",
       "      <td>False</td>\n",
       "      <td>False</td>\n",
       "      <td>True</td>\n",
       "      <td>SAN ANTONiO</td>\n",
       "      <td>December</td>\n",
       "      <td>0</td>\n",
       "      <td>Winter</td>\n",
       "      <td>2</td>\n",
       "    </tr>\n",
       "  </tbody>\n",
       "</table>\n",
       "<p>5660 rows × 10 columns</p>\n",
       "</div>"
      ],
      "text/plain": [
       "      dayOfTheYear  3HourBucket  EBT Site  Alcohol  Carwash         City  \\\n",
       "0                1            1      True     True    False      HOUSTON   \n",
       "1                1            2      True     True    False      HOUSTON   \n",
       "2                1            3      True     True    False      HOUSTON   \n",
       "3                1            4      True     True    False      HOUSTON   \n",
       "4                2            1      True     True    False      HOUSTON   \n",
       "...            ...          ...       ...      ...      ...          ...   \n",
       "5655           362            2     False    False     True  SAN ANTONiO   \n",
       "5656           362            3     False    False     True  SAN ANTONiO   \n",
       "5657           362            4     False    False     True  SAN ANTONiO   \n",
       "5658           363            3     False    False     True  SAN ANTONiO   \n",
       "5659           363            4     False    False     True  SAN ANTONiO   \n",
       "\n",
       "         Month  WeekEnd  Season  dayOfTheWeek  \n",
       "0      January        0  Winter             4  \n",
       "1      January        0  Winter             4  \n",
       "2      January        0  Winter             4  \n",
       "3      January        0  Winter             4  \n",
       "4      January        1  Winter             5  \n",
       "...        ...      ...     ...           ...  \n",
       "5655  December        0  Winter             1  \n",
       "5656  December        0  Winter             1  \n",
       "5657  December        0  Winter             1  \n",
       "5658  December        0  Winter             2  \n",
       "5659  December        0  Winter             2  \n",
       "\n",
       "[5660 rows x 10 columns]"
      ]
     },
     "execution_count": 260,
     "metadata": {},
     "output_type": "execute_result"
    }
   ],
   "source": [
    "train_copy"
   ]
  },
  {
   "cell_type": "code",
   "execution_count": 261,
   "metadata": {},
   "outputs": [],
   "source": [
    "train_copy = train_copy.drop([\"dayOfTheYear\"] , axis=1)"
   ]
  },
  {
   "cell_type": "code",
   "execution_count": 262,
   "metadata": {},
   "outputs": [
    {
     "data": {
      "text/html": [
       "<div>\n",
       "<style scoped>\n",
       "    .dataframe tbody tr th:only-of-type {\n",
       "        vertical-align: middle;\n",
       "    }\n",
       "\n",
       "    .dataframe tbody tr th {\n",
       "        vertical-align: top;\n",
       "    }\n",
       "\n",
       "    .dataframe thead th {\n",
       "        text-align: right;\n",
       "    }\n",
       "</style>\n",
       "<table border=\"1\" class=\"dataframe\">\n",
       "  <thead>\n",
       "    <tr style=\"text-align: right;\">\n",
       "      <th></th>\n",
       "      <th>3HourBucket</th>\n",
       "      <th>EBT Site</th>\n",
       "      <th>Alcohol</th>\n",
       "      <th>Carwash</th>\n",
       "      <th>City</th>\n",
       "      <th>Month</th>\n",
       "      <th>WeekEnd</th>\n",
       "      <th>Season</th>\n",
       "      <th>dayOfTheWeek</th>\n",
       "    </tr>\n",
       "  </thead>\n",
       "  <tbody>\n",
       "    <tr>\n",
       "      <th>0</th>\n",
       "      <td>1</td>\n",
       "      <td>True</td>\n",
       "      <td>True</td>\n",
       "      <td>False</td>\n",
       "      <td>HOUSTON</td>\n",
       "      <td>January</td>\n",
       "      <td>0</td>\n",
       "      <td>Winter</td>\n",
       "      <td>4</td>\n",
       "    </tr>\n",
       "    <tr>\n",
       "      <th>1</th>\n",
       "      <td>2</td>\n",
       "      <td>True</td>\n",
       "      <td>True</td>\n",
       "      <td>False</td>\n",
       "      <td>HOUSTON</td>\n",
       "      <td>January</td>\n",
       "      <td>0</td>\n",
       "      <td>Winter</td>\n",
       "      <td>4</td>\n",
       "    </tr>\n",
       "    <tr>\n",
       "      <th>2</th>\n",
       "      <td>3</td>\n",
       "      <td>True</td>\n",
       "      <td>True</td>\n",
       "      <td>False</td>\n",
       "      <td>HOUSTON</td>\n",
       "      <td>January</td>\n",
       "      <td>0</td>\n",
       "      <td>Winter</td>\n",
       "      <td>4</td>\n",
       "    </tr>\n",
       "    <tr>\n",
       "      <th>3</th>\n",
       "      <td>4</td>\n",
       "      <td>True</td>\n",
       "      <td>True</td>\n",
       "      <td>False</td>\n",
       "      <td>HOUSTON</td>\n",
       "      <td>January</td>\n",
       "      <td>0</td>\n",
       "      <td>Winter</td>\n",
       "      <td>4</td>\n",
       "    </tr>\n",
       "    <tr>\n",
       "      <th>4</th>\n",
       "      <td>1</td>\n",
       "      <td>True</td>\n",
       "      <td>True</td>\n",
       "      <td>False</td>\n",
       "      <td>HOUSTON</td>\n",
       "      <td>January</td>\n",
       "      <td>1</td>\n",
       "      <td>Winter</td>\n",
       "      <td>5</td>\n",
       "    </tr>\n",
       "    <tr>\n",
       "      <th>...</th>\n",
       "      <td>...</td>\n",
       "      <td>...</td>\n",
       "      <td>...</td>\n",
       "      <td>...</td>\n",
       "      <td>...</td>\n",
       "      <td>...</td>\n",
       "      <td>...</td>\n",
       "      <td>...</td>\n",
       "      <td>...</td>\n",
       "    </tr>\n",
       "    <tr>\n",
       "      <th>5655</th>\n",
       "      <td>2</td>\n",
       "      <td>False</td>\n",
       "      <td>False</td>\n",
       "      <td>True</td>\n",
       "      <td>SAN ANTONiO</td>\n",
       "      <td>December</td>\n",
       "      <td>0</td>\n",
       "      <td>Winter</td>\n",
       "      <td>1</td>\n",
       "    </tr>\n",
       "    <tr>\n",
       "      <th>5656</th>\n",
       "      <td>3</td>\n",
       "      <td>False</td>\n",
       "      <td>False</td>\n",
       "      <td>True</td>\n",
       "      <td>SAN ANTONiO</td>\n",
       "      <td>December</td>\n",
       "      <td>0</td>\n",
       "      <td>Winter</td>\n",
       "      <td>1</td>\n",
       "    </tr>\n",
       "    <tr>\n",
       "      <th>5657</th>\n",
       "      <td>4</td>\n",
       "      <td>False</td>\n",
       "      <td>False</td>\n",
       "      <td>True</td>\n",
       "      <td>SAN ANTONiO</td>\n",
       "      <td>December</td>\n",
       "      <td>0</td>\n",
       "      <td>Winter</td>\n",
       "      <td>1</td>\n",
       "    </tr>\n",
       "    <tr>\n",
       "      <th>5658</th>\n",
       "      <td>3</td>\n",
       "      <td>False</td>\n",
       "      <td>False</td>\n",
       "      <td>True</td>\n",
       "      <td>SAN ANTONiO</td>\n",
       "      <td>December</td>\n",
       "      <td>0</td>\n",
       "      <td>Winter</td>\n",
       "      <td>2</td>\n",
       "    </tr>\n",
       "    <tr>\n",
       "      <th>5659</th>\n",
       "      <td>4</td>\n",
       "      <td>False</td>\n",
       "      <td>False</td>\n",
       "      <td>True</td>\n",
       "      <td>SAN ANTONiO</td>\n",
       "      <td>December</td>\n",
       "      <td>0</td>\n",
       "      <td>Winter</td>\n",
       "      <td>2</td>\n",
       "    </tr>\n",
       "  </tbody>\n",
       "</table>\n",
       "<p>5660 rows × 9 columns</p>\n",
       "</div>"
      ],
      "text/plain": [
       "      3HourBucket  EBT Site  Alcohol  Carwash         City     Month  WeekEnd  \\\n",
       "0               1      True     True    False      HOUSTON   January        0   \n",
       "1               2      True     True    False      HOUSTON   January        0   \n",
       "2               3      True     True    False      HOUSTON   January        0   \n",
       "3               4      True     True    False      HOUSTON   January        0   \n",
       "4               1      True     True    False      HOUSTON   January        1   \n",
       "...           ...       ...      ...      ...          ...       ...      ...   \n",
       "5655            2     False    False     True  SAN ANTONiO  December        0   \n",
       "5656            3     False    False     True  SAN ANTONiO  December        0   \n",
       "5657            4     False    False     True  SAN ANTONiO  December        0   \n",
       "5658            3     False    False     True  SAN ANTONiO  December        0   \n",
       "5659            4     False    False     True  SAN ANTONiO  December        0   \n",
       "\n",
       "      Season  dayOfTheWeek  \n",
       "0     Winter             4  \n",
       "1     Winter             4  \n",
       "2     Winter             4  \n",
       "3     Winter             4  \n",
       "4     Winter             5  \n",
       "...      ...           ...  \n",
       "5655  Winter             1  \n",
       "5656  Winter             1  \n",
       "5657  Winter             1  \n",
       "5658  Winter             2  \n",
       "5659  Winter             2  \n",
       "\n",
       "[5660 rows x 9 columns]"
      ]
     },
     "execution_count": 262,
     "metadata": {},
     "output_type": "execute_result"
    }
   ],
   "source": [
    "train_copy"
   ]
  },
  {
   "cell_type": "code",
   "execution_count": 263,
   "metadata": {},
   "outputs": [],
   "source": [
    "from sklearn.preprocessing import LabelEncoder\n",
    "le = LabelEncoder()"
   ]
  },
  {
   "cell_type": "code",
   "execution_count": 264,
   "metadata": {},
   "outputs": [],
   "source": [
    "train_copy = train_copy.apply(le.fit_transform)"
   ]
  },
  {
   "cell_type": "code",
   "execution_count": 266,
   "metadata": {},
   "outputs": [],
   "source": [
    "import xgboost as xgb\n",
    "model = xgb.XGBRegressor(max_depth=8,\n",
    "    learning_rate=0.1,\n",
    "    n_estimators=1000,\n",
    "    verbosity=2,\n",
    "    silent=None,\n",
    "    objective='reg:linear',\n",
    "    booster='gbtree',\n",
    "    n_jobs=-1,\n",
    "    nthread=None,\n",
    "    gamma=0,\n",
    "    min_child_weight=1,\n",
    "    max_delta_step=0,\n",
    "    subsample=0.7,\n",
    "    colsample_bytree=1,\n",
    "    colsample_bylevel=1,\n",
    "    colsample_bynode=1,\n",
    "    reg_alpha=0,\n",
    "    reg_lambda=1,\n",
    "    scale_pos_weight=1,\n",
    "    base_score=0.5,\n",
    "    random_state=0,\n",
    "    seed=None)"
   ]
  },
  {
   "cell_type": "code",
   "execution_count": 267,
   "metadata": {},
   "outputs": [],
   "source": [
    "from sklearn.model_selection import train_test_split as split\n",
    "x_train , x_test , y_train , y_test = split(train_copy , target , test_size=0.2 , stratify=train_copy[\"City\"] , random_state=42)"
   ]
  },
  {
   "cell_type": "code",
   "execution_count": 269,
   "metadata": {},
   "outputs": [
    {
     "name": "stdout",
     "output_type": "stream",
     "text": [
      "[01:26:06] WARNING: C:/Users/Administrator/workspace/xgboost-win64_release_1.3.0/src/objective/regression_obj.cu:170: reg:linear is now deprecated in favor of reg:squarederror.\n",
      "[01:26:06] INFO: C:/Users/Administrator/workspace/xgboost-win64_release_1.3.0/src/tree/updater_prune.cc:101: tree pruning end, 110 extra nodes, 0 pruned nodes, max_depth=8\n",
      "[0]\tvalidation_0-rmse:28.86312\n",
      "[01:26:06] INFO: C:/Users/Administrator/workspace/xgboost-win64_release_1.3.0/src/tree/updater_prune.cc:101: tree pruning end, 100 extra nodes, 0 pruned nodes, max_depth=8\n",
      "[01:26:06] INFO: C:/Users/Administrator/workspace/xgboost-win64_release_1.3.0/src/tree/updater_prune.cc:101: tree pruning end, 118 extra nodes, 0 pruned nodes, max_depth=8\n",
      "[01:26:06] INFO: C:/Users/Administrator/workspace/xgboost-win64_release_1.3.0/src/tree/updater_prune.cc:101: tree pruning end, 138 extra nodes, 0 pruned nodes, max_depth=8\n",
      "[01:26:06] INFO: C:/Users/Administrator/workspace/xgboost-win64_release_1.3.0/src/tree/updater_prune.cc:101: tree pruning end, 144 extra nodes, 0 pruned nodes, max_depth=8\n",
      "[01:26:06] INFO: C:/Users/Administrator/workspace/xgboost-win64_release_1.3.0/src/tree/updater_prune.cc:101: tree pruning end, 160 extra nodes, 0 pruned nodes, max_depth=8\n",
      "[01:26:06] INFO: C:/Users/Administrator/workspace/xgboost-win64_release_1.3.0/src/tree/updater_prune.cc:101: tree pruning end, 208 extra nodes, 0 pruned nodes, max_depth=8\n",
      "[01:26:06] INFO: C:/Users/Administrator/workspace/xgboost-win64_release_1.3.0/src/tree/updater_prune.cc:101: tree pruning end, 214 extra nodes, 0 pruned nodes, max_depth=8\n",
      "[01:26:06] INFO: C:/Users/Administrator/workspace/xgboost-win64_release_1.3.0/src/tree/updater_prune.cc:101: tree pruning end, 220 extra nodes, 0 pruned nodes, max_depth=8\n",
      "[01:26:06] INFO: C:/Users/Administrator/workspace/xgboost-win64_release_1.3.0/src/tree/updater_prune.cc:101: tree pruning end, 256 extra nodes, 0 pruned nodes, max_depth=8\n",
      "[01:26:06] INFO: C:/Users/Administrator/workspace/xgboost-win64_release_1.3.0/src/tree/updater_prune.cc:101: tree pruning end, 254 extra nodes, 0 pruned nodes, max_depth=8\n",
      "[10]\tvalidation_0-rmse:14.13854\n",
      "[01:26:06] INFO: C:/Users/Administrator/workspace/xgboost-win64_release_1.3.0/src/tree/updater_prune.cc:101: tree pruning end, 296 extra nodes, 0 pruned nodes, max_depth=8\n",
      "[01:26:06] INFO: C:/Users/Administrator/workspace/xgboost-win64_release_1.3.0/src/tree/updater_prune.cc:101: tree pruning end, 288 extra nodes, 0 pruned nodes, max_depth=8\n",
      "[01:26:06] INFO: C:/Users/Administrator/workspace/xgboost-win64_release_1.3.0/src/tree/updater_prune.cc:101: tree pruning end, 368 extra nodes, 0 pruned nodes, max_depth=8\n",
      "[01:26:06] INFO: C:/Users/Administrator/workspace/xgboost-win64_release_1.3.0/src/tree/updater_prune.cc:101: tree pruning end, 354 extra nodes, 0 pruned nodes, max_depth=8\n",
      "[01:26:06] INFO: C:/Users/Administrator/workspace/xgboost-win64_release_1.3.0/src/tree/updater_prune.cc:101: tree pruning end, 354 extra nodes, 0 pruned nodes, max_depth=8\n",
      "[01:26:06] INFO: C:/Users/Administrator/workspace/xgboost-win64_release_1.3.0/src/tree/updater_prune.cc:101: tree pruning end, 326 extra nodes, 0 pruned nodes, max_depth=8\n",
      "[01:26:06] INFO: C:/Users/Administrator/workspace/xgboost-win64_release_1.3.0/src/tree/updater_prune.cc:101: tree pruning end, 348 extra nodes, 0 pruned nodes, max_depth=8\n",
      "[01:26:06] INFO: C:/Users/Administrator/workspace/xgboost-win64_release_1.3.0/src/tree/updater_prune.cc:101: tree pruning end, 378 extra nodes, 0 pruned nodes, max_depth=8\n",
      "[01:26:06] INFO: C:/Users/Administrator/workspace/xgboost-win64_release_1.3.0/src/tree/updater_prune.cc:101: tree pruning end, 402 extra nodes, 0 pruned nodes, max_depth=8\n",
      "[01:26:06] INFO: C:/Users/Administrator/workspace/xgboost-win64_release_1.3.0/src/tree/updater_prune.cc:101: tree pruning end, 410 extra nodes, 0 pruned nodes, max_depth=8\n",
      "[20]\tvalidation_0-rmse:10.67354\n",
      "[01:26:06] INFO: C:/Users/Administrator/workspace/xgboost-win64_release_1.3.0/src/tree/updater_prune.cc:101: tree pruning end, 366 extra nodes, 0 pruned nodes, max_depth=8\n",
      "[01:26:06] INFO: C:/Users/Administrator/workspace/xgboost-win64_release_1.3.0/src/tree/updater_prune.cc:101: tree pruning end, 424 extra nodes, 0 pruned nodes, max_depth=8\n",
      "[01:26:06] INFO: C:/Users/Administrator/workspace/xgboost-win64_release_1.3.0/src/tree/updater_prune.cc:101: tree pruning end, 422 extra nodes, 0 pruned nodes, max_depth=8\n",
      "[01:26:06] INFO: C:/Users/Administrator/workspace/xgboost-win64_release_1.3.0/src/tree/updater_prune.cc:101: tree pruning end, 420 extra nodes, 0 pruned nodes, max_depth=8\n",
      "[01:26:06] INFO: C:/Users/Administrator/workspace/xgboost-win64_release_1.3.0/src/tree/updater_prune.cc:101: tree pruning end, 398 extra nodes, 0 pruned nodes, max_depth=8\n",
      "[01:26:06] INFO: C:/Users/Administrator/workspace/xgboost-win64_release_1.3.0/src/tree/updater_prune.cc:101: tree pruning end, 426 extra nodes, 0 pruned nodes, max_depth=8\n",
      "[01:26:06] INFO: C:/Users/Administrator/workspace/xgboost-win64_release_1.3.0/src/tree/updater_prune.cc:101: tree pruning end, 416 extra nodes, 0 pruned nodes, max_depth=8\n",
      "[01:26:06] INFO: C:/Users/Administrator/workspace/xgboost-win64_release_1.3.0/src/tree/updater_prune.cc:101: tree pruning end, 378 extra nodes, 0 pruned nodes, max_depth=8\n",
      "[01:26:06] INFO: C:/Users/Administrator/workspace/xgboost-win64_release_1.3.0/src/tree/updater_prune.cc:101: tree pruning end, 422 extra nodes, 0 pruned nodes, max_depth=8\n",
      "[01:26:06] INFO: C:/Users/Administrator/workspace/xgboost-win64_release_1.3.0/src/tree/updater_prune.cc:101: tree pruning end, 426 extra nodes, 0 pruned nodes, max_depth=8\n",
      "[30]\tvalidation_0-rmse:10.19026\n",
      "[01:26:06] INFO: C:/Users/Administrator/workspace/xgboost-win64_release_1.3.0/src/tree/updater_prune.cc:101: tree pruning end, 448 extra nodes, 0 pruned nodes, max_depth=8\n",
      "[01:26:06] INFO: C:/Users/Administrator/workspace/xgboost-win64_release_1.3.0/src/tree/updater_prune.cc:101: tree pruning end, 414 extra nodes, 0 pruned nodes, max_depth=8\n",
      "[01:26:06] INFO: C:/Users/Administrator/workspace/xgboost-win64_release_1.3.0/src/tree/updater_prune.cc:101: tree pruning end, 464 extra nodes, 0 pruned nodes, max_depth=8\n",
      "[01:26:06] INFO: C:/Users/Administrator/workspace/xgboost-win64_release_1.3.0/src/tree/updater_prune.cc:101: tree pruning end, 436 extra nodes, 0 pruned nodes, max_depth=8\n",
      "[01:26:06] INFO: C:/Users/Administrator/workspace/xgboost-win64_release_1.3.0/src/tree/updater_prune.cc:101: tree pruning end, 374 extra nodes, 0 pruned nodes, max_depth=8\n",
      "[01:26:06] INFO: C:/Users/Administrator/workspace/xgboost-win64_release_1.3.0/src/tree/updater_prune.cc:101: tree pruning end, 442 extra nodes, 0 pruned nodes, max_depth=8\n",
      "[01:26:06] INFO: C:/Users/Administrator/workspace/xgboost-win64_release_1.3.0/src/tree/updater_prune.cc:101: tree pruning end, 420 extra nodes, 0 pruned nodes, max_depth=8\n",
      "[01:26:06] INFO: C:/Users/Administrator/workspace/xgboost-win64_release_1.3.0/src/tree/updater_prune.cc:101: tree pruning end, 428 extra nodes, 0 pruned nodes, max_depth=8\n",
      "[01:26:06] INFO: C:/Users/Administrator/workspace/xgboost-win64_release_1.3.0/src/tree/updater_prune.cc:101: tree pruning end, 418 extra nodes, 0 pruned nodes, max_depth=8\n",
      "[01:26:06] INFO: C:/Users/Administrator/workspace/xgboost-win64_release_1.3.0/src/tree/updater_prune.cc:101: tree pruning end, 364 extra nodes, 0 pruned nodes, max_depth=8\n",
      "[40]\tvalidation_0-rmse:10.12341\n",
      "[01:26:06] INFO: C:/Users/Administrator/workspace/xgboost-win64_release_1.3.0/src/tree/updater_prune.cc:101: tree pruning end, 416 extra nodes, 0 pruned nodes, max_depth=8\n",
      "[01:26:06] INFO: C:/Users/Administrator/workspace/xgboost-win64_release_1.3.0/src/tree/updater_prune.cc:101: tree pruning end, 424 extra nodes, 0 pruned nodes, max_depth=8\n",
      "[01:26:06] INFO: C:/Users/Administrator/workspace/xgboost-win64_release_1.3.0/src/tree/updater_prune.cc:101: tree pruning end, 396 extra nodes, 0 pruned nodes, max_depth=8\n",
      "[01:26:06] INFO: C:/Users/Administrator/workspace/xgboost-win64_release_1.3.0/src/tree/updater_prune.cc:101: tree pruning end, 408 extra nodes, 0 pruned nodes, max_depth=8\n",
      "[01:26:06] INFO: C:/Users/Administrator/workspace/xgboost-win64_release_1.3.0/src/tree/updater_prune.cc:101: tree pruning end, 398 extra nodes, 0 pruned nodes, max_depth=8\n",
      "[01:26:06] INFO: C:/Users/Administrator/workspace/xgboost-win64_release_1.3.0/src/tree/updater_prune.cc:101: tree pruning end, 378 extra nodes, 0 pruned nodes, max_depth=8\n",
      "[01:26:06] INFO: C:/Users/Administrator/workspace/xgboost-win64_release_1.3.0/src/tree/updater_prune.cc:101: tree pruning end, 456 extra nodes, 0 pruned nodes, max_depth=8\n",
      "[01:26:06] INFO: C:/Users/Administrator/workspace/xgboost-win64_release_1.3.0/src/tree/updater_prune.cc:101: tree pruning end, 450 extra nodes, 0 pruned nodes, max_depth=8\n",
      "[01:26:06] INFO: C:/Users/Administrator/workspace/xgboost-win64_release_1.3.0/src/tree/updater_prune.cc:101: tree pruning end, 460 extra nodes, 0 pruned nodes, max_depth=8\n",
      "[01:26:06] INFO: C:/Users/Administrator/workspace/xgboost-win64_release_1.3.0/src/tree/updater_prune.cc:101: tree pruning end, 422 extra nodes, 0 pruned nodes, max_depth=8\n",
      "[50]\tvalidation_0-rmse:10.30262\n"
     ]
    },
    {
     "name": "stdout",
     "output_type": "stream",
     "text": [
      "[01:26:06] INFO: C:/Users/Administrator/workspace/xgboost-win64_release_1.3.0/src/tree/updater_prune.cc:101: tree pruning end, 418 extra nodes, 0 pruned nodes, max_depth=8\n",
      "[01:26:06] INFO: C:/Users/Administrator/workspace/xgboost-win64_release_1.3.0/src/tree/updater_prune.cc:101: tree pruning end, 448 extra nodes, 0 pruned nodes, max_depth=8\n",
      "[01:26:06] INFO: C:/Users/Administrator/workspace/xgboost-win64_release_1.3.0/src/tree/updater_prune.cc:101: tree pruning end, 416 extra nodes, 0 pruned nodes, max_depth=8\n",
      "[01:26:06] INFO: C:/Users/Administrator/workspace/xgboost-win64_release_1.3.0/src/tree/updater_prune.cc:101: tree pruning end, 414 extra nodes, 0 pruned nodes, max_depth=8\n",
      "[01:26:06] INFO: C:/Users/Administrator/workspace/xgboost-win64_release_1.3.0/src/tree/updater_prune.cc:101: tree pruning end, 408 extra nodes, 0 pruned nodes, max_depth=8\n",
      "[01:26:06] INFO: C:/Users/Administrator/workspace/xgboost-win64_release_1.3.0/src/tree/updater_prune.cc:101: tree pruning end, 338 extra nodes, 0 pruned nodes, max_depth=8\n",
      "[01:26:06] INFO: C:/Users/Administrator/workspace/xgboost-win64_release_1.3.0/src/tree/updater_prune.cc:101: tree pruning end, 420 extra nodes, 0 pruned nodes, max_depth=8\n",
      "[01:26:06] INFO: C:/Users/Administrator/workspace/xgboost-win64_release_1.3.0/src/tree/updater_prune.cc:101: tree pruning end, 396 extra nodes, 0 pruned nodes, max_depth=8\n",
      "[01:26:06] INFO: C:/Users/Administrator/workspace/xgboost-win64_release_1.3.0/src/tree/updater_prune.cc:101: tree pruning end, 422 extra nodes, 0 pruned nodes, max_depth=8\n",
      "[01:26:06] INFO: C:/Users/Administrator/workspace/xgboost-win64_release_1.3.0/src/tree/updater_prune.cc:101: tree pruning end, 456 extra nodes, 0 pruned nodes, max_depth=8\n",
      "[60]\tvalidation_0-rmse:10.44067\n",
      "[01:26:06] INFO: C:/Users/Administrator/workspace/xgboost-win64_release_1.3.0/src/tree/updater_prune.cc:101: tree pruning end, 454 extra nodes, 0 pruned nodes, max_depth=8\n",
      "[01:26:06] INFO: C:/Users/Administrator/workspace/xgboost-win64_release_1.3.0/src/tree/updater_prune.cc:101: tree pruning end, 428 extra nodes, 0 pruned nodes, max_depth=8\n",
      "[01:26:06] INFO: C:/Users/Administrator/workspace/xgboost-win64_release_1.3.0/src/tree/updater_prune.cc:101: tree pruning end, 388 extra nodes, 0 pruned nodes, max_depth=8\n",
      "[01:26:06] INFO: C:/Users/Administrator/workspace/xgboost-win64_release_1.3.0/src/tree/updater_prune.cc:101: tree pruning end, 390 extra nodes, 0 pruned nodes, max_depth=8\n",
      "[01:26:06] INFO: C:/Users/Administrator/workspace/xgboost-win64_release_1.3.0/src/tree/updater_prune.cc:101: tree pruning end, 436 extra nodes, 0 pruned nodes, max_depth=8\n",
      "[01:26:06] INFO: C:/Users/Administrator/workspace/xgboost-win64_release_1.3.0/src/tree/updater_prune.cc:101: tree pruning end, 434 extra nodes, 0 pruned nodes, max_depth=8\n",
      "[01:26:06] INFO: C:/Users/Administrator/workspace/xgboost-win64_release_1.3.0/src/tree/updater_prune.cc:101: tree pruning end, 418 extra nodes, 0 pruned nodes, max_depth=8\n",
      "[01:26:06] INFO: C:/Users/Administrator/workspace/xgboost-win64_release_1.3.0/src/tree/updater_prune.cc:101: tree pruning end, 448 extra nodes, 0 pruned nodes, max_depth=8\n",
      "[01:26:06] INFO: C:/Users/Administrator/workspace/xgboost-win64_release_1.3.0/src/tree/updater_prune.cc:101: tree pruning end, 458 extra nodes, 0 pruned nodes, max_depth=8\n",
      "[01:26:06] INFO: C:/Users/Administrator/workspace/xgboost-win64_release_1.3.0/src/tree/updater_prune.cc:101: tree pruning end, 402 extra nodes, 0 pruned nodes, max_depth=8\n",
      "[70]\tvalidation_0-rmse:10.61824\n",
      "[01:26:06] INFO: C:/Users/Administrator/workspace/xgboost-win64_release_1.3.0/src/tree/updater_prune.cc:101: tree pruning end, 416 extra nodes, 0 pruned nodes, max_depth=8\n",
      "[01:26:06] INFO: C:/Users/Administrator/workspace/xgboost-win64_release_1.3.0/src/tree/updater_prune.cc:101: tree pruning end, 414 extra nodes, 0 pruned nodes, max_depth=8\n",
      "[01:26:06] INFO: C:/Users/Administrator/workspace/xgboost-win64_release_1.3.0/src/tree/updater_prune.cc:101: tree pruning end, 422 extra nodes, 0 pruned nodes, max_depth=8\n",
      "[01:26:06] INFO: C:/Users/Administrator/workspace/xgboost-win64_release_1.3.0/src/tree/updater_prune.cc:101: tree pruning end, 352 extra nodes, 0 pruned nodes, max_depth=8\n",
      "[01:26:06] INFO: C:/Users/Administrator/workspace/xgboost-win64_release_1.3.0/src/tree/updater_prune.cc:101: tree pruning end, 470 extra nodes, 0 pruned nodes, max_depth=8\n",
      "[01:26:06] INFO: C:/Users/Administrator/workspace/xgboost-win64_release_1.3.0/src/tree/updater_prune.cc:101: tree pruning end, 426 extra nodes, 0 pruned nodes, max_depth=8\n",
      "[01:26:06] INFO: C:/Users/Administrator/workspace/xgboost-win64_release_1.3.0/src/tree/updater_prune.cc:101: tree pruning end, 436 extra nodes, 0 pruned nodes, max_depth=8\n",
      "[01:26:06] INFO: C:/Users/Administrator/workspace/xgboost-win64_release_1.3.0/src/tree/updater_prune.cc:101: tree pruning end, 418 extra nodes, 0 pruned nodes, max_depth=8\n",
      "[78]\tvalidation_0-rmse:10.70355\n"
     ]
    },
    {
     "data": {
      "text/plain": [
       "XGBRegressor(base_score=0.5, booster='gbtree', colsample_bylevel=1,\n",
       "             colsample_bynode=1, colsample_bytree=1, gamma=0, gpu_id=-1,\n",
       "             importance_type='gain', interaction_constraints='',\n",
       "             learning_rate=0.1, max_delta_step=0, max_depth=8,\n",
       "             min_child_weight=1, missing=nan, monotone_constraints='()',\n",
       "             n_estimators=1000, n_jobs=-1, nthread=12, num_parallel_tree=1,\n",
       "             objective='reg:linear', random_state=0, reg_alpha=0, reg_lambda=1,\n",
       "             scale_pos_weight=1, seed=0, silent=None, subsample=0.7,\n",
       "             tree_method='exact', validate_parameters=1, verbosity=2)"
      ]
     },
     "execution_count": 269,
     "metadata": {},
     "output_type": "execute_result"
    }
   ],
   "source": [
    "model.fit(x_train , y_train , eval_set = [(x_test , y_test)] , early_stopping_rounds=40 , verbose = 10)"
   ]
  },
  {
   "cell_type": "code",
   "execution_count": 118,
   "metadata": {},
   "outputs": [],
   "source": [
    "preds = model.predict(x_test)"
   ]
  },
  {
   "cell_type": "code",
   "execution_count": 119,
   "metadata": {},
   "outputs": [
    {
     "data": {
      "text/plain": [
       "array([[19],\n",
       "       [29],\n",
       "       [35],\n",
       "       ...,\n",
       "       [ 8],\n",
       "       [37],\n",
       "       [63]], dtype=int64)"
      ]
     },
     "execution_count": 119,
     "metadata": {},
     "output_type": "execute_result"
    }
   ],
   "source": [
    "y_test"
   ]
  },
  {
   "cell_type": "code",
   "execution_count": 120,
   "metadata": {},
   "outputs": [
    {
     "data": {
      "text/plain": [
       "9.672598059881441"
      ]
     },
     "execution_count": 120,
     "metadata": {},
     "output_type": "execute_result"
    }
   ],
   "source": [
    "from sklearn.metrics import mean_squared_error\n",
    "import math\n",
    "math.sqrt(mean_squared_error(preds , y_test))"
   ]
  },
  {
   "cell_type": "code",
   "execution_count": 78,
   "metadata": {},
   "outputs": [
    {
     "data": {
      "text/plain": [
       "361.66456460363656"
      ]
     },
     "execution_count": 78,
     "metadata": {},
     "output_type": "execute_result"
    }
   ],
   "source": [
    "from scipy.spatial import distance\n",
    "distance.euclidean(preds , y_test)"
   ]
  },
  {
   "cell_type": "code",
   "execution_count": 121,
   "metadata": {},
   "outputs": [
    {
     "name": "stdout",
     "output_type": "stream",
     "text": [
      "(array([33.300846], dtype=float32), array([19], dtype=int64))\n",
      "(array([35.451977], dtype=float32), array([29], dtype=int64))\n",
      "(array([18.18913], dtype=float32), array([35], dtype=int64))\n",
      "(array([36.532635], dtype=float32), array([32], dtype=int64))\n",
      "(array([7.1637287], dtype=float32), array([9], dtype=int64))\n",
      "(array([25.412045], dtype=float32), array([32], dtype=int64))\n",
      "(array([7.365165], dtype=float32), array([10], dtype=int64))\n",
      "(array([44.834095], dtype=float32), array([52], dtype=int64))\n",
      "(array([6.5980663], dtype=float32), array([7], dtype=int64))\n",
      "(array([39.57495], dtype=float32), array([32], dtype=int64))\n",
      "(array([2.3706865], dtype=float32), array([1], dtype=int64))\n",
      "(array([6.475055], dtype=float32), array([3], dtype=int64))\n",
      "(array([24.941223], dtype=float32), array([24], dtype=int64))\n",
      "(array([5.379133], dtype=float32), array([4], dtype=int64))\n",
      "(array([41.37726], dtype=float32), array([48], dtype=int64))\n",
      "(array([35.258194], dtype=float32), array([76], dtype=int64))\n",
      "(array([19.701168], dtype=float32), array([20], dtype=int64))\n",
      "(array([5.0588555], dtype=float32), array([4], dtype=int64))\n",
      "(array([2.3045776], dtype=float32), array([5], dtype=int64))\n",
      "(array([4.095798], dtype=float32), array([6], dtype=int64))\n",
      "(array([39.632446], dtype=float32), array([45], dtype=int64))\n",
      "(array([43.166462], dtype=float32), array([42], dtype=int64))\n",
      "(array([37.0645], dtype=float32), array([45], dtype=int64))\n",
      "(array([40.292603], dtype=float32), array([26], dtype=int64))\n",
      "(array([32.756992], dtype=float32), array([36], dtype=int64))\n",
      "(array([19.517408], dtype=float32), array([4], dtype=int64))\n",
      "(array([3.4384255], dtype=float32), array([4], dtype=int64))\n",
      "(array([29.353935], dtype=float32), array([32], dtype=int64))\n",
      "(array([23.267122], dtype=float32), array([33], dtype=int64))\n",
      "(array([6.1471653], dtype=float32), array([14], dtype=int64))\n",
      "(array([32.237892], dtype=float32), array([32], dtype=int64))\n",
      "(array([41.468533], dtype=float32), array([47], dtype=int64))\n",
      "(array([7.198397], dtype=float32), array([10], dtype=int64))\n",
      "(array([3.0511897], dtype=float32), array([4], dtype=int64))\n",
      "(array([5.8124723], dtype=float32), array([7], dtype=int64))\n",
      "(array([13.475743], dtype=float32), array([14], dtype=int64))\n",
      "(array([6.0425534], dtype=float32), array([9], dtype=int64))\n",
      "(array([4.910668], dtype=float32), array([1], dtype=int64))\n",
      "(array([39.420452], dtype=float32), array([29], dtype=int64))\n",
      "(array([70.15161], dtype=float32), array([38], dtype=int64))\n",
      "(array([44.682114], dtype=float32), array([53], dtype=int64))\n",
      "(array([40.262653], dtype=float32), array([47], dtype=int64))\n",
      "(array([37.65744], dtype=float32), array([43], dtype=int64))\n",
      "(array([32.461132], dtype=float32), array([53], dtype=int64))\n",
      "(array([4.8719397], dtype=float32), array([1], dtype=int64))\n",
      "(array([7.400348], dtype=float32), array([6], dtype=int64))\n",
      "(array([1.7570634], dtype=float32), array([3], dtype=int64))\n",
      "(array([2.2776523], dtype=float32), array([4], dtype=int64))\n",
      "(array([38.662407], dtype=float32), array([41], dtype=int64))\n",
      "(array([31.933496], dtype=float32), array([25], dtype=int64))\n",
      "(array([7.3327274], dtype=float32), array([7], dtype=int64))\n",
      "(array([38.645233], dtype=float32), array([47], dtype=int64))\n",
      "(array([6.8918295], dtype=float32), array([6], dtype=int64))\n",
      "(array([39.85509], dtype=float32), array([44], dtype=int64))\n",
      "(array([37.441494], dtype=float32), array([16], dtype=int64))\n",
      "(array([36.097424], dtype=float32), array([50], dtype=int64))\n",
      "(array([59.33068], dtype=float32), array([58], dtype=int64))\n",
      "(array([7.3145995], dtype=float32), array([9], dtype=int64))\n",
      "(array([2.3047779], dtype=float32), array([3], dtype=int64))\n",
      "(array([46.471664], dtype=float32), array([31], dtype=int64))\n",
      "(array([5.9217043], dtype=float32), array([5], dtype=int64))\n",
      "(array([11.44778], dtype=float32), array([10], dtype=int64))\n",
      "(array([10.295336], dtype=float32), array([12], dtype=int64))\n",
      "(array([32.21274], dtype=float32), array([38], dtype=int64))\n",
      "(array([4.918688], dtype=float32), array([0], dtype=int64))\n",
      "(array([3.8565435], dtype=float32), array([7], dtype=int64))\n",
      "(array([77.30419], dtype=float32), array([88], dtype=int64))\n",
      "(array([3.9747612], dtype=float32), array([3], dtype=int64))\n",
      "(array([13.751096], dtype=float32), array([17], dtype=int64))\n",
      "(array([43.6501], dtype=float32), array([41], dtype=int64))\n",
      "(array([3.4778836], dtype=float32), array([7], dtype=int64))\n",
      "(array([6.26602], dtype=float32), array([5], dtype=int64))\n",
      "(array([2.119616], dtype=float32), array([3], dtype=int64))\n",
      "(array([10.670773], dtype=float32), array([14], dtype=int64))\n",
      "(array([4.101941], dtype=float32), array([2], dtype=int64))\n",
      "(array([7.5530667], dtype=float32), array([5], dtype=int64))\n",
      "(array([3.0407596], dtype=float32), array([4], dtype=int64))\n",
      "(array([2.424522], dtype=float32), array([5], dtype=int64))\n",
      "(array([6.92999], dtype=float32), array([7], dtype=int64))\n",
      "(array([38.102066], dtype=float32), array([57], dtype=int64))\n",
      "(array([3.1948686], dtype=float32), array([2], dtype=int64))\n",
      "(array([8.478042], dtype=float32), array([2], dtype=int64))\n",
      "(array([88.83171], dtype=float32), array([92], dtype=int64))\n",
      "(array([47.97032], dtype=float32), array([18], dtype=int64))\n",
      "(array([38.101803], dtype=float32), array([44], dtype=int64))\n",
      "(array([6.552034], dtype=float32), array([8], dtype=int64))\n",
      "(array([37.145374], dtype=float32), array([9], dtype=int64))\n",
      "(array([4.4610643], dtype=float32), array([2], dtype=int64))\n",
      "(array([35.83764], dtype=float32), array([32], dtype=int64))\n",
      "(array([25.201935], dtype=float32), array([23], dtype=int64))\n",
      "(array([2.4712627], dtype=float32), array([5], dtype=int64))\n",
      "(array([3.6078138], dtype=float32), array([3], dtype=int64))\n",
      "(array([40.16503], dtype=float32), array([21], dtype=int64))\n",
      "(array([7.3579936], dtype=float32), array([5], dtype=int64))\n",
      "(array([1.8797164], dtype=float32), array([1], dtype=int64))\n",
      "(array([15.724911], dtype=float32), array([11], dtype=int64))\n",
      "(array([13.318269], dtype=float32), array([9], dtype=int64))\n",
      "(array([34.763985], dtype=float32), array([50], dtype=int64))\n",
      "(array([60.746403], dtype=float32), array([69], dtype=int64))\n",
      "(array([5.0403967], dtype=float32), array([3], dtype=int64))\n",
      "(array([81.46143], dtype=float32), array([103], dtype=int64))\n",
      "(array([14.384034], dtype=float32), array([14], dtype=int64))\n",
      "(array([48.71464], dtype=float32), array([26], dtype=int64))\n",
      "(array([7.5251274], dtype=float32), array([8], dtype=int64))\n",
      "(array([7.0698214], dtype=float32), array([8], dtype=int64))\n",
      "(array([33.967438], dtype=float32), array([27], dtype=int64))\n",
      "(array([6.721434], dtype=float32), array([3], dtype=int64))\n",
      "(array([6.757572], dtype=float32), array([6], dtype=int64))\n",
      "(array([1.8610808], dtype=float32), array([5], dtype=int64))\n",
      "(array([33.08233], dtype=float32), array([36], dtype=int64))\n",
      "(array([34.234295], dtype=float32), array([43], dtype=int64))\n",
      "(array([22.003328], dtype=float32), array([28], dtype=int64))\n",
      "(array([6.6720467], dtype=float32), array([9], dtype=int64))\n",
      "(array([36.92858], dtype=float32), array([43], dtype=int64))\n",
      "(array([40.355667], dtype=float32), array([30], dtype=int64))\n",
      "(array([7.848779], dtype=float32), array([7], dtype=int64))\n",
      "(array([6.3319817], dtype=float32), array([5], dtype=int64))\n",
      "(array([16.856514], dtype=float32), array([11], dtype=int64))\n",
      "(array([4.012947], dtype=float32), array([2], dtype=int64))\n",
      "(array([34.89627], dtype=float32), array([29], dtype=int64))\n",
      "(array([2.0251024], dtype=float32), array([2], dtype=int64))\n",
      "(array([6.007672], dtype=float32), array([5], dtype=int64))\n",
      "(array([35.16158], dtype=float32), array([30], dtype=int64))\n",
      "(array([33.784687], dtype=float32), array([71], dtype=int64))\n",
      "(array([55.43855], dtype=float32), array([59], dtype=int64))\n",
      "(array([34.508926], dtype=float32), array([43], dtype=int64))\n",
      "(array([18.140089], dtype=float32), array([29], dtype=int64))\n",
      "(array([4.956146], dtype=float32), array([11], dtype=int64))\n",
      "(array([42.333397], dtype=float32), array([39], dtype=int64))\n",
      "(array([53.552975], dtype=float32), array([51], dtype=int64))\n",
      "(array([33.325413], dtype=float32), array([27], dtype=int64))\n",
      "(array([31.759394], dtype=float32), array([16], dtype=int64))\n",
      "(array([2.0446994], dtype=float32), array([4], dtype=int64))\n",
      "(array([33.840626], dtype=float32), array([9], dtype=int64))\n",
      "(array([5.358364], dtype=float32), array([8], dtype=int64))\n",
      "(array([49.118114], dtype=float32), array([56], dtype=int64))\n",
      "(array([29.23237], dtype=float32), array([41], dtype=int64))\n",
      "(array([9.503009], dtype=float32), array([12], dtype=int64))\n",
      "(array([5.8056583], dtype=float32), array([4], dtype=int64))\n",
      "(array([35.46387], dtype=float32), array([29], dtype=int64))\n",
      "(array([34.646805], dtype=float32), array([65], dtype=int64))\n",
      "(array([34.978653], dtype=float32), array([32], dtype=int64))\n",
      "(array([3.648248], dtype=float32), array([3], dtype=int64))\n",
      "(array([37.84309], dtype=float32), array([51], dtype=int64))\n",
      "(array([7.2598634], dtype=float32), array([5], dtype=int64))\n",
      "(array([18.818195], dtype=float32), array([17], dtype=int64))\n",
      "(array([33.062653], dtype=float32), array([32], dtype=int64))\n",
      "(array([23.238876], dtype=float32), array([25], dtype=int64))\n",
      "(array([24.367147], dtype=float32), array([27], dtype=int64))\n",
      "(array([6.386047], dtype=float32), array([6], dtype=int64))\n",
      "(array([2.33228], dtype=float32), array([4], dtype=int64))\n",
      "(array([38.984043], dtype=float32), array([36], dtype=int64))\n",
      "(array([11.755869], dtype=float32), array([11], dtype=int64))\n",
      "(array([31.306768], dtype=float32), array([51], dtype=int64))\n",
      "(array([32.859734], dtype=float32), array([40], dtype=int64))\n",
      "(array([37.25829], dtype=float32), array([38], dtype=int64))\n",
      "(array([15.382385], dtype=float32), array([13], dtype=int64))\n",
      "(array([65.46282], dtype=float32), array([77], dtype=int64))\n",
      "(array([2.4869494], dtype=float32), array([4], dtype=int64))\n",
      "(array([35.16193], dtype=float32), array([36], dtype=int64))\n",
      "(array([7.0055003], dtype=float32), array([8], dtype=int64))\n",
      "(array([38.006416], dtype=float32), array([17], dtype=int64))\n",
      "(array([38.97544], dtype=float32), array([33], dtype=int64))\n",
      "(array([25.249083], dtype=float32), array([33], dtype=int64))\n",
      "(array([7.1278515], dtype=float32), array([10], dtype=int64))\n",
      "(array([65.372826], dtype=float32), array([32], dtype=int64))\n",
      "(array([46.77558], dtype=float32), array([79], dtype=int64))\n",
      "(array([7.8784266], dtype=float32), array([8], dtype=int64))\n",
      "(array([28.140299], dtype=float32), array([25], dtype=int64))\n",
      "(array([3.8002539], dtype=float32), array([3], dtype=int64))\n",
      "(array([4.034224], dtype=float32), array([1], dtype=int64))\n",
      "(array([7.5307174], dtype=float32), array([5], dtype=int64))\n",
      "(array([2.4469318], dtype=float32), array([4], dtype=int64))\n",
      "(array([5.730323], dtype=float32), array([5], dtype=int64))\n",
      "(array([35.726616], dtype=float32), array([25], dtype=int64))\n",
      "(array([47.18036], dtype=float32), array([42], dtype=int64))\n",
      "(array([24.252436], dtype=float32), array([36], dtype=int64))\n",
      "(array([27.651974], dtype=float32), array([25], dtype=int64))\n",
      "(array([32.747326], dtype=float32), array([40], dtype=int64))\n",
      "(array([3.552714], dtype=float32), array([5], dtype=int64))\n",
      "(array([1.2828525], dtype=float32), array([3], dtype=int64))\n",
      "(array([6.743734], dtype=float32), array([8], dtype=int64))\n",
      "(array([60.6243], dtype=float32), array([84], dtype=int64))\n",
      "(array([48.18191], dtype=float32), array([30], dtype=int64))\n",
      "(array([4.653899], dtype=float32), array([0], dtype=int64))\n",
      "(array([38.279526], dtype=float32), array([50], dtype=int64))\n",
      "(array([17.068552], dtype=float32), array([19], dtype=int64))\n",
      "(array([5.3805017], dtype=float32), array([5], dtype=int64))\n",
      "(array([34.397427], dtype=float32), array([36], dtype=int64))\n",
      "(array([41.444954], dtype=float32), array([56], dtype=int64))\n",
      "(array([4.564902], dtype=float32), array([3], dtype=int64))\n",
      "(array([4.7818093], dtype=float32), array([4], dtype=int64))\n",
      "(array([30.353722], dtype=float32), array([36], dtype=int64))\n",
      "(array([33.666115], dtype=float32), array([41], dtype=int64))\n",
      "(array([3.6452622], dtype=float32), array([4], dtype=int64))\n",
      "(array([2.7513373], dtype=float32), array([1], dtype=int64))\n",
      "(array([41.81764], dtype=float32), array([24], dtype=int64))\n",
      "(array([11.890806], dtype=float32), array([10], dtype=int64))\n",
      "(array([75.93285], dtype=float32), array([56], dtype=int64))\n",
      "(array([54.503914], dtype=float32), array([73], dtype=int64))\n",
      "(array([5.7293005], dtype=float32), array([6], dtype=int64))\n",
      "(array([5.4934144], dtype=float32), array([10], dtype=int64))\n",
      "(array([19.157177], dtype=float32), array([30], dtype=int64))\n",
      "(array([34.825237], dtype=float32), array([10], dtype=int64))\n",
      "(array([6.9560847], dtype=float32), array([5], dtype=int64))\n",
      "(array([7.489124], dtype=float32), array([5], dtype=int64))\n",
      "(array([7.221227], dtype=float32), array([6], dtype=int64))\n",
      "(array([2.1973593], dtype=float32), array([4], dtype=int64))\n",
      "(array([79.94429], dtype=float32), array([85], dtype=int64))\n",
      "(array([53.81102], dtype=float32), array([56], dtype=int64))\n",
      "(array([69.08059], dtype=float32), array([74], dtype=int64))\n",
      "(array([49.626736], dtype=float32), array([61], dtype=int64))\n",
      "(array([3.96309], dtype=float32), array([3], dtype=int64))\n",
      "(array([69.68504], dtype=float32), array([50], dtype=int64))\n",
      "(array([30.665802], dtype=float32), array([36], dtype=int64))\n",
      "(array([37.642937], dtype=float32), array([48], dtype=int64))\n",
      "(array([34.337845], dtype=float32), array([28], dtype=int64))\n",
      "(array([4.471491], dtype=float32), array([3], dtype=int64))\n",
      "(array([18.612444], dtype=float32), array([14], dtype=int64))\n",
      "(array([31.505295], dtype=float32), array([32], dtype=int64))\n",
      "(array([37.86956], dtype=float32), array([30], dtype=int64))\n",
      "(array([6.343621], dtype=float32), array([10], dtype=int64))\n",
      "(array([20.088282], dtype=float32), array([21], dtype=int64))\n",
      "(array([8.125633], dtype=float32), array([5], dtype=int64))\n",
      "(array([33.33735], dtype=float32), array([30], dtype=int64))\n",
      "(array([67.34268], dtype=float32), array([74], dtype=int64))\n",
      "(array([3.3492486], dtype=float32), array([5], dtype=int64))\n",
      "(array([61.55201], dtype=float32), array([47], dtype=int64))\n",
      "(array([64.76059], dtype=float32), array([53], dtype=int64))\n",
      "(array([3.0548456], dtype=float32), array([3], dtype=int64))\n",
      "(array([7.9555144], dtype=float32), array([6], dtype=int64))\n",
      "(array([11.689371], dtype=float32), array([11], dtype=int64))\n",
      "(array([39.515694], dtype=float32), array([20], dtype=int64))\n",
      "(array([6.116536], dtype=float32), array([4], dtype=int64))\n",
      "(array([3.6591198], dtype=float32), array([1], dtype=int64))\n",
      "(array([4.521061], dtype=float32), array([6], dtype=int64))\n",
      "(array([61.79336], dtype=float32), array([71], dtype=int64))\n",
      "(array([65.50038], dtype=float32), array([46], dtype=int64))\n",
      "(array([6.9658704], dtype=float32), array([6], dtype=int64))\n",
      "(array([55.253513], dtype=float32), array([53], dtype=int64))\n",
      "(array([11.439511], dtype=float32), array([10], dtype=int64))\n",
      "(array([35.651463], dtype=float32), array([63], dtype=int64))\n",
      "(array([1.973354], dtype=float32), array([2], dtype=int64))\n",
      "(array([6.4252853], dtype=float32), array([2], dtype=int64))\n",
      "(array([33.439236], dtype=float32), array([17], dtype=int64))\n",
      "(array([68.158195], dtype=float32), array([82], dtype=int64))\n",
      "(array([15.460944], dtype=float32), array([10], dtype=int64))\n",
      "(array([19.231852], dtype=float32), array([15], dtype=int64))\n",
      "(array([8.368729], dtype=float32), array([3], dtype=int64))\n",
      "(array([78.09773], dtype=float32), array([101], dtype=int64))\n",
      "(array([41.80315], dtype=float32), array([9], dtype=int64))\n",
      "(array([5.5990777], dtype=float32), array([4], dtype=int64))\n",
      "(array([42.885464], dtype=float32), array([30], dtype=int64))\n",
      "(array([3.7247403], dtype=float32), array([4], dtype=int64))\n",
      "(array([38.181282], dtype=float32), array([47], dtype=int64))\n",
      "(array([36.925205], dtype=float32), array([43], dtype=int64))\n",
      "(array([31.97582], dtype=float32), array([27], dtype=int64))\n",
      "(array([16.383755], dtype=float32), array([13], dtype=int64))\n",
      "(array([34.12728], dtype=float32), array([27], dtype=int64))\n",
      "(array([32.86578], dtype=float32), array([58], dtype=int64))\n",
      "(array([8.972028], dtype=float32), array([13], dtype=int64))\n",
      "(array([5.0505505], dtype=float32), array([7], dtype=int64))\n",
      "(array([6.562433], dtype=float32), array([14], dtype=int64))\n",
      "(array([63.246216], dtype=float32), array([41], dtype=int64))\n",
      "(array([4.0197563], dtype=float32), array([0], dtype=int64))\n",
      "(array([6.6142135], dtype=float32), array([5], dtype=int64))\n",
      "(array([4.4579296], dtype=float32), array([6], dtype=int64))\n",
      "(array([34.67904], dtype=float32), array([49], dtype=int64))\n",
      "(array([5.635388], dtype=float32), array([3], dtype=int64))\n",
      "(array([32.690765], dtype=float32), array([51], dtype=int64))\n",
      "(array([7.2899575], dtype=float32), array([9], dtype=int64))\n",
      "(array([63.598385], dtype=float32), array([88], dtype=int64))\n",
      "(array([5.845589], dtype=float32), array([6], dtype=int64))\n",
      "(array([7.1710043], dtype=float32), array([7], dtype=int64))\n",
      "(array([29.058786], dtype=float32), array([33], dtype=int64))\n",
      "(array([6.639747], dtype=float32), array([5], dtype=int64))\n",
      "(array([39.95987], dtype=float32), array([59], dtype=int64))\n",
      "(array([44.24563], dtype=float32), array([42], dtype=int64))\n",
      "(array([37.112793], dtype=float32), array([29], dtype=int64))\n",
      "(array([29.577038], dtype=float32), array([33], dtype=int64))\n",
      "(array([6.337292], dtype=float32), array([12], dtype=int64))\n",
      "(array([6.3840737], dtype=float32), array([7], dtype=int64))\n",
      "(array([67.241325], dtype=float32), array([65], dtype=int64))\n",
      "(array([4.2755795], dtype=float32), array([10], dtype=int64))\n",
      "(array([5.3012414], dtype=float32), array([5], dtype=int64))\n",
      "(array([11.544939], dtype=float32), array([8], dtype=int64))\n",
      "(array([35.446575], dtype=float32), array([53], dtype=int64))\n",
      "(array([3.980322], dtype=float32), array([0], dtype=int64))\n",
      "(array([32.859318], dtype=float32), array([35], dtype=int64))\n",
      "(array([7.2702317], dtype=float32), array([10], dtype=int64))\n",
      "(array([23.205898], dtype=float32), array([24], dtype=int64))\n",
      "(array([6.5434985], dtype=float32), array([10], dtype=int64))\n",
      "(array([4.013844], dtype=float32), array([3], dtype=int64))\n",
      "(array([5.4038706], dtype=float32), array([9], dtype=int64))\n",
      "(array([5.094759], dtype=float32), array([4], dtype=int64))\n",
      "(array([40.44207], dtype=float32), array([40], dtype=int64))\n",
      "(array([2.0116408], dtype=float32), array([0], dtype=int64))\n",
      "(array([21.964994], dtype=float32), array([16], dtype=int64))\n",
      "(array([30.347221], dtype=float32), array([33], dtype=int64))\n",
      "(array([28.170635], dtype=float32), array([37], dtype=int64))\n",
      "(array([28.32123], dtype=float32), array([27], dtype=int64))\n",
      "(array([6.01814], dtype=float32), array([13], dtype=int64))\n",
      "(array([33.68782], dtype=float32), array([48], dtype=int64))\n",
      "(array([4.7435775], dtype=float32), array([5], dtype=int64))\n",
      "(array([32.858036], dtype=float32), array([30], dtype=int64))\n",
      "(array([2.0050669], dtype=float32), array([5], dtype=int64))\n",
      "(array([38.609318], dtype=float32), array([36], dtype=int64))\n",
      "(array([32.969555], dtype=float32), array([38], dtype=int64))\n",
      "(array([32.12721], dtype=float32), array([58], dtype=int64))\n",
      "(array([77.18962], dtype=float32), array([109], dtype=int64))\n",
      "(array([43.184], dtype=float32), array([38], dtype=int64))\n",
      "(array([74.652855], dtype=float32), array([91], dtype=int64))\n",
      "(array([40.504406], dtype=float32), array([29], dtype=int64))\n",
      "(array([37.531063], dtype=float32), array([6], dtype=int64))\n",
      "(array([3.058117], dtype=float32), array([5], dtype=int64))\n",
      "(array([6.809289], dtype=float32), array([8], dtype=int64))\n",
      "(array([25.876928], dtype=float32), array([21], dtype=int64))\n",
      "(array([16.934036], dtype=float32), array([18], dtype=int64))\n",
      "(array([7.104021], dtype=float32), array([10], dtype=int64))\n",
      "(array([6.680496], dtype=float32), array([5], dtype=int64))\n",
      "(array([25.2313], dtype=float32), array([21], dtype=int64))\n",
      "(array([3.579077], dtype=float32), array([3], dtype=int64))\n",
      "(array([6.8090563], dtype=float32), array([7], dtype=int64))\n",
      "(array([3.7546878], dtype=float32), array([2], dtype=int64))\n",
      "(array([9.169533], dtype=float32), array([10], dtype=int64))\n",
      "(array([76.641495], dtype=float32), array([43], dtype=int64))\n",
      "(array([1.6641148], dtype=float32), array([3], dtype=int64))\n",
      "(array([2.6388676], dtype=float32), array([1], dtype=int64))\n",
      "(array([15.108906], dtype=float32), array([15], dtype=int64))\n",
      "(array([3.5059898], dtype=float32), array([7], dtype=int64))\n",
      "(array([7.2885084], dtype=float32), array([3], dtype=int64))\n",
      "(array([10.349547], dtype=float32), array([10], dtype=int64))\n",
      "(array([1.6784481], dtype=float32), array([3], dtype=int64))\n",
      "(array([7.5897717], dtype=float32), array([8], dtype=int64))\n",
      "(array([67.33907], dtype=float32), array([63], dtype=int64))\n",
      "(array([1.9243442], dtype=float32), array([2], dtype=int64))\n",
      "(array([36.629314], dtype=float32), array([30], dtype=int64))\n",
      "(array([3.7504985], dtype=float32), array([4], dtype=int64))\n",
      "(array([12.324665], dtype=float32), array([19], dtype=int64))\n",
      "(array([27.543205], dtype=float32), array([32], dtype=int64))\n",
      "(array([7.0509996], dtype=float32), array([7], dtype=int64))\n",
      "(array([84.91191], dtype=float32), array([95], dtype=int64))\n",
      "(array([47.508614], dtype=float32), array([37], dtype=int64))\n",
      "(array([2.0641265], dtype=float32), array([4], dtype=int64))\n",
      "(array([7.6360974], dtype=float32), array([7], dtype=int64))\n",
      "(array([3.8007383], dtype=float32), array([3], dtype=int64))\n",
      "(array([4.471259], dtype=float32), array([0], dtype=int64))\n",
      "(array([30.456003], dtype=float32), array([54], dtype=int64))\n",
      "(array([11.526947], dtype=float32), array([12], dtype=int64))\n",
      "(array([6.6623917], dtype=float32), array([6], dtype=int64))\n",
      "(array([31.728573], dtype=float32), array([44], dtype=int64))\n",
      "(array([4.4344735], dtype=float32), array([2], dtype=int64))\n",
      "(array([4.55858], dtype=float32), array([2], dtype=int64))\n",
      "(array([7.734832], dtype=float32), array([7], dtype=int64))\n",
      "(array([34.83114], dtype=float32), array([39], dtype=int64))\n",
      "(array([15.669129], dtype=float32), array([9], dtype=int64))\n",
      "(array([11.849895], dtype=float32), array([10], dtype=int64))\n",
      "(array([62.170074], dtype=float32), array([52], dtype=int64))\n",
      "(array([6.729801], dtype=float32), array([10], dtype=int64))\n",
      "(array([3.009829], dtype=float32), array([3], dtype=int64))\n",
      "(array([20.53063], dtype=float32), array([23], dtype=int64))\n",
      "(array([4.0791793], dtype=float32), array([4], dtype=int64))\n",
      "(array([34.73553], dtype=float32), array([36], dtype=int64))\n",
      "(array([3.9730313], dtype=float32), array([5], dtype=int64))\n",
      "(array([6.8568377], dtype=float32), array([4], dtype=int64))\n",
      "(array([30.63092], dtype=float32), array([20], dtype=int64))\n",
      "(array([73.31121], dtype=float32), array([123], dtype=int64))\n",
      "(array([34.785072], dtype=float32), array([20], dtype=int64))\n",
      "(array([4.0374126], dtype=float32), array([5], dtype=int64))\n",
      "(array([29.725346], dtype=float32), array([23], dtype=int64))\n",
      "(array([6.412354], dtype=float32), array([6], dtype=int64))\n",
      "(array([3.1246142], dtype=float32), array([3], dtype=int64))\n",
      "(array([7.958856], dtype=float32), array([4], dtype=int64))\n",
      "(array([38.34418], dtype=float32), array([21], dtype=int64))\n",
      "(array([36.39446], dtype=float32), array([32], dtype=int64))\n",
      "(array([6.8240466], dtype=float32), array([8], dtype=int64))\n",
      "(array([4.5132394], dtype=float32), array([1], dtype=int64))\n",
      "(array([5.592257], dtype=float32), array([1], dtype=int64))\n",
      "(array([5.2626576], dtype=float32), array([7], dtype=int64))\n",
      "(array([2.8561668], dtype=float32), array([5], dtype=int64))\n",
      "(array([48.36789], dtype=float32), array([42], dtype=int64))\n",
      "(array([4.088439], dtype=float32), array([3], dtype=int64))\n",
      "(array([37.029617], dtype=float32), array([51], dtype=int64))\n",
      "(array([2.7247646], dtype=float32), array([1], dtype=int64))\n",
      "(array([28.473953], dtype=float32), array([36], dtype=int64))\n",
      "(array([63.70782], dtype=float32), array([82], dtype=int64))\n",
      "(array([7.5333986], dtype=float32), array([6], dtype=int64))\n",
      "(array([4.580882], dtype=float32), array([5], dtype=int64))\n",
      "(array([5.6944766], dtype=float32), array([10], dtype=int64))\n",
      "(array([42.189392], dtype=float32), array([41], dtype=int64))\n",
      "(array([36.382298], dtype=float32), array([25], dtype=int64))\n",
      "(array([3.4562175], dtype=float32), array([1], dtype=int64))\n",
      "(array([2.001177], dtype=float32), array([4], dtype=int64))\n",
      "(array([5.863052], dtype=float32), array([7], dtype=int64))\n",
      "(array([50.665062], dtype=float32), array([25], dtype=int64))\n",
      "(array([49.75069], dtype=float32), array([90], dtype=int64))\n",
      "(array([6.6295314], dtype=float32), array([10], dtype=int64))\n",
      "(array([37.00496], dtype=float32), array([21], dtype=int64))\n",
      "(array([32.614094], dtype=float32), array([45], dtype=int64))\n",
      "(array([4.0374384], dtype=float32), array([2], dtype=int64))\n",
      "(array([4.4743624], dtype=float32), array([6], dtype=int64))\n",
      "(array([33.273544], dtype=float32), array([48], dtype=int64))\n",
      "(array([43.362705], dtype=float32), array([55], dtype=int64))\n",
      "(array([11.134225], dtype=float32), array([7], dtype=int64))\n",
      "(array([71.20713], dtype=float32), array([55], dtype=int64))\n",
      "(array([22.944695], dtype=float32), array([21], dtype=int64))\n",
      "(array([7.6937976], dtype=float32), array([5], dtype=int64))\n"
     ]
    },
    {
     "name": "stdout",
     "output_type": "stream",
     "text": [
      "(array([11.609882], dtype=float32), array([10], dtype=int64))\n",
      "(array([27.681095], dtype=float32), array([24], dtype=int64))\n",
      "(array([30.34639], dtype=float32), array([47], dtype=int64))\n",
      "(array([52.414078], dtype=float32), array([45], dtype=int64))\n",
      "(array([39.030544], dtype=float32), array([37], dtype=int64))\n",
      "(array([5.8861146], dtype=float32), array([4], dtype=int64))\n",
      "(array([33.471237], dtype=float32), array([31], dtype=int64))\n",
      "(array([4.8879914], dtype=float32), array([5], dtype=int64))\n",
      "(array([4.834529], dtype=float32), array([3], dtype=int64))\n",
      "(array([34.41968], dtype=float32), array([56], dtype=int64))\n",
      "(array([2.3141813], dtype=float32), array([2], dtype=int64))\n",
      "(array([62.30619], dtype=float32), array([67], dtype=int64))\n",
      "(array([3.5944734], dtype=float32), array([5], dtype=int64))\n",
      "(array([28.8649], dtype=float32), array([28], dtype=int64))\n",
      "(array([65.45622], dtype=float32), array([94], dtype=int64))\n",
      "(array([7.489801], dtype=float32), array([10], dtype=int64))\n",
      "(array([40.502163], dtype=float32), array([33], dtype=int64))\n",
      "(array([6.620574], dtype=float32), array([5], dtype=int64))\n",
      "(array([6.470112], dtype=float32), array([7], dtype=int64))\n",
      "(array([4.6333213], dtype=float32), array([6], dtype=int64))\n",
      "(array([20.667873], dtype=float32), array([23], dtype=int64))\n",
      "(array([2.4037132], dtype=float32), array([5], dtype=int64))\n",
      "(array([39.774895], dtype=float32), array([41], dtype=int64))\n",
      "(array([1.8315165], dtype=float32), array([2], dtype=int64))\n",
      "(array([8.050567], dtype=float32), array([8], dtype=int64))\n",
      "(array([12.672488], dtype=float32), array([4], dtype=int64))\n",
      "(array([7.3930016], dtype=float32), array([6], dtype=int64))\n",
      "(array([6.734147], dtype=float32), array([10], dtype=int64))\n",
      "(array([38.014572], dtype=float32), array([40], dtype=int64))\n",
      "(array([3.0840092], dtype=float32), array([5], dtype=int64))\n",
      "(array([8.079684], dtype=float32), array([5], dtype=int64))\n",
      "(array([7.3657856], dtype=float32), array([7], dtype=int64))\n",
      "(array([52.001724], dtype=float32), array([36], dtype=int64))\n",
      "(array([33.524746], dtype=float32), array([43], dtype=int64))\n",
      "(array([39.5721], dtype=float32), array([25], dtype=int64))\n",
      "(array([42.162395], dtype=float32), array([39], dtype=int64))\n",
      "(array([3.2552772], dtype=float32), array([2], dtype=int64))\n",
      "(array([21.642538], dtype=float32), array([20], dtype=int64))\n",
      "(array([26.539377], dtype=float32), array([34], dtype=int64))\n",
      "(array([61.15298], dtype=float32), array([80], dtype=int64))\n",
      "(array([7.1370053], dtype=float32), array([4], dtype=int64))\n",
      "(array([16.646437], dtype=float32), array([15], dtype=int64))\n",
      "(array([34.44658], dtype=float32), array([23], dtype=int64))\n",
      "(array([37.191235], dtype=float32), array([29], dtype=int64))\n",
      "(array([2.056362], dtype=float32), array([2], dtype=int64))\n",
      "(array([4.3292003], dtype=float32), array([6], dtype=int64))\n",
      "(array([42.88079], dtype=float32), array([38], dtype=int64))\n",
      "(array([7.730384], dtype=float32), array([5], dtype=int64))\n",
      "(array([6.434416], dtype=float32), array([3], dtype=int64))\n",
      "(array([79.37026], dtype=float32), array([60], dtype=int64))\n",
      "(array([7.836233], dtype=float32), array([5], dtype=int64))\n",
      "(array([33.868958], dtype=float32), array([28], dtype=int64))\n",
      "(array([44.72647], dtype=float32), array([49], dtype=int64))\n",
      "(array([7.5358124], dtype=float32), array([9], dtype=int64))\n",
      "(array([2.2520525], dtype=float32), array([1], dtype=int64))\n",
      "(array([74.41422], dtype=float32), array([75], dtype=int64))\n",
      "(array([9.512522], dtype=float32), array([9], dtype=int64))\n",
      "(array([4.5719743], dtype=float32), array([7], dtype=int64))\n",
      "(array([6.8742247], dtype=float32), array([10], dtype=int64))\n",
      "(array([69.88739], dtype=float32), array([70], dtype=int64))\n",
      "(array([6.160845], dtype=float32), array([6], dtype=int64))\n",
      "(array([10.032447], dtype=float32), array([10], dtype=int64))\n",
      "(array([6.9841123], dtype=float32), array([10], dtype=int64))\n",
      "(array([5.7128916], dtype=float32), array([6], dtype=int64))\n",
      "(array([20.303453], dtype=float32), array([18], dtype=int64))\n",
      "(array([35.137714], dtype=float32), array([46], dtype=int64))\n",
      "(array([16.627314], dtype=float32), array([11], dtype=int64))\n",
      "(array([57.795303], dtype=float32), array([44], dtype=int64))\n",
      "(array([12.860798], dtype=float32), array([14], dtype=int64))\n",
      "(array([3.836829], dtype=float32), array([9], dtype=int64))\n",
      "(array([32.51617], dtype=float32), array([16], dtype=int64))\n",
      "(array([2.4713645], dtype=float32), array([5], dtype=int64))\n",
      "(array([58.600315], dtype=float32), array([30], dtype=int64))\n",
      "(array([12.1291685], dtype=float32), array([12], dtype=int64))\n",
      "(array([3.7216187], dtype=float32), array([6], dtype=int64))\n",
      "(array([10.0079975], dtype=float32), array([17], dtype=int64))\n",
      "(array([32.772984], dtype=float32), array([28], dtype=int64))\n",
      "(array([3.3830287], dtype=float32), array([5], dtype=int64))\n",
      "(array([3.2538803], dtype=float32), array([1], dtype=int64))\n",
      "(array([30.309198], dtype=float32), array([28], dtype=int64))\n",
      "(array([7.232669], dtype=float32), array([8], dtype=int64))\n",
      "(array([2.090974], dtype=float32), array([0], dtype=int64))\n",
      "(array([37.30305], dtype=float32), array([59], dtype=int64))\n",
      "(array([6.9503455], dtype=float32), array([10], dtype=int64))\n",
      "(array([32.370277], dtype=float32), array([27], dtype=int64))\n",
      "(array([34.15992], dtype=float32), array([24], dtype=int64))\n",
      "(array([30.076693], dtype=float32), array([23], dtype=int64))\n",
      "(array([3.1717217], dtype=float32), array([1], dtype=int64))\n",
      "(array([35.77946], dtype=float32), array([65], dtype=int64))\n",
      "(array([2.7094135], dtype=float32), array([1], dtype=int64))\n",
      "(array([28.214119], dtype=float32), array([23], dtype=int64))\n",
      "(array([38.43125], dtype=float32), array([30], dtype=int64))\n",
      "(array([7.548461], dtype=float32), array([9], dtype=int64))\n",
      "(array([39.071346], dtype=float32), array([66], dtype=int64))\n",
      "(array([32.68094], dtype=float32), array([19], dtype=int64))\n",
      "(array([38.676025], dtype=float32), array([36], dtype=int64))\n",
      "(array([31.18364], dtype=float32), array([44], dtype=int64))\n",
      "(array([33.71511], dtype=float32), array([37], dtype=int64))\n",
      "(array([7.3088636], dtype=float32), array([10], dtype=int64))\n",
      "(array([7.275013], dtype=float32), array([7], dtype=int64))\n",
      "(array([26.629578], dtype=float32), array([19], dtype=int64))\n",
      "(array([17.420387], dtype=float32), array([9], dtype=int64))\n",
      "(array([37.758434], dtype=float32), array([11], dtype=int64))\n",
      "(array([19.722654], dtype=float32), array([16], dtype=int64))\n",
      "(array([0.8999831], dtype=float32), array([1], dtype=int64))\n",
      "(array([6.818387], dtype=float32), array([7], dtype=int64))\n",
      "(array([6.9596806], dtype=float32), array([7], dtype=int64))\n",
      "(array([3.7376451], dtype=float32), array([4], dtype=int64))\n",
      "(array([31.995373], dtype=float32), array([46], dtype=int64))\n",
      "(array([9.597142], dtype=float32), array([12], dtype=int64))\n",
      "(array([4.194462], dtype=float32), array([3], dtype=int64))\n",
      "(array([3.6018362], dtype=float32), array([1], dtype=int64))\n",
      "(array([32.157177], dtype=float32), array([59], dtype=int64))\n",
      "(array([71.48578], dtype=float32), array([66], dtype=int64))\n",
      "(array([24.50606], dtype=float32), array([20], dtype=int64))\n",
      "(array([3.5626087], dtype=float32), array([6], dtype=int64))\n",
      "(array([66.75414], dtype=float32), array([61], dtype=int64))\n",
      "(array([2.1511407], dtype=float32), array([5], dtype=int64))\n",
      "(array([2.0246482], dtype=float32), array([2], dtype=int64))\n",
      "(array([73.06681], dtype=float32), array([51], dtype=int64))\n",
      "(array([43.574883], dtype=float32), array([52], dtype=int64))\n",
      "(array([36.693157], dtype=float32), array([39], dtype=int64))\n",
      "(array([7.342267], dtype=float32), array([8], dtype=int64))\n",
      "(array([39.29257], dtype=float32), array([45], dtype=int64))\n",
      "(array([11.894682], dtype=float32), array([14], dtype=int64))\n",
      "(array([31.71509], dtype=float32), array([29], dtype=int64))\n",
      "(array([28.245733], dtype=float32), array([33], dtype=int64))\n",
      "(array([16.384634], dtype=float32), array([19], dtype=int64))\n",
      "(array([35.763134], dtype=float32), array([44], dtype=int64))\n",
      "(array([47.701496], dtype=float32), array([12], dtype=int64))\n",
      "(array([11.410581], dtype=float32), array([4], dtype=int64))\n",
      "(array([14.837528], dtype=float32), array([15], dtype=int64))\n",
      "(array([6.8322887], dtype=float32), array([7], dtype=int64))\n",
      "(array([31.217747], dtype=float32), array([24], dtype=int64))\n",
      "(array([26.1979], dtype=float32), array([19], dtype=int64))\n",
      "(array([2.5238874], dtype=float32), array([1], dtype=int64))\n",
      "(array([2.449702], dtype=float32), array([0], dtype=int64))\n",
      "(array([34.71266], dtype=float32), array([42], dtype=int64))\n",
      "(array([6.8157763], dtype=float32), array([2], dtype=int64))\n",
      "(array([2.1805828], dtype=float32), array([4], dtype=int64))\n",
      "(array([32.876274], dtype=float32), array([17], dtype=int64))\n",
      "(array([35.24686], dtype=float32), array([35], dtype=int64))\n",
      "(array([7.839894], dtype=float32), array([7], dtype=int64))\n",
      "(array([4.5211444], dtype=float32), array([5], dtype=int64))\n",
      "(array([27.273325], dtype=float32), array([24], dtype=int64))\n",
      "(array([4.3379626], dtype=float32), array([3], dtype=int64))\n",
      "(array([6.5632687], dtype=float32), array([5], dtype=int64))\n",
      "(array([12.542061], dtype=float32), array([3], dtype=int64))\n",
      "(array([30.98386], dtype=float32), array([44], dtype=int64))\n",
      "(array([63.95821], dtype=float32), array([71], dtype=int64))\n",
      "(array([37.850334], dtype=float32), array([30], dtype=int64))\n",
      "(array([6.7492366], dtype=float32), array([6], dtype=int64))\n",
      "(array([32.089684], dtype=float32), array([40], dtype=int64))\n",
      "(array([7.3221045], dtype=float32), array([4], dtype=int64))\n",
      "(array([18.466743], dtype=float32), array([16], dtype=int64))\n",
      "(array([1.969888], dtype=float32), array([2], dtype=int64))\n",
      "(array([32.188644], dtype=float32), array([31], dtype=int64))\n",
      "(array([36.272263], dtype=float32), array([37], dtype=int64))\n",
      "(array([33.706112], dtype=float32), array([9], dtype=int64))\n",
      "(array([33.068615], dtype=float32), array([44], dtype=int64))\n",
      "(array([64.29549], dtype=float32), array([69], dtype=int64))\n",
      "(array([2.7696984], dtype=float32), array([3], dtype=int64))\n",
      "(array([2.8801274], dtype=float32), array([4], dtype=int64))\n",
      "(array([3.6101453], dtype=float32), array([3], dtype=int64))\n",
      "(array([5.648757], dtype=float32), array([4], dtype=int64))\n",
      "(array([44.14992], dtype=float32), array([75], dtype=int64))\n",
      "(array([37.31714], dtype=float32), array([36], dtype=int64))\n",
      "(array([29.335785], dtype=float32), array([31], dtype=int64))\n",
      "(array([11.690826], dtype=float32), array([10], dtype=int64))\n",
      "(array([40.964775], dtype=float32), array([28], dtype=int64))\n",
      "(array([6.9016848], dtype=float32), array([5], dtype=int64))\n",
      "(array([29.702206], dtype=float32), array([34], dtype=int64))\n",
      "(array([29.28916], dtype=float32), array([21], dtype=int64))\n",
      "(array([2.82579], dtype=float32), array([3], dtype=int64))\n",
      "(array([3.8729374], dtype=float32), array([7], dtype=int64))\n",
      "(array([83.23069], dtype=float32), array([87], dtype=int64))\n",
      "(array([2.7982123], dtype=float32), array([0], dtype=int64))\n",
      "(array([7.2343287], dtype=float32), array([5], dtype=int64))\n",
      "(array([83.50321], dtype=float32), array([63], dtype=int64))\n",
      "(array([7.1991563], dtype=float32), array([8], dtype=int64))\n",
      "(array([33.38415], dtype=float32), array([38], dtype=int64))\n",
      "(array([11.720685], dtype=float32), array([13], dtype=int64))\n",
      "(array([7.01187], dtype=float32), array([6], dtype=int64))\n",
      "(array([5.909732], dtype=float32), array([9], dtype=int64))\n",
      "(array([25.723244], dtype=float32), array([20], dtype=int64))\n",
      "(array([36.28905], dtype=float32), array([36], dtype=int64))\n",
      "(array([11.883541], dtype=float32), array([11], dtype=int64))\n",
      "(array([4.4402666], dtype=float32), array([4], dtype=int64))\n",
      "(array([7.2440443], dtype=float32), array([8], dtype=int64))\n",
      "(array([34.578453], dtype=float32), array([6], dtype=int64))\n",
      "(array([32.145508], dtype=float32), array([46], dtype=int64))\n",
      "(array([37.377853], dtype=float32), array([32], dtype=int64))\n",
      "(array([60.285362], dtype=float32), array([86], dtype=int64))\n",
      "(array([6.148486], dtype=float32), array([7], dtype=int64))\n",
      "(array([35.215485], dtype=float32), array([39], dtype=int64))\n",
      "(array([3.4213562], dtype=float32), array([2], dtype=int64))\n",
      "(array([44.24032], dtype=float32), array([57], dtype=int64))\n",
      "(array([139.72993], dtype=float32), array([159], dtype=int64))\n",
      "(array([30.727274], dtype=float32), array([43], dtype=int64))\n",
      "(array([30.732262], dtype=float32), array([32], dtype=int64))\n",
      "(array([42.342094], dtype=float32), array([31], dtype=int64))\n",
      "(array([25.815723], dtype=float32), array([22], dtype=int64))\n",
      "(array([4.162539], dtype=float32), array([2], dtype=int64))\n",
      "(array([34.24734], dtype=float32), array([28], dtype=int64))\n",
      "(array([35.59391], dtype=float32), array([38], dtype=int64))\n",
      "(array([2.4037132], dtype=float32), array([0], dtype=int64))\n",
      "(array([2.0702248], dtype=float32), array([5], dtype=int64))\n",
      "(array([2.5190654], dtype=float32), array([3], dtype=int64))\n",
      "(array([5.796856], dtype=float32), array([4], dtype=int64))\n",
      "(array([74.18018], dtype=float32), array([65], dtype=int64))\n",
      "(array([59.285156], dtype=float32), array([60], dtype=int64))\n",
      "(array([33.25767], dtype=float32), array([34], dtype=int64))\n",
      "(array([36.185623], dtype=float32), array([73], dtype=int64))\n",
      "(array([5.7077603], dtype=float32), array([3], dtype=int64))\n",
      "(array([5.837627], dtype=float32), array([5], dtype=int64))\n",
      "(array([32.771233], dtype=float32), array([28], dtype=int64))\n",
      "(array([9.811353], dtype=float32), array([7], dtype=int64))\n",
      "(array([16.397766], dtype=float32), array([15], dtype=int64))\n",
      "(array([6.1738706], dtype=float32), array([5], dtype=int64))\n",
      "(array([67.524635], dtype=float32), array([75], dtype=int64))\n",
      "(array([6.8792605], dtype=float32), array([9], dtype=int64))\n",
      "(array([37.013386], dtype=float32), array([52], dtype=int64))\n",
      "(array([36.524708], dtype=float32), array([9], dtype=int64))\n",
      "(array([1.8490111], dtype=float32), array([5], dtype=int64))\n",
      "(array([3.4284163], dtype=float32), array([3], dtype=int64))\n",
      "(array([2.7389927], dtype=float32), array([3], dtype=int64))\n",
      "(array([6.257051], dtype=float32), array([8], dtype=int64))\n",
      "(array([6.381532], dtype=float32), array([8], dtype=int64))\n",
      "(array([49.737587], dtype=float32), array([69], dtype=int64))\n",
      "(array([30.115818], dtype=float32), array([15], dtype=int64))\n",
      "(array([38.692055], dtype=float32), array([25], dtype=int64))\n",
      "(array([2.6869712], dtype=float32), array([8], dtype=int64))\n",
      "(array([36.728798], dtype=float32), array([37], dtype=int64))\n",
      "(array([37.051903], dtype=float32), array([52], dtype=int64))\n",
      "(array([32.832737], dtype=float32), array([28], dtype=int64))\n",
      "(array([5.915044], dtype=float32), array([4], dtype=int64))\n",
      "(array([37.483696], dtype=float32), array([48], dtype=int64))\n",
      "(array([29.634119], dtype=float32), array([31], dtype=int64))\n",
      "(array([28.022993], dtype=float32), array([24], dtype=int64))\n",
      "(array([1.9274995], dtype=float32), array([2], dtype=int64))\n",
      "(array([11.472255], dtype=float32), array([10], dtype=int64))\n",
      "(array([27.272566], dtype=float32), array([24], dtype=int64))\n",
      "(array([41.881485], dtype=float32), array([39], dtype=int64))\n",
      "(array([3.3694763], dtype=float32), array([5], dtype=int64))\n",
      "(array([35.632977], dtype=float32), array([31], dtype=int64))\n",
      "(array([6.8167825], dtype=float32), array([6], dtype=int64))\n",
      "(array([32.61262], dtype=float32), array([26], dtype=int64))\n",
      "(array([32.46024], dtype=float32), array([28], dtype=int64))\n",
      "(array([37.34597], dtype=float32), array([45], dtype=int64))\n",
      "(array([3.5825841], dtype=float32), array([1], dtype=int64))\n",
      "(array([60.710423], dtype=float32), array([65], dtype=int64))\n",
      "(array([57.05441], dtype=float32), array([68], dtype=int64))\n",
      "(array([5.563147], dtype=float32), array([5], dtype=int64))\n",
      "(array([39.53751], dtype=float32), array([49], dtype=int64))\n",
      "(array([6.7199845], dtype=float32), array([9], dtype=int64))\n",
      "(array([27.414965], dtype=float32), array([32], dtype=int64))\n",
      "(array([62.855804], dtype=float32), array([65], dtype=int64))\n",
      "(array([34.430622], dtype=float32), array([49], dtype=int64))\n",
      "(array([55.138775], dtype=float32), array([49], dtype=int64))\n",
      "(array([4.0060925], dtype=float32), array([1], dtype=int64))\n",
      "(array([7.893302], dtype=float32), array([8], dtype=int64))\n",
      "(array([33.613247], dtype=float32), array([56], dtype=int64))\n",
      "(array([44.35044], dtype=float32), array([72], dtype=int64))\n",
      "(array([50.022102], dtype=float32), array([69], dtype=int64))\n",
      "(array([34.36016], dtype=float32), array([25], dtype=int64))\n",
      "(array([62.630085], dtype=float32), array([37], dtype=int64))\n",
      "(array([7.4258413], dtype=float32), array([9], dtype=int64))\n",
      "(array([14.416783], dtype=float32), array([15], dtype=int64))\n",
      "(array([6.13516], dtype=float32), array([10], dtype=int64))\n",
      "(array([30.984812], dtype=float32), array([30], dtype=int64))\n",
      "(array([7.4539285], dtype=float32), array([10], dtype=int64))\n",
      "(array([2.1242254], dtype=float32), array([3], dtype=int64))\n",
      "(array([31.968126], dtype=float32), array([36], dtype=int64))\n",
      "(array([39.840027], dtype=float32), array([33], dtype=int64))\n",
      "(array([3.0187123], dtype=float32), array([3], dtype=int64))\n",
      "(array([38.536423], dtype=float32), array([42], dtype=int64))\n",
      "(array([7.8802752], dtype=float32), array([4], dtype=int64))\n",
      "(array([36.059597], dtype=float32), array([29], dtype=int64))\n",
      "(array([2.6583097], dtype=float32), array([0], dtype=int64))\n",
      "(array([7.783205], dtype=float32), array([7], dtype=int64))\n",
      "(array([6.6619368], dtype=float32), array([5], dtype=int64))\n",
      "(array([42.706974], dtype=float32), array([38], dtype=int64))\n",
      "(array([4.7458963], dtype=float32), array([2], dtype=int64))\n",
      "(array([8.129086], dtype=float32), array([10], dtype=int64))\n",
      "(array([22.086134], dtype=float32), array([26], dtype=int64))\n",
      "(array([41.163475], dtype=float32), array([22], dtype=int64))\n",
      "(array([29.393677], dtype=float32), array([12], dtype=int64))\n",
      "(array([35.64903], dtype=float32), array([31], dtype=int64))\n",
      "(array([3.920909], dtype=float32), array([4], dtype=int64))\n",
      "(array([6.7611165], dtype=float32), array([7], dtype=int64))\n",
      "(array([77.730865], dtype=float32), array([100], dtype=int64))\n",
      "(array([2.2966764], dtype=float32), array([2], dtype=int64))\n",
      "(array([51.58536], dtype=float32), array([29], dtype=int64))\n",
      "(array([39.978626], dtype=float32), array([52], dtype=int64))\n",
      "(array([5.015835], dtype=float32), array([5], dtype=int64))\n",
      "(array([6.358562], dtype=float32), array([5], dtype=int64))\n",
      "(array([36.8486], dtype=float32), array([34], dtype=int64))\n",
      "(array([1.9944768], dtype=float32), array([2], dtype=int64))\n",
      "(array([3.6775339], dtype=float32), array([4], dtype=int64))\n",
      "(array([37.926003], dtype=float32), array([19], dtype=int64))\n",
      "(array([38.650486], dtype=float32), array([59], dtype=int64))\n",
      "(array([35.182217], dtype=float32), array([39], dtype=int64))\n",
      "(array([19.866278], dtype=float32), array([11], dtype=int64))\n",
      "(array([5.637123], dtype=float32), array([6], dtype=int64))\n",
      "(array([35.736217], dtype=float32), array([31], dtype=int64))\n",
      "(array([10.674472], dtype=float32), array([15], dtype=int64))\n",
      "(array([3.0194414], dtype=float32), array([1], dtype=int64))\n",
      "(array([4.933244], dtype=float32), array([5], dtype=int64))\n",
      "(array([52.461838], dtype=float32), array([62], dtype=int64))\n",
      "(array([57.188152], dtype=float32), array([67], dtype=int64))\n",
      "(array([4.134159], dtype=float32), array([2], dtype=int64))\n",
      "(array([25.236574], dtype=float32), array([31], dtype=int64))\n",
      "(array([41.424557], dtype=float32), array([23], dtype=int64))\n",
      "(array([30.124556], dtype=float32), array([28], dtype=int64))\n",
      "(array([37.69943], dtype=float32), array([46], dtype=int64))\n",
      "(array([42.017963], dtype=float32), array([40], dtype=int64))\n",
      "(array([2.0095603], dtype=float32), array([5], dtype=int64))\n",
      "(array([28.95135], dtype=float32), array([48], dtype=int64))\n",
      "(array([52.655518], dtype=float32), array([48], dtype=int64))\n",
      "(array([45.309254], dtype=float32), array([57], dtype=int64))\n",
      "(array([30.855452], dtype=float32), array([31], dtype=int64))\n",
      "(array([2.7630918], dtype=float32), array([1], dtype=int64))\n",
      "(array([37.812214], dtype=float32), array([24], dtype=int64))\n",
      "(array([7.472394], dtype=float32), array([5], dtype=int64))\n",
      "(array([2.2951293], dtype=float32), array([4], dtype=int64))\n",
      "(array([5.440742], dtype=float32), array([5], dtype=int64))\n",
      "(array([31.904205], dtype=float32), array([53], dtype=int64))\n",
      "(array([4.318534], dtype=float32), array([3], dtype=int64))\n",
      "(array([3.1552393], dtype=float32), array([4], dtype=int64))\n",
      "(array([7.8272643], dtype=float32), array([8], dtype=int64))\n",
      "(array([34.440605], dtype=float32), array([31], dtype=int64))\n",
      "(array([40.345146], dtype=float32), array([26], dtype=int64))\n",
      "(array([42.23366], dtype=float32), array([35], dtype=int64))\n",
      "(array([40.830547], dtype=float32), array([26], dtype=int64))\n",
      "(array([11.228198], dtype=float32), array([11], dtype=int64))\n",
      "(array([4.215395], dtype=float32), array([1], dtype=int64))\n",
      "(array([6.5139956], dtype=float32), array([5], dtype=int64))\n",
      "(array([7.223246], dtype=float32), array([6], dtype=int64))\n",
      "(array([32.3868], dtype=float32), array([24], dtype=int64))\n",
      "(array([79.28623], dtype=float32), array([85], dtype=int64))\n",
      "(array([36.6596], dtype=float32), array([19], dtype=int64))\n",
      "(array([3.4533463], dtype=float32), array([4], dtype=int64))\n",
      "(array([43.910484], dtype=float32), array([56], dtype=int64))\n",
      "(array([25.492971], dtype=float32), array([20], dtype=int64))\n",
      "(array([39.400993], dtype=float32), array([58], dtype=int64))\n",
      "(array([1.7744784], dtype=float32), array([1], dtype=int64))\n",
      "(array([28.28541], dtype=float32), array([38], dtype=int64))\n",
      "(array([5.230436], dtype=float32), array([8], dtype=int64))\n",
      "(array([6.0633774], dtype=float32), array([5], dtype=int64))\n",
      "(array([33.768246], dtype=float32), array([30], dtype=int64))\n",
      "(array([6.685218], dtype=float32), array([6], dtype=int64))\n",
      "(array([10.049315], dtype=float32), array([10], dtype=int64))\n",
      "(array([6.0623846], dtype=float32), array([5], dtype=int64))\n",
      "(array([6.150588], dtype=float32), array([1], dtype=int64))\n",
      "(array([6.6856027], dtype=float32), array([5], dtype=int64))\n",
      "(array([38.29667], dtype=float32), array([29], dtype=int64))\n",
      "(array([41.654224], dtype=float32), array([33], dtype=int64))\n",
      "(array([3.719048], dtype=float32), array([0], dtype=int64))\n",
      "(array([6.3919945], dtype=float32), array([7], dtype=int64))\n",
      "(array([45.296867], dtype=float32), array([45], dtype=int64))\n",
      "(array([3.6198158], dtype=float32), array([7], dtype=int64))\n",
      "(array([39.50575], dtype=float32), array([26], dtype=int64))\n",
      "(array([34.13487], dtype=float32), array([39], dtype=int64))\n",
      "(array([27.34181], dtype=float32), array([21], dtype=int64))\n"
     ]
    },
    {
     "name": "stdout",
     "output_type": "stream",
     "text": [
      "(array([39.980724], dtype=float32), array([42], dtype=int64))\n",
      "(array([20.55653], dtype=float32), array([9], dtype=int64))\n",
      "(array([37.017666], dtype=float32), array([24], dtype=int64))\n",
      "(array([56.21394], dtype=float32), array([40], dtype=int64))\n",
      "(array([26.860104], dtype=float32), array([19], dtype=int64))\n",
      "(array([18.10105], dtype=float32), array([14], dtype=int64))\n",
      "(array([19.775494], dtype=float32), array([22], dtype=int64))\n",
      "(array([5.379081], dtype=float32), array([14], dtype=int64))\n",
      "(array([35.216114], dtype=float32), array([41], dtype=int64))\n",
      "(array([34.923065], dtype=float32), array([44], dtype=int64))\n",
      "(array([7.005233], dtype=float32), array([10], dtype=int64))\n",
      "(array([18.480503], dtype=float32), array([15], dtype=int64))\n",
      "(array([3.7153199], dtype=float32), array([3], dtype=int64))\n",
      "(array([7.044102], dtype=float32), array([13], dtype=int64))\n",
      "(array([7.9171367], dtype=float32), array([5], dtype=int64))\n",
      "(array([7.512752], dtype=float32), array([8], dtype=int64))\n",
      "(array([35.114136], dtype=float32), array([41], dtype=int64))\n",
      "(array([36.793797], dtype=float32), array([34], dtype=int64))\n",
      "(array([41.199734], dtype=float32), array([40], dtype=int64))\n",
      "(array([2.8105745], dtype=float32), array([0], dtype=int64))\n",
      "(array([36.897297], dtype=float32), array([33], dtype=int64))\n",
      "(array([6.968086], dtype=float32), array([7], dtype=int64))\n",
      "(array([2.5220597], dtype=float32), array([0], dtype=int64))\n",
      "(array([2.248471], dtype=float32), array([2], dtype=int64))\n",
      "(array([6.704754], dtype=float32), array([10], dtype=int64))\n",
      "(array([21.326857], dtype=float32), array([20], dtype=int64))\n",
      "(array([3.26775], dtype=float32), array([6], dtype=int64))\n",
      "(array([39.263893], dtype=float32), array([54], dtype=int64))\n",
      "(array([6.93068], dtype=float32), array([8], dtype=int64))\n",
      "(array([11.710735], dtype=float32), array([9], dtype=int64))\n",
      "(array([5.6804814], dtype=float32), array([13], dtype=int64))\n",
      "(array([7.5568113], dtype=float32), array([6], dtype=int64))\n",
      "(array([53.32967], dtype=float32), array([46], dtype=int64))\n",
      "(array([7.15872], dtype=float32), array([6], dtype=int64))\n",
      "(array([24.828405], dtype=float32), array([29], dtype=int64))\n",
      "(array([9.679443], dtype=float32), array([8], dtype=int64))\n",
      "(array([31.14518], dtype=float32), array([38], dtype=int64))\n",
      "(array([40.792896], dtype=float32), array([32], dtype=int64))\n",
      "(array([5.128733], dtype=float32), array([10], dtype=int64))\n",
      "(array([7.577341], dtype=float32), array([8], dtype=int64))\n",
      "(array([7.545029], dtype=float32), array([6], dtype=int64))\n",
      "(array([3.947292], dtype=float32), array([4], dtype=int64))\n",
      "(array([3.8600903], dtype=float32), array([9], dtype=int64))\n",
      "(array([34.617207], dtype=float32), array([14], dtype=int64))\n",
      "(array([35.628426], dtype=float32), array([37], dtype=int64))\n",
      "(array([11.050467], dtype=float32), array([6], dtype=int64))\n",
      "(array([1.7085273], dtype=float32), array([0], dtype=int64))\n",
      "(array([10.679742], dtype=float32), array([14], dtype=int64))\n",
      "(array([32.99963], dtype=float32), array([32], dtype=int64))\n",
      "(array([35.576973], dtype=float32), array([45], dtype=int64))\n",
      "(array([39.18838], dtype=float32), array([35], dtype=int64))\n",
      "(array([12.135009], dtype=float32), array([14], dtype=int64))\n",
      "(array([35.252964], dtype=float32), array([44], dtype=int64))\n",
      "(array([5.7062373], dtype=float32), array([6], dtype=int64))\n",
      "(array([2.2112863], dtype=float32), array([5], dtype=int64))\n",
      "(array([7.718117], dtype=float32), array([6], dtype=int64))\n",
      "(array([9.9660635], dtype=float32), array([9], dtype=int64))\n",
      "(array([31.061157], dtype=float32), array([46], dtype=int64))\n",
      "(array([2.5534968], dtype=float32), array([5], dtype=int64))\n",
      "(array([36.47388], dtype=float32), array([26], dtype=int64))\n",
      "(array([78.33821], dtype=float32), array([80], dtype=int64))\n",
      "(array([37.604977], dtype=float32), array([30], dtype=int64))\n",
      "(array([26.326855], dtype=float32), array([33], dtype=int64))\n",
      "(array([7.3888674], dtype=float32), array([10], dtype=int64))\n",
      "(array([24.183243], dtype=float32), array([25], dtype=int64))\n",
      "(array([29.649315], dtype=float32), array([26], dtype=int64))\n",
      "(array([6.9847064], dtype=float32), array([8], dtype=int64))\n",
      "(array([6.9338827], dtype=float32), array([10], dtype=int64))\n",
      "(array([69.64024], dtype=float32), array([66], dtype=int64))\n",
      "(array([1.9193758], dtype=float32), array([4], dtype=int64))\n",
      "(array([18.800179], dtype=float32), array([10], dtype=int64))\n",
      "(array([39.445225], dtype=float32), array([54], dtype=int64))\n",
      "(array([3.4661963], dtype=float32), array([3], dtype=int64))\n",
      "(array([33.415604], dtype=float32), array([33], dtype=int64))\n",
      "(array([53.9933], dtype=float32), array([42], dtype=int64))\n",
      "(array([2.5571325], dtype=float32), array([4], dtype=int64))\n",
      "(array([29.404085], dtype=float32), array([36], dtype=int64))\n",
      "(array([40.974922], dtype=float32), array([41], dtype=int64))\n",
      "(array([6.3615656], dtype=float32), array([10], dtype=int64))\n",
      "(array([3.051439], dtype=float32), array([4], dtype=int64))\n",
      "(array([11.271988], dtype=float32), array([4], dtype=int64))\n",
      "(array([3.648048], dtype=float32), array([6], dtype=int64))\n",
      "(array([10.605704], dtype=float32), array([10], dtype=int64))\n",
      "(array([20.32475], dtype=float32), array([20], dtype=int64))\n",
      "(array([6.222881], dtype=float32), array([6], dtype=int64))\n",
      "(array([3.382751], dtype=float32), array([1], dtype=int64))\n",
      "(array([30.35615], dtype=float32), array([24], dtype=int64))\n",
      "(array([6.365703], dtype=float32), array([8], dtype=int64))\n",
      "(array([2.319402], dtype=float32), array([1], dtype=int64))\n",
      "(array([6.913841], dtype=float32), array([7], dtype=int64))\n",
      "(array([64.51293], dtype=float32), array([65], dtype=int64))\n",
      "(array([3.4343545], dtype=float32), array([5], dtype=int64))\n",
      "(array([5.2121134], dtype=float32), array([11], dtype=int64))\n",
      "(array([6.507271], dtype=float32), array([3], dtype=int64))\n",
      "(array([6.1202917], dtype=float32), array([5], dtype=int64))\n",
      "(array([15.135352], dtype=float32), array([13], dtype=int64))\n",
      "(array([28.314268], dtype=float32), array([20], dtype=int64))\n",
      "(array([1.044885], dtype=float32), array([4], dtype=int64))\n",
      "(array([3.2535007], dtype=float32), array([3], dtype=int64))\n",
      "(array([6.8811917], dtype=float32), array([5], dtype=int64))\n",
      "(array([42.68891], dtype=float32), array([35], dtype=int64))\n",
      "(array([38.24231], dtype=float32), array([29], dtype=int64))\n",
      "(array([5.409377], dtype=float32), array([1], dtype=int64))\n",
      "(array([29.741085], dtype=float32), array([39], dtype=int64))\n",
      "(array([6.4203024], dtype=float32), array([10], dtype=int64))\n",
      "(array([3.8846648], dtype=float32), array([6], dtype=int64))\n",
      "(array([82.70101], dtype=float32), array([97], dtype=int64))\n",
      "(array([5.6816792], dtype=float32), array([9], dtype=int64))\n",
      "(array([6.1145062], dtype=float32), array([3], dtype=int64))\n",
      "(array([60.83029], dtype=float32), array([23], dtype=int64))\n",
      "(array([6.103782], dtype=float32), array([1], dtype=int64))\n",
      "(array([6.7184196], dtype=float32), array([5], dtype=int64))\n",
      "(array([3.0027535], dtype=float32), array([5], dtype=int64))\n",
      "(array([7.0859513], dtype=float32), array([5], dtype=int64))\n",
      "(array([2.3716981], dtype=float32), array([5], dtype=int64))\n",
      "(array([10.599954], dtype=float32), array([17], dtype=int64))\n",
      "(array([30.582912], dtype=float32), array([39], dtype=int64))\n",
      "(array([4.074693], dtype=float32), array([4], dtype=int64))\n",
      "(array([3.6994023], dtype=float32), array([4], dtype=int64))\n",
      "(array([6.7381473], dtype=float32), array([10], dtype=int64))\n",
      "(array([3.7489846], dtype=float32), array([1], dtype=int64))\n",
      "(array([7.5882087], dtype=float32), array([6], dtype=int64))\n",
      "(array([1.9800104], dtype=float32), array([3], dtype=int64))\n",
      "(array([6.397081], dtype=float32), array([12], dtype=int64))\n",
      "(array([33.983124], dtype=float32), array([37], dtype=int64))\n",
      "(array([12.097213], dtype=float32), array([28], dtype=int64))\n",
      "(array([14.093897], dtype=float32), array([13], dtype=int64))\n",
      "(array([7.639595], dtype=float32), array([5], dtype=int64))\n",
      "(array([56.66294], dtype=float32), array([58], dtype=int64))\n",
      "(array([2.6122682], dtype=float32), array([4], dtype=int64))\n",
      "(array([2.0784872], dtype=float32), array([0], dtype=int64))\n",
      "(array([3.043429], dtype=float32), array([2], dtype=int64))\n",
      "(array([6.3935513], dtype=float32), array([9], dtype=int64))\n",
      "(array([29.402079], dtype=float32), array([33], dtype=int64))\n",
      "(array([5.4333143], dtype=float32), array([0], dtype=int64))\n",
      "(array([5.8381968], dtype=float32), array([7], dtype=int64))\n",
      "(array([4.458802], dtype=float32), array([9], dtype=int64))\n",
      "(array([12.466553], dtype=float32), array([13], dtype=int64))\n",
      "(array([34.838535], dtype=float32), array([35], dtype=int64))\n",
      "(array([4.614243], dtype=float32), array([9], dtype=int64))\n",
      "(array([34.98828], dtype=float32), array([32], dtype=int64))\n",
      "(array([42.076553], dtype=float32), array([36], dtype=int64))\n",
      "(array([15.402233], dtype=float32), array([17], dtype=int64))\n",
      "(array([25.35019], dtype=float32), array([27], dtype=int64))\n",
      "(array([3.7742665], dtype=float32), array([3], dtype=int64))\n",
      "(array([6.0556436], dtype=float32), array([5], dtype=int64))\n",
      "(array([7.587416], dtype=float32), array([7], dtype=int64))\n",
      "(array([34.941353], dtype=float32), array([74], dtype=int64))\n",
      "(array([32.913334], dtype=float32), array([65], dtype=int64))\n",
      "(array([51.97073], dtype=float32), array([59], dtype=int64))\n",
      "(array([1.4007444], dtype=float32), array([0], dtype=int64))\n",
      "(array([37.600597], dtype=float32), array([51], dtype=int64))\n",
      "(array([2.638035], dtype=float32), array([4], dtype=int64))\n",
      "(array([27.913027], dtype=float32), array([31], dtype=int64))\n",
      "(array([10.042669], dtype=float32), array([5], dtype=int64))\n",
      "(array([29.095457], dtype=float32), array([49], dtype=int64))\n",
      "(array([3.7205307], dtype=float32), array([5], dtype=int64))\n",
      "(array([7.3833647], dtype=float32), array([1], dtype=int64))\n",
      "(array([2.887901], dtype=float32), array([6], dtype=int64))\n",
      "(array([7.5829587], dtype=float32), array([8], dtype=int64))\n",
      "(array([3.795028], dtype=float32), array([4], dtype=int64))\n",
      "(array([3.5584872], dtype=float32), array([2], dtype=int64))\n",
      "(array([4.157796], dtype=float32), array([2], dtype=int64))\n",
      "(array([35.913784], dtype=float32), array([55], dtype=int64))\n",
      "(array([2.7438793], dtype=float32), array([6], dtype=int64))\n",
      "(array([7.6405387], dtype=float32), array([10], dtype=int64))\n",
      "(array([40.549725], dtype=float32), array([46], dtype=int64))\n",
      "(array([5.2495127], dtype=float32), array([3], dtype=int64))\n",
      "(array([4.9126906], dtype=float32), array([2], dtype=int64))\n",
      "(array([58.468155], dtype=float32), array([82], dtype=int64))\n",
      "(array([3.161855], dtype=float32), array([5], dtype=int64))\n",
      "(array([4.116563], dtype=float32), array([1], dtype=int64))\n",
      "(array([61.4154], dtype=float32), array([80], dtype=int64))\n",
      "(array([4.7334924], dtype=float32), array([5], dtype=int64))\n",
      "(array([25.680288], dtype=float32), array([33], dtype=int64))\n",
      "(array([31.660812], dtype=float32), array([28], dtype=int64))\n",
      "(array([26.462362], dtype=float32), array([21], dtype=int64))\n",
      "(array([5.6696053], dtype=float32), array([13], dtype=int64))\n",
      "(array([39.515694], dtype=float32), array([20], dtype=int64))\n",
      "(array([2.6687255], dtype=float32), array([8], dtype=int64))\n",
      "(array([5.53248], dtype=float32), array([5], dtype=int64))\n",
      "(array([6.9677334], dtype=float32), array([8], dtype=int64))\n",
      "(array([54.22113], dtype=float32), array([49], dtype=int64))\n",
      "(array([39.315983], dtype=float32), array([38], dtype=int64))\n",
      "(array([35.57335], dtype=float32), array([5], dtype=int64))\n",
      "(array([26.228344], dtype=float32), array([40], dtype=int64))\n",
      "(array([17.789467], dtype=float32), array([23], dtype=int64))\n",
      "(array([25.541267], dtype=float32), array([55], dtype=int64))\n",
      "(array([41.107666], dtype=float32), array([39], dtype=int64))\n",
      "(array([41.80694], dtype=float32), array([65], dtype=int64))\n",
      "(array([66.716354], dtype=float32), array([101], dtype=int64))\n",
      "(array([11.476041], dtype=float32), array([15], dtype=int64))\n",
      "(array([2.0744948], dtype=float32), array([2], dtype=int64))\n",
      "(array([27.871323], dtype=float32), array([28], dtype=int64))\n",
      "(array([37.662766], dtype=float32), array([45], dtype=int64))\n",
      "(array([5.4954443], dtype=float32), array([8], dtype=int64))\n",
      "(array([34.593555], dtype=float32), array([51], dtype=int64))\n",
      "(array([2.9261734], dtype=float32), array([5], dtype=int64))\n",
      "(array([41.856686], dtype=float32), array([42], dtype=int64))\n",
      "(array([34.42759], dtype=float32), array([71], dtype=int64))\n",
      "(array([6.261055], dtype=float32), array([12], dtype=int64))\n",
      "(array([43.990513], dtype=float32), array([43], dtype=int64))\n",
      "(array([9.976352], dtype=float32), array([14], dtype=int64))\n",
      "(array([2.473408], dtype=float32), array([3], dtype=int64))\n",
      "(array([33.775246], dtype=float32), array([28], dtype=int64))\n",
      "(array([7.94914], dtype=float32), array([8], dtype=int64))\n",
      "(array([28.420046], dtype=float32), array([61], dtype=int64))\n",
      "(array([4.218035], dtype=float32), array([0], dtype=int64))\n",
      "(array([2.9619534], dtype=float32), array([3], dtype=int64))\n",
      "(array([2.2394493], dtype=float32), array([5], dtype=int64))\n",
      "(array([33.04122], dtype=float32), array([75], dtype=int64))\n",
      "(array([37.873062], dtype=float32), array([59], dtype=int64))\n",
      "(array([35.07577], dtype=float32), array([47], dtype=int64))\n",
      "(array([50.755707], dtype=float32), array([44], dtype=int64))\n",
      "(array([6.88363], dtype=float32), array([4], dtype=int64))\n",
      "(array([1.9236798], dtype=float32), array([1], dtype=int64))\n",
      "(array([37.347683], dtype=float32), array([26], dtype=int64))\n",
      "(array([13.983096], dtype=float32), array([8], dtype=int64))\n",
      "(array([36.720627], dtype=float32), array([30], dtype=int64))\n",
      "(array([5.9622555], dtype=float32), array([5], dtype=int64))\n",
      "(array([16.050947], dtype=float32), array([3], dtype=int64))\n",
      "(array([44.885204], dtype=float32), array([11], dtype=int64))\n",
      "(array([2.2445524], dtype=float32), array([5], dtype=int64))\n",
      "(array([4.321544], dtype=float32), array([5], dtype=int64))\n",
      "(array([39.367928], dtype=float32), array([43], dtype=int64))\n",
      "(array([42.275745], dtype=float32), array([29], dtype=int64))\n",
      "(array([2.1954596], dtype=float32), array([3], dtype=int64))\n",
      "(array([15.559767], dtype=float32), array([18], dtype=int64))\n",
      "(array([7.2008204], dtype=float32), array([5], dtype=int64))\n",
      "(array([7.1770363], dtype=float32), array([5], dtype=int64))\n",
      "(array([7.8768578], dtype=float32), array([10], dtype=int64))\n",
      "(array([39.35224], dtype=float32), array([41], dtype=int64))\n",
      "(array([3.7752597], dtype=float32), array([5], dtype=int64))\n",
      "(array([6.7244406], dtype=float32), array([7], dtype=int64))\n",
      "(array([20.665312], dtype=float32), array([24], dtype=int64))\n",
      "(array([30.411589], dtype=float32), array([37], dtype=int64))\n",
      "(array([77.722466], dtype=float32), array([73], dtype=int64))\n",
      "(array([45.72127], dtype=float32), array([50], dtype=int64))\n",
      "(array([20.496302], dtype=float32), array([22], dtype=int64))\n",
      "(array([7.2238474], dtype=float32), array([9], dtype=int64))\n",
      "(array([7.5801215], dtype=float32), array([1], dtype=int64))\n",
      "(array([10.86589], dtype=float32), array([11], dtype=int64))\n",
      "(array([11.797405], dtype=float32), array([9], dtype=int64))\n",
      "(array([6.808717], dtype=float32), array([10], dtype=int64))\n",
      "(array([45.36377], dtype=float32), array([55], dtype=int64))\n",
      "(array([29.99309], dtype=float32), array([28], dtype=int64))\n",
      "(array([5.8625207], dtype=float32), array([4], dtype=int64))\n",
      "(array([35.232388], dtype=float32), array([36], dtype=int64))\n",
      "(array([23.398561], dtype=float32), array([12], dtype=int64))\n",
      "(array([37.214355], dtype=float32), array([14], dtype=int64))\n",
      "(array([20.14328], dtype=float32), array([21], dtype=int64))\n",
      "(array([78.9709], dtype=float32), array([69], dtype=int64))\n",
      "(array([5.312679], dtype=float32), array([7], dtype=int64))\n",
      "(array([32.55856], dtype=float32), array([30], dtype=int64))\n",
      "(array([2.2558072], dtype=float32), array([1], dtype=int64))\n",
      "(array([36.170715], dtype=float32), array([31], dtype=int64))\n",
      "(array([39.7528], dtype=float32), array([31], dtype=int64))\n",
      "(array([7.513587], dtype=float32), array([9], dtype=int64))\n",
      "(array([33.44738], dtype=float32), array([32], dtype=int64))\n",
      "(array([2.126719], dtype=float32), array([4], dtype=int64))\n",
      "(array([12.289119], dtype=float32), array([18], dtype=int64))\n",
      "(array([4.547095], dtype=float32), array([3], dtype=int64))\n",
      "(array([35.442818], dtype=float32), array([35], dtype=int64))\n",
      "(array([6.311859], dtype=float32), array([8], dtype=int64))\n",
      "(array([63.50718], dtype=float32), array([62], dtype=int64))\n",
      "(array([4.0908027], dtype=float32), array([4], dtype=int64))\n",
      "(array([2.6721408], dtype=float32), array([3], dtype=int64))\n",
      "(array([8.152943], dtype=float32), array([9], dtype=int64))\n",
      "(array([4.702847], dtype=float32), array([3], dtype=int64))\n",
      "(array([8.886249], dtype=float32), array([12], dtype=int64))\n",
      "(array([35.63974], dtype=float32), array([54], dtype=int64))\n",
      "(array([4.441853], dtype=float32), array([8], dtype=int64))\n",
      "(array([52.5764], dtype=float32), array([45], dtype=int64))\n",
      "(array([37.539124], dtype=float32), array([30], dtype=int64))\n",
      "(array([6.3080087], dtype=float32), array([10], dtype=int64))\n",
      "(array([31.2575], dtype=float32), array([41], dtype=int64))\n",
      "(array([38.96942], dtype=float32), array([40], dtype=int64))\n",
      "(array([35.71611], dtype=float32), array([30], dtype=int64))\n",
      "(array([61.722775], dtype=float32), array([50], dtype=int64))\n",
      "(array([7.4171762], dtype=float32), array([7], dtype=int64))\n",
      "(array([7.8368754], dtype=float32), array([9], dtype=int64))\n",
      "(array([2.6940258], dtype=float32), array([0], dtype=int64))\n",
      "(array([28.734638], dtype=float32), array([41], dtype=int64))\n",
      "(array([6.004641], dtype=float32), array([5], dtype=int64))\n",
      "(array([33.881657], dtype=float32), array([58], dtype=int64))\n",
      "(array([5.594651], dtype=float32), array([11], dtype=int64))\n",
      "(array([2.765149], dtype=float32), array([4], dtype=int64))\n",
      "(array([33.96873], dtype=float32), array([28], dtype=int64))\n",
      "(array([12.461901], dtype=float32), array([7], dtype=int64))\n",
      "(array([6.385706], dtype=float32), array([2], dtype=int64))\n",
      "(array([31.441576], dtype=float32), array([20], dtype=int64))\n",
      "(array([2.2833734], dtype=float32), array([4], dtype=int64))\n",
      "(array([7.576525], dtype=float32), array([6], dtype=int64))\n",
      "(array([4.1844187], dtype=float32), array([3], dtype=int64))\n",
      "(array([21.894257], dtype=float32), array([27], dtype=int64))\n",
      "(array([7.067822], dtype=float32), array([10], dtype=int64))\n",
      "(array([1.8184273], dtype=float32), array([4], dtype=int64))\n",
      "(array([5.263228], dtype=float32), array([5], dtype=int64))\n",
      "(array([34.526077], dtype=float32), array([40], dtype=int64))\n",
      "(array([14.532543], dtype=float32), array([18], dtype=int64))\n",
      "(array([26.822393], dtype=float32), array([32], dtype=int64))\n",
      "(array([41.212257], dtype=float32), array([41], dtype=int64))\n",
      "(array([4.3602066], dtype=float32), array([3], dtype=int64))\n",
      "(array([4.031487], dtype=float32), array([6], dtype=int64))\n",
      "(array([33.710007], dtype=float32), array([18], dtype=int64))\n",
      "(array([3.1578815], dtype=float32), array([3], dtype=int64))\n",
      "(array([34.823597], dtype=float32), array([20], dtype=int64))\n",
      "(array([6.2014904], dtype=float32), array([3], dtype=int64))\n",
      "(array([39.21685], dtype=float32), array([63], dtype=int64))\n",
      "(array([35.07265], dtype=float32), array([40], dtype=int64))\n",
      "(array([27.50354], dtype=float32), array([19], dtype=int64))\n",
      "(array([24.328262], dtype=float32), array([34], dtype=int64))\n",
      "(array([2.1915612], dtype=float32), array([3], dtype=int64))\n",
      "(array([43.145668], dtype=float32), array([65], dtype=int64))\n",
      "(array([35.804123], dtype=float32), array([15], dtype=int64))\n",
      "(array([33.89428], dtype=float32), array([34], dtype=int64))\n",
      "(array([7.648679], dtype=float32), array([6], dtype=int64))\n",
      "(array([1.7933677], dtype=float32), array([3], dtype=int64))\n",
      "(array([5.5577188], dtype=float32), array([7], dtype=int64))\n",
      "(array([10.764673], dtype=float32), array([12], dtype=int64))\n",
      "(array([42.95222], dtype=float32), array([43], dtype=int64))\n",
      "(array([2.0583587], dtype=float32), array([1], dtype=int64))\n",
      "(array([63.79732], dtype=float32), array([58], dtype=int64))\n",
      "(array([40.500343], dtype=float32), array([41], dtype=int64))\n",
      "(array([6.9496827], dtype=float32), array([10], dtype=int64))\n",
      "(array([11.039971], dtype=float32), array([6], dtype=int64))\n",
      "(array([2.233847], dtype=float32), array([3], dtype=int64))\n",
      "(array([9.590056], dtype=float32), array([15], dtype=int64))\n",
      "(array([27.01716], dtype=float32), array([16], dtype=int64))\n",
      "(array([27.176275], dtype=float32), array([31], dtype=int64))\n",
      "(array([2.3383317], dtype=float32), array([1], dtype=int64))\n",
      "(array([6.7588067], dtype=float32), array([3], dtype=int64))\n",
      "(array([32.867783], dtype=float32), array([23], dtype=int64))\n",
      "(array([54.23937], dtype=float32), array([40], dtype=int64))\n",
      "(array([3.533021], dtype=float32), array([0], dtype=int64))\n",
      "(array([25.698538], dtype=float32), array([25], dtype=int64))\n",
      "(array([42.854904], dtype=float32), array([57], dtype=int64))\n",
      "(array([11.953576], dtype=float32), array([12], dtype=int64))\n",
      "(array([6.878108], dtype=float32), array([5], dtype=int64))\n",
      "(array([37.24977], dtype=float32), array([47], dtype=int64))\n",
      "(array([27.013529], dtype=float32), array([21], dtype=int64))\n",
      "(array([26.195385], dtype=float32), array([35], dtype=int64))\n",
      "(array([2.5682695], dtype=float32), array([2], dtype=int64))\n",
      "(array([65.464806], dtype=float32), array([98], dtype=int64))\n",
      "(array([41.71407], dtype=float32), array([27], dtype=int64))\n",
      "(array([2.9858534], dtype=float32), array([3], dtype=int64))\n",
      "(array([3.6776447], dtype=float32), array([3], dtype=int64))\n",
      "(array([3.41503], dtype=float32), array([3], dtype=int64))\n",
      "(array([47.21304], dtype=float32), array([44], dtype=int64))\n",
      "(array([1.8329839], dtype=float32), array([4], dtype=int64))\n",
      "(array([3.6039076], dtype=float32), array([1], dtype=int64))\n",
      "(array([6.451101], dtype=float32), array([10], dtype=int64))\n",
      "(array([28.765308], dtype=float32), array([28], dtype=int64))\n",
      "(array([11.025645], dtype=float32), array([11], dtype=int64))\n",
      "(array([35.256268], dtype=float32), array([36], dtype=int64))\n",
      "(array([35.74768], dtype=float32), array([65], dtype=int64))\n",
      "(array([78.02735], dtype=float32), array([104], dtype=int64))\n",
      "(array([3.5914018], dtype=float32), array([3], dtype=int64))\n",
      "(array([7.798755], dtype=float32), array([8], dtype=int64))\n",
      "(array([39.09054], dtype=float32), array([37], dtype=int64))\n",
      "(array([54.452614], dtype=float32), array([63], dtype=int64))\n"
     ]
    }
   ],
   "source": [
    "from sklearn.metrics.pairwise import euclidean_distances\n",
    "preds = preds.reshape(-1 , 1)\n",
    "for points in zip(preds , y_test):\n",
    "    print(points)\n",
    "#euclidean_distances(preds.reshape(-1 , 1) , y_test.reshape(-1 , 1))"
   ]
  },
  {
   "cell_type": "code",
   "execution_count": 133,
   "metadata": {},
   "outputs": [
    {
     "data": {
      "image/png": "[encoded data removed]",
      "text/plain": [
       "<Figure size 7200x7200 with 1 Axes>"
      ]
     },
     "metadata": {
      "needs_background": "light"
     },
     "output_type": "display_data"
    }
   ],
   "source": [
    "import matplotlib.pyplot as plt\n",
    "plt.figure(figsize=(100, 100))\n",
    "plt.scatter(np.arange(0,len(preds)),preds,color='red')\n",
    "plt.scatter(np.arange(0,len(preds)),y_test,color='blue')\n",
    "plt.show()"
   ]
  },
  {
   "cell_type": "code",
   "execution_count": 80,
   "metadata": {},
   "outputs": [],
   "source": [
    "preds = np.round(preds)"
   ]
  },
  {
   "cell_type": "code",
   "execution_count": 81,
   "metadata": {},
   "outputs": [
    {
     "data": {
      "text/plain": [
       "array([[38.],\n",
       "       [35.],\n",
       "       [23.],\n",
       "       ...,\n",
       "       [ 7.],\n",
       "       [39.],\n",
       "       [71.]], dtype=float32)"
      ]
     },
     "execution_count": 81,
     "metadata": {},
     "output_type": "execute_result"
    }
   ],
   "source": [
    "preds"
   ]
  },
  {
   "cell_type": "code",
   "execution_count": 234,
   "metadata": {},
   "outputs": [
    {
     "data": {
      "image/png": "[encoded data removed]",
      "text/plain": [
       "<Figure size 432x288 with 1 Axes>"
      ]
     },
     "metadata": {
      "needs_background": "light"
     },
     "output_type": "display_data"
    }
   ],
   "source": [
    "from xgboost import plot_importance\n",
    "from matplotlib import pyplot\n",
    "plot_importance(model)\n",
    "pyplot.show()"
   ]
  }
 ],
 "metadata": {
  "kernelspec": {
   "display_name": "Python 3",
   "language": "python",
   "name": "python3"
  },
  "language_info": {
   "codemirror_mode": {
    "name": "ipython",
    "version": 3
   },
   "file_extension": ".py",
   "mimetype": "text/x-python",
   "name": "python",
   "nbconvert_exporter": "python",
   "pygments_lexer": "ipython3",
   "version": "3.8.3"
  }
 },
 "nbformat": 4,
 "nbformat_minor": 4
}
